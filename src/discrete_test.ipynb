{
 "cells": [
  {
   "cell_type": "code",
   "execution_count": 1,
   "id": "0efac8fd",
   "metadata": {},
   "outputs": [],
   "source": [
    "import functools\n",
    "\n",
    "import tqdm\n",
    "import equinox as eqx\n",
    "import jax\n",
    "\n",
    "jax.config.update(\"jax_enable_x64\", True)\n",
    "\n",
    "import jax.numpy as jnp\n",
    "import numpy as np\n",
    "import optax\n",
    "from jaxtyping import Array, PyTree, Float, Complex, PRNGKeyArray\n",
    "\n",
    "import netket as nk\n",
    "from netket.operator import FermionOperator2ndJax\n",
    "from netket.operator.fermion import destroy as c\n",
    "from netket.operator.fermion import create as cdag\n",
    "from netket.operator.fermion import number as nc\n",
    "\n",
    "import matplotlib.pyplot as plt\n",
    "\n",
    "from models.slaternet import SlaterNet\n",
    "from models.psi_solid import PsiSolid\n",
    "\n",
    "from systems.continuous import moire\n",
    "from utils.sampler import metropolis_hastings\n",
    "\n",
    "\n",
    "key = jax.random.key(42)"
   ]
  },
  {
   "cell_type": "code",
   "execution_count": 2,
   "id": "277adb5f",
   "metadata": {},
   "outputs": [],
   "source": [
    "@functools.partial(jax.jit, static_argnums=(1,))\n",
    "def nkstate_to_indexseq(\n",
    "    state, n_particles:int\n",
    ") -> jnp.ndarray:\n",
    "    return jnp.nonzero(state, size=n_particles)"
   ]
  },
  {
   "cell_type": "code",
   "execution_count": 3,
   "id": "3dd86e2b",
   "metadata": {},
   "outputs": [],
   "source": [
    "L = 12  # Side of the square\n",
    "graph = nk.graph.Chain(L)\n",
    "N = graph.n_nodes"
   ]
  },
  {
   "cell_type": "code",
   "execution_count": 4,
   "id": "f80b0a7f",
   "metadata": {},
   "outputs": [],
   "source": [
    "N_f = 4\n",
    "hi = nk.hilbert.SpinOrbitalFermions(N, s=1/2, n_fermions=N_f)"
   ]
  },
  {
   "cell_type": "code",
   "execution_count": 5,
   "id": "76da699c",
   "metadata": {},
   "outputs": [
    {
     "data": {
      "text/plain": [
       "(Array([20, 21, 22, 23], dtype=int64),)"
      ]
     },
     "execution_count": 5,
     "metadata": {},
     "output_type": "execute_result"
    }
   ],
   "source": [
    "states = (nkstate_to_indexseq(state, N_f) for state in hi.states())\n",
    "next(states)"
   ]
  },
  {
   "cell_type": "code",
   "execution_count": null,
   "id": "e72a9ace",
   "metadata": {},
   "outputs": [],
   "source": [
    "t = 1.0\n",
    "U = 4.0\n",
    "\n",
    "H = FermionOperator2ndJax(hi)\n",
    "for (i, j) in graph.edges():\n",
    "    for s in [-1, 1]:\n",
    "        H += -t * (cdag(hi, i, s) * c(hi, j, s) + cdag(hi, j, s) * c(hi, i, s))\n",
    "        \n",
    "for i in graph.nodes():\n",
    "    H += -U * nc(hi, i, 1) * nc(hi, i, -1)\n",
    "\n"
   ]
  }
 ],
 "metadata": {
  "kernelspec": {
   "display_name": "atten-wfn",
   "language": "python",
   "name": "python3"
  },
  "language_info": {
   "codemirror_mode": {
    "name": "ipython",
    "version": 3
   },
   "file_extension": ".py",
   "mimetype": "text/x-python",
   "name": "python",
   "nbconvert_exporter": "python",
   "pygments_lexer": "ipython3",
   "version": "3.12.9"
  }
 },
 "nbformat": 4,
 "nbformat_minor": 5
}
