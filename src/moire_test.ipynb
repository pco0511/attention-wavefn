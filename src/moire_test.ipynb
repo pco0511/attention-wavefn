{
 "cells": [
  {
   "cell_type": "code",
   "execution_count": 1,
   "id": "553e3905",
   "metadata": {},
   "outputs": [],
   "source": [
    "import functools\n",
    "\n",
    "import einops\n",
    "import equinox as eqx\n",
    "import jax\n",
    "import jax.numpy as jnp\n",
    "import numpy as np\n",
    "import optax\n",
    "\n",
    "from models.slaternet import SlaterNet\n",
    "from models.psi_solid import PsiSolid\n",
    "\n",
    "from systems.continuous import moire\n",
    "\n",
    "key = jax.random.PRNGKey(42)"
   ]
  },
  {
   "cell_type": "markdown",
   "id": "f4ede37f",
   "metadata": {},
   "source": [
    "\\begin{equation}\n",
    "    H=\\sum_i\\left(-\\frac{1}{2}\\nabla_i^2 + V(\\mathbf r_i)\\right) + \\sum_{i < j}\\frac{1}{|\\mathbf r_i-\\mathbf r_j|}\n",
    "\\end{equation}\n",
    "- Moire potential:\n",
    "\\begin{equation}\n",
    "    V(\\mathbf r) = -2V_0\\sum_{j=0}^2 \\cos(\\mathbf g_j\\cdot\\mathbf r + \\varphi)\n",
    "\\end{equation}\n",
    "Where $\\mathbf g_j=\\frac{4\\pi}{\\sqrt{3}a_M}\\left(\\cos\\frac{2\\pi j}{3},\\sin\\frac{2\\pi j}{3}\\right)$.\n",
    "\n",
    "- Units\n",
    "  - mass: Electron mass, $m_e$\n",
    "  - Length: Effective Bohr radius, $a_0^* = \\epsilon\\dfrac{m_e}{m^*} a_0$\n",
    "  - Energy: Effective Hartree, $\\mathrm{Ha}^* = \\dfrac{1}{\\epsilon^2}\\dfrac{m^*}{m_e}\\mathrm{Ha}$"
   ]
  },
  {
   "cell_type": "code",
   "execution_count": null,
   "id": "ae253826",
   "metadata": {},
   "outputs": [
    {
     "data": {
      "text/plain": [
       "(0.0393743564807352, 10.623473362015782, 0.7853981633974483)"
      ]
     },
     "execution_count": 8,
     "metadata": {},
     "output_type": "execute_result"
    }
   ],
   "source": [
    "# system parameters\n",
    "a_0 = 5.291_772_105_44e-11 # m\n",
    "m_e = 9.109_383_7139e-31 # kg\n",
    "Ha = 4.359_744_722_2060e-18 # J = kg m^2/s^2\n",
    "meV = 1.60218e-22 # J = kg m^2/s^2\n",
    "nm = 1e-9 # m\n",
    "\n",
    "epsilon = 5\n",
    "# epsilon = 10\n",
    "m_eff = 0.35 * m_e\n",
    "a_B_eff = epsilon * (m_e / m_eff) * a_0\n",
    "Ha_eff = (1 / (epsilon ** 2)) * (m_eff / m_e) * Ha\n",
    "\n",
    "\n",
    "V0 = 15 * meV / Ha_eff\n",
    "a_M = 8.031 * nm / a_B_eff\n",
    "varphi = jnp.pi / 4\n",
    "(V0, a_M, varphi)"
   ]
  },
  {
   "cell_type": "code",
   "execution_count": null,
   "id": "99438258",
   "metadata": {},
   "outputs": [],
   "source": [
    "primitive_latt_vects = a_M * jnp.array([\n",
    "    [jnp.cos(-jnp.pi / 2), jnp.sin(-jnp.pi / 2)],\n",
    "    [jnp.cos(jnp.pi / 6), jnp.sin(jnp.pi / 6)]\n",
    "]) # [a_0, a_1]\n",
    "\n",
    "primitive_recip_latt_vects = ((4 * jnp.pi) / (jnp.sqrt(3) * a_M)) * jnp.array([\n",
    "    [jnp.cos(-jnp.pi / 3), jnp.sin(-jnp.pi / 3)],\n",
    "    [jnp.cos(0), jnp.sin(0)]\n",
    "]) # [b_0, b_1]\n",
    "# a_i \\cdot b_j = 2 \\pi \\delta_{ij}\n",
    "\n",
    "(min1, max1) = (-3, 2)\n",
    "(min2, max2) = (-3, 2)\n",
    "\n",
    "(minu, maxu) = (min1 + 1/2, max1 + 1/2)\n",
    "(minv, maxv) = (min2 + 1/2, max2 + 1/2)\n",
    "\n",
    "# parametrization:\n",
    "u, v = 0.1234, 1.1245\n",
    "R = u * primitive_latt_vects[0] + v * primitive_latt_vects[1]\n",
    "\n",
    "# super cell: L_x := (max1 - min1) by L_y := (max2 - min2) cell, L_x L_y atoms)\n",
    "from math import ceil\n",
    "G = primitive_recip_latt_vects * jnp.array([\n",
    "    1 / ceil(max1 - min1),\n",
    "    1 / ceil(max2 - min2),\n",
    "])"
   ]
  },
  {
   "cell_type": "code",
   "execution_count": null,
   "id": "66759e73",
   "metadata": {},
   "outputs": [],
   "source": [
    "subkey, key = jax.random.split(key)\n",
    "\n",
    "slater_wavefn = SlaterNet(\n",
    "    num_particle=18, \n",
    "    recip_latt_vecs=moire.G, \n",
    "    hidden_dim=64,\n",
    "    mlp_depth=8,\n",
    "    key=subkey,\n",
    ")"
   ]
  },
  {
   "cell_type": "code",
   "execution_count": 3,
   "id": "349d0948",
   "metadata": {},
   "outputs": [],
   "source": [
    "subkey, key = jax.random.split(key)\n",
    "\n",
    "psi_solid_wavefn = PsiSolid(\n",
    "    num_particle=18, \n",
    "    recip_latt_vecs=moire.G, \n",
    "    hidden_dim=64,\n",
    "    attention_dim=16,\n",
    "    num_heads=6,\n",
    "    num_blocks=3, \n",
    "    num_det=4,\n",
    "    key=subkey,\n",
    ")"
   ]
  },
  {
   "cell_type": "code",
   "execution_count": null,
   "id": "e7161c5b",
   "metadata": {},
   "outputs": [],
   "source": []
  }
 ],
 "metadata": {
  "kernelspec": {
   "display_name": "atten-wfn",
   "language": "python",
   "name": "python3"
  },
  "language_info": {
   "codemirror_mode": {
    "name": "ipython",
    "version": 3
   },
   "file_extension": ".py",
   "mimetype": "text/x-python",
   "name": "python",
   "nbconvert_exporter": "python",
   "pygments_lexer": "ipython3",
   "version": "3.12.9"
  }
 },
 "nbformat": 4,
 "nbformat_minor": 5
}
