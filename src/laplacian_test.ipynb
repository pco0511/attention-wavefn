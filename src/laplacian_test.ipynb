{
 "cells": [
  {
   "cell_type": "code",
   "execution_count": 1,
   "id": "a3d9ddc9",
   "metadata": {},
   "outputs": [
    {
     "name": "stderr",
     "output_type": "stream",
     "text": [
      "c:\\workspace\\physics\\attention-wavefn\\atten-wfn\\Lib\\site-packages\\tqdm\\auto.py:21: TqdmWarning: IProgress not found. Please update jupyter and ipywidgets. See https://ipywidgets.readthedocs.io/en/stable/user_install.html\n",
      "  from .autonotebook import tqdm as notebook_tqdm\n"
     ]
    }
   ],
   "source": [
    "import functools\n",
    "\n",
    "import einops\n",
    "import equinox as eqx\n",
    "import jax\n",
    "import jax.numpy as jnp\n",
    "import numpy as np\n",
    "import optax\n",
    "import netket as nk\n",
    "\n",
    "from models.slaternet import SlaterNet\n",
    "from models.psi_solid import PsiSolid\n",
    "\n",
    "from systems.continuous import moire\n",
    "\n",
    "key = jax.random.PRNGKey(42)"
   ]
  },
  {
   "cell_type": "code",
   "execution_count": 2,
   "id": "c490e386",
   "metadata": {},
   "outputs": [],
   "source": [
    "subkey, key = jax.random.split(key)\n",
    "\n",
    "wavefn = SlaterNet(\n",
    "    num_particle=8, \n",
    "    recip_latt_vecs=moire.G, \n",
    "    hidden_dim=64,\n",
    "    mlp_depth=8,\n",
    "    key=subkey,\n",
    ")\n"
   ]
  },
  {
   "cell_type": "code",
   "execution_count": 3,
   "id": "4f6249f3",
   "metadata": {},
   "outputs": [],
   "source": [
    "subkey, key = jax.random.split(key)\n",
    "\n",
    "wavefn = PsiSolid(\n",
    "    num_particle=8, \n",
    "    recip_latt_vecs=moire.G, \n",
    "    hidden_dim=64,\n",
    "    attention_dim=16,\n",
    "    num_heads=6, \n",
    "    num_blocks=3, \n",
    "    num_det=4,\n",
    "    key=subkey,\n",
    ")"
   ]
  },
  {
   "cell_type": "code",
   "execution_count": 4,
   "id": "7b105daa",
   "metadata": {},
   "outputs": [
    {
     "data": {
      "text/plain": [
       "(dtype('complex128'), ())"
      ]
     },
     "execution_count": 4,
     "metadata": {},
     "output_type": "execute_result"
    }
   ],
   "source": [
    "subkey, key = jax.random.split(key)\n",
    "R = jax.random.normal(subkey, (8, 2))\n",
    "psi = wavefn(R)\n",
    "psi.dtype, psi.shape"
   ]
  },
  {
   "cell_type": "code",
   "execution_count": 5,
   "id": "cf0b4adf",
   "metadata": {},
   "outputs": [
    {
     "data": {
      "text/plain": [
       "(dtype('complex128'), (8, 2))"
      ]
     },
     "execution_count": 5,
     "metadata": {},
     "output_type": "execute_result"
    }
   ],
   "source": [
    "dpsi_dx = nk.jax.grad(wavefn)(R)\n",
    "dpsi_dx.dtype, dpsi_dx.shape"
   ]
  },
  {
   "cell_type": "code",
   "execution_count": 6,
   "id": "60829469",
   "metadata": {},
   "outputs": [
    {
     "data": {
      "text/plain": [
       "(8, 2, 8, 2)"
      ]
     },
     "execution_count": 6,
     "metadata": {},
     "output_type": "execute_result"
    }
   ],
   "source": [
    "psi_r = lambda x: jnp.real(wavefn(x))\n",
    "jacobian = jax.jacobian(jax.grad(psi_r))\n",
    "jac = jacobian(R)\n",
    "jac.shape"
   ]
  },
  {
   "cell_type": "code",
   "execution_count": 7,
   "id": "15718e19",
   "metadata": {},
   "outputs": [],
   "source": [
    "def wfn_laplacian(\n",
    "    wavefn: eqx.Module,\n",
    "    point\n",
    "):\n",
    "    def laplacian(fn_real):\n",
    "        grad_fn = jax.grad(fn_real)\n",
    "        \n",
    "        def hvp(v):\n",
    "            _, hv = jax.jvp(grad_fn, (point,), (v,))\n",
    "            return hv\n",
    "        \n",
    "        d = point.size # n_par * spc_dim\n",
    "        \n",
    "        def body(i, acc):\n",
    "            v_flat = jnp.zeros(d, point.dtype).at[i].set(1.)\n",
    "            v = v_flat.reshape(point.shape)\n",
    "            hv = hvp(v)\n",
    "            diag_i = hv.reshape(-1)[i]\n",
    "            return acc + diag_i\n",
    "        \n",
    "        zero = jnp.asarray(0., point.real.dtype)\n",
    "        return jax.lax.fori_loop(0, d, body, zero)\n",
    "    \n",
    "    lap_re = laplacian(lambda r: jnp.real(wavefn(r)))\n",
    "    lap_im = laplacian(lambda r: jnp.imag(wavefn(r)))\n",
    "\n",
    "    return jax.lax.complex(lap_re, lap_im)"
   ]
  },
  {
   "cell_type": "code",
   "execution_count": 8,
   "id": "7b17f0ed",
   "metadata": {},
   "outputs": [
    {
     "data": {
      "text/plain": [
       "(dtype('complex128'), ())"
      ]
     },
     "execution_count": 8,
     "metadata": {},
     "output_type": "execute_result"
    }
   ],
   "source": [
    "lap_psi = wfn_laplacian(wavefn, R)\n",
    "lap_psi.dtype, lap_psi.shape"
   ]
  },
  {
   "cell_type": "code",
   "execution_count": 9,
   "id": "5fd6c56d",
   "metadata": {},
   "outputs": [],
   "source": [
    "def laplacian_fd(\n",
    "    wavefn: eqx.Module,\n",
    "    point,\n",
    "    h: float = 1e-6\n",
    "):\n",
    "    d   = point.size\n",
    "    f0  = wavefn(point)\n",
    "    lap = 0.0 + 0.0j\n",
    "\n",
    "    # 파이썬 for-loop는 작은 d(≲1e3)에서 문제없음.\n",
    "    for i in range(d):\n",
    "        v = jnp.zeros(d, point.dtype).at[i].set(h).reshape(point.shape)\n",
    "        fp = wavefn(point + v)\n",
    "        fm = wavefn(point - v)\n",
    "        lap += (fp - 2 * f0 + fm) / (h * h)\n",
    "    return lap"
   ]
  },
  {
   "cell_type": "code",
   "execution_count": 18,
   "id": "6d30eb37",
   "metadata": {},
   "outputs": [
    {
     "name": "stdout",
     "output_type": "stream",
     "text": [
      "autodiff Δψ = (0.0002157376349394674-0.0006800012598117042j)\n",
      "finite-diff Δψ = (0.00021574665170435558-0.0006799995963991008j)\n",
      "difference = 9.168914359825699e-09\n"
     ]
    }
   ],
   "source": [
    "subkey, key = jax.random.split(key)\n",
    "R = jax.random.normal(subkey, (8, 2))\n",
    "\n",
    "lap_auto = wfn_laplacian(wavefn, R)\n",
    "lap_num  = laplacian_fd(wavefn, R, h=1e-4)\n",
    "\n",
    "print(\"autodiff Δψ =\", lap_auto)\n",
    "print(\"finite-diff Δψ =\", lap_num)\n",
    "print(\"difference =\", jnp.abs(lap_auto - lap_num))"
   ]
  }
 ],
 "metadata": {
  "kernelspec": {
   "display_name": "atten-wfn",
   "language": "python",
   "name": "python3"
  },
  "language_info": {
   "codemirror_mode": {
    "name": "ipython",
    "version": 3
   },
   "file_extension": ".py",
   "mimetype": "text/x-python",
   "name": "python",
   "nbconvert_exporter": "python",
   "pygments_lexer": "ipython3",
   "version": "3.12.9"
  }
 },
 "nbformat": 4,
 "nbformat_minor": 5
}
