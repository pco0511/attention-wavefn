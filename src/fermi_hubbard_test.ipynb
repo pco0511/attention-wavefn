{
 "cells": [
  {
   "cell_type": "code",
   "execution_count": 1,
   "id": "c23ac303",
   "metadata": {},
   "outputs": [],
   "source": [
    "import functools\n",
    "\n",
    "import tqdm\n",
    "import equinox as eqx\n",
    "import jax\n",
    "\n",
    "jax.config.update(\"jax_enable_x64\", True)\n",
    "\n",
    "import jax.numpy as jnp\n",
    "import numpy as np\n",
    "import optax\n",
    "from jaxtyping import Array, PyTree, Float, Complex, PRNGKeyArray\n",
    "\n",
    "import netket as nk\n",
    "from netket.operator import FermionOperator2ndJax\n",
    "from netket.operator.fermion import destroy as c\n",
    "from netket.operator.fermion import create as cdag\n",
    "from netket.operator.fermion import number as nc\n",
    "\n",
    "import matplotlib.pyplot as plt\n",
    "\n",
    "from models.nnwfn import AWFN\n",
    "\n",
    "key = jax.random.key(42)"
   ]
  },
  {
   "cell_type": "markdown",
   "id": "eec4be51",
   "metadata": {},
   "source": [
    "## Construct Hilbert spaces and Hamiltonian operator\n",
    "- Hilbertspace\n",
    "\\begin{equation}\n",
    "    \\mathcal H = \\operatorname{span}\\{\\ket{n}:n \\in \\mathcal L(L_x, L_y, ...)\\},\\quad F_{-} (\\mathcal H) = \\bigoplus_{n=0}^\\infty S_{-}\\mathcal H^{\\otimes n}\n",
    "\\end{equation}\n",
    "Where $\\mathcal L(L_x, L_y, ...)$ is square lattice with lengths $L_x, L_y, ...$.\n",
    "\n",
    "\n",
    "- Hamiltonian operator\n",
    "\\begin{equation}\n",
    "    H=-t\\sum_{\\braket{\\mathbf r, \\mathbf r'}, \\sigma} [c_{\\sigma}^\\dagger(\\mathbf r')c_{\\sigma}(\\mathbf r) + c_{\\sigma}^\\dagger(\\mathbf r)c_{\\sigma}(\\mathbf r')] + U\\sum_{\\mathbf r} n_\\uparrow (\\mathbf r) n_\\downarrow (\\mathbf r)\n",
    "\\end{equation}\n"
   ]
  },
  {
   "cell_type": "code",
   "execution_count": null,
   "id": "c0fb28ec",
   "metadata": {},
   "outputs": [],
   "source": [
    "def construct_system(t: float, U: float, N: int, L: list[int], pbc=True) -> tuple[nk.hilbert.SpinOrbitalFermions, FermionOperator2ndJax]:\n",
    "    hi = nk.hilbert.SpinOrbitalFermions(N, s=1/2, n_fermions=N)\n",
    "    H = FermionOperator2ndJax(hi)\n",
    "    \n",
    "    graph = nk.graph.Grid(L, pbc=pbc)\n",
    "    for (r1, r2) in graph.edges():\n",
    "        for s in [-1, 1]:\n",
    "            H += -t * (cdag(hi, r1, s) * c(hi, r2, s) + cdag(hi, r2, s) * c(hi, r1, s))\n",
    "    \n",
    "    for r in graph.nodes():\n",
    "        H += U * nc(hi, r, -1) * nc(hi, r, 1)\n",
    "    \n",
    "    return hi, H\n",
    "\n",
    "t = 1.0\n",
    "U = 4.0\n",
    "N = 6\n",
    "L = [12,]\n",
    "PBC = True\n",
    "\n",
    "graph = nk.graph.Grid(L, pbc=PBC)\n",
    "\n",
    "\n",
    "\n"
   ]
  },
  {
   "cell_type": "code",
   "execution_count": null,
   "id": "bb5f038f",
   "metadata": {},
   "outputs": [],
   "source": [
    "hi = nk.hilbert.SpinOrbitalFermions(graph.n_nodes, s=1/2, n_fermions=N)\n",
    "\n",
    "H = FermionOperator2ndJax(hi)\n",
    "for (r1, r2) in graph.edges():\n",
    "    for s in [-1, 1]:\n",
    "        H += -t * (cdag(hi, r1, s) * c(hi, r2, s) + cdag(hi, r2, s) * c(hi, r1, s))\n",
    "\n",
    "for r in graph.nodes():\n",
    "    H += U * nc(hi, r, -1) * nc(hi, r, 1)"
   ]
  }
 ],
 "metadata": {
  "kernelspec": {
   "display_name": "atten-wfn",
   "language": "python",
   "name": "python3"
  },
  "language_info": {
   "codemirror_mode": {
    "name": "ipython",
    "version": 3
   },
   "file_extension": ".py",
   "mimetype": "text/x-python",
   "name": "python",
   "nbconvert_exporter": "python",
   "pygments_lexer": "ipython3",
   "version": "3.12.9"
  }
 },
 "nbformat": 4,
 "nbformat_minor": 5
}
