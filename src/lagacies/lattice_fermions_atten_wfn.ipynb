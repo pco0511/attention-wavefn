{
 "cells": [
  {
   "cell_type": "markdown",
   "id": "5e4ba686",
   "metadata": {},
   "source": [
    "# Lattice Fermions, from Slater Determinants to Neural Backflow Transformations"
   ]
  },
  {
   "cell_type": "markdown",
   "id": "1662a41b",
   "metadata": {},
   "source": [
    "Author: Giuseppe Carleo (Computational Quantum Science Lab - EPFL)\n",
    "\n",
    "In this tutorial, we will introduce you to studying fermionic quantum many-body systems using NetKet. We will start by introducing fermionic operators and how to work with them in NetKet. We will then proceed to implement and optimize three different wave functions: a Slater determinant wave function, a Neural Jastrow-Slater state, and a Slater Backflow neural wave function. We will focus on a Hamiltonian of spinless fermions in two dimensions. In the following we will also assume the reader is familiar with the main concepts in second quantization, including creation and destruction operators, as well as the role of anticommutation relations."
   ]
  },
  {
   "cell_type": "markdown",
   "id": "2a072bbb",
   "metadata": {},
   "source": [
    "## Fermionic Operators in NetKet\n",
    "\n",
    "Fermionic operators are fundamental to describing quantum systems with fermions (e.g., electrons). NetKet provides tools to work with these operators efficiently. Let’s start by setting up the necessary environment and defining our quantum system. We start by importing the main netket library, as well as the experimental part of it. The latter is where fermionic operators are currently contained. In the next major release of netket this will change."
   ]
  },
  {
   "cell_type": "code",
   "execution_count": 1,
   "id": "c23ac303",
   "metadata": {},
   "outputs": [],
   "source": [
    "import netket as nk\n",
    "import netket.experimental as nkx"
   ]
  },
  {
   "cell_type": "markdown",
   "id": "92dcb10e",
   "metadata": {},
   "source": [
    "We will work with a Hamiltonian of spinless fermions on a two-dimensional lattice:\n",
    "\\begin{equation}\n",
    "    \\mathcal H=-t\\sum_{\\braket{i,j}} \\left(c_i^\\dagger c_j + c_j^\\dagger c_i\\right) + V\\sum_{\\braket{i, j}} n_i n_j\n",
    "\\end{equation}\n",
    "Here, $\\braket{i, j}$ denotes nearest-neighbors on a square lattice of $N=L\\times L$ sites, $c_i(c_i^\\dagger)$ are destruction (creation) fermionic operators on site $i$, whereas $n_i=c_i^\\dagger c_i$ are density operators."
   ]
  },
  {
   "cell_type": "markdown",
   "id": "3949605f",
   "metadata": {},
   "source": [
    "## Defining the lattice and the Hilbert space:"
   ]
  },
  {
   "cell_type": "code",
   "execution_count": 2,
   "id": "8629da86",
   "metadata": {},
   "outputs": [],
   "source": [
    "L = 4  # Side of the square\n",
    "graph = nk.graph.Square(L)\n",
    "N = graph.n_nodes"
   ]
  },
  {
   "cell_type": "markdown",
   "id": "3b417b96",
   "metadata": {},
   "source": [
    "The last variable contains the total number of sites on the lattice.\n",
    "\n",
    "We now define also the Hilbert space associated with a system of $N_{\\mathrm f}$ spinless fermions:"
   ]
  },
  {
   "cell_type": "code",
   "execution_count": 3,
   "id": "7d8983c1",
   "metadata": {},
   "outputs": [],
   "source": [
    "N_f = 5\n",
    "\n",
    "hi = nk.hilbert.SpinOrbitalFermions(N, s=None, n_fermions=N_f)"
   ]
  },
  {
   "cell_type": "markdown",
   "id": "bc989411",
   "metadata": {},
   "source": [
    "Notice that in the definition we have specified `s=None`, meaning that these fermions do not carry spin. If you wanted to work with spinful fermions, you would need to specify for example `s=1/2`."
   ]
  },
  {
   "cell_type": "markdown",
   "id": "32ab0ee5",
   "metadata": {},
   "source": [
    "## Fermionic Operators and Hamiltonian\n",
    "\n",
    "To describe the Hamiltonian of our quantum system, we need to work with the fermionic operators associated with the Hilbert space defined above. These operators include creation (cdag), annihilation (c), and number (nc) operators. We will use these operators to build our Hamiltonian"
   ]
  },
  {
   "cell_type": "code",
   "execution_count": 4,
   "id": "7eac3c34",
   "metadata": {},
   "outputs": [],
   "source": [
    "from netket.operator.fermion import destroy as c\n",
    "from netket.operator.fermion import create as cdag\n",
    "from netket.operator.fermion import number as nc"
   ]
  },
  {
   "cell_type": "markdown",
   "id": "ebc924d0",
   "metadata": {},
   "source": [
    "With these operators, we can now construct the Hamiltonian for our system. In this example, we have a tight-binding hopping term proportional to $t$ and a density-density interaction term proportional to $V$. We can easily define the Hamiltonian by adding terms one by one looping over the edges of the lattice:"
   ]
  },
  {
   "cell_type": "code",
   "execution_count": 5,
   "id": "1b65ea0d",
   "metadata": {},
   "outputs": [],
   "source": [
    "t = 1.0\n",
    "V = 4.0\n",
    "\n",
    "H = 0.0\n",
    "for (i, j) in graph.edges():\n",
    "    H -= t * (cdag(hi,i) * c(hi,j) + cdag(hi,j) * c(hi,i))\n",
    "    H += V * nc(hi,i) * nc(hi,j)"
   ]
  },
  {
   "cell_type": "markdown",
   "id": "d01b03a1",
   "metadata": {},
   "source": [
    "## Exact Diagonalization"
   ]
  },
  {
   "cell_type": "markdown",
   "id": "9c6267fc",
   "metadata": {},
   "source": [
    "Since the system is relatively small, the Hilbert space is also not too big, and we can still use exact diagonalization to compute the ground state energy. This is achieved by first converting the Hamiltonian to a sparse matrix, and then diagonalizing it with scipy:"
   ]
  },
  {
   "cell_type": "code",
   "execution_count": 6,
   "id": "95667eea",
   "metadata": {},
   "outputs": [],
   "source": [
    "# Convert the Hamiltonian to a sparse matrix\n",
    "sp_h = H.to_sparse()"
   ]
  },
  {
   "cell_type": "code",
   "execution_count": null,
   "id": "cfd36e06",
   "metadata": {},
   "outputs": [
    {
     "name": "stdout",
     "output_type": "stream",
     "text": [
      "Exact ground state energy: -6.859013554319584\n"
     ]
    }
   ],
   "source": [
    "from scipy.sparse.linalg import eigsh\n",
    "\n",
    "eig_vals, eig_vecs = eigsh(sp_h, k=2, which=\"SA\")\n",
    "\n",
    "E_gs = eig_vals[0]  \n",
    "\n",
    "print(\"Exact ground state energy:\", E_gs)"
   ]
  },
  {
   "cell_type": "markdown",
   "id": "f2a6b00c",
   "metadata": {},
   "source": [
    "## Slater Determinant\n",
    "\n",
    "Now, let’s move on to defining and optimizing a simple variational wave function based on a mean-field state: the Slater determinant.\n",
    "\n",
    "Formally, we can write the state as filling up $N_{\\mathrm f}$ orbitals:\n",
    "\\begin{equation}\n",
    "    \\ket{\\Phi_s}=\\prod_{\\alpha=1}^{N_{\\mathrm f}}\\phi_\\alpha^\\dagger\\ket{0}\n",
    "\\end{equation}\n",
    "\n",
    "Where $\\ket{0}$ is the vacuum state and the single-particle orbitals are created by the operators $\\phi_\\alpha^\\dagger$. In turn, these creation operators are, in general, a linear combination of the original creation operators:\n",
    "\\begin{equation}\n",
    "    \\phi_\\alpha^\\dagger =\\sum_{i} M_{\\alpha, i}c_i^\\dagger\n",
    "\\end{equation}\n",
    "The rectangular $(N\\times N_{\\mathrm f})$ matrix $M$ constitutes a set of free variational parameters (Where $N$ is the number of orbitals and $N_{\\mathrm f}$ the number of fermions).\n",
    "\n",
    "It can be shown that the amplitudes of the wave function in the computational basis $\\ket{n_1, ..., n_N}$ are determinants:\n",
    "\\begin{equation}\n",
    "    \\braket{n_1, ..., n_N|\\Phi_{s}} = \\det\\{A(n)\\}\n",
    "\\end{equation}\n",
    "where the $N_{\\mathrm f}\\times N_{\\mathrm f}$ matrix is\n",
    "\\begin{equation}\n",
    "    A(n)_{\\alpha,\\beta} = M_{R_\\alpha(\\mathbf n), \\beta},\n",
    "\\end{equation}\n",
    "where $R_\\alpha(\\mathbf n)$ denotes the index of the $\\alpha$-th occupied site (non-zero $n_i$) in $\\mathbf n=(n_1, ..., n_N)$. This can also be interepted as selecting $N_{\\mathrm f}$ rows of the matrix $M$ in corresponding to the $N_{\\mathrm f}$ occupied orbitals. For more details see Chapter 5 of Reference [1].\n",
    "\n",
    "To write down this variational amplitudes, we start by defining a convenience function to compute the logarithm of the determinant of a matrix, in the complex domain, and using jax:"
   ]
  },
  {
   "cell_type": "code",
   "execution_count": 8,
   "id": "acee276c",
   "metadata": {},
   "outputs": [],
   "source": [
    "import jax\n",
    "import jax.numpy as jnp\n",
    "\n",
    "# Note: This function can also be found inside of netket, in `nk.jax.logdet_cmplx`, but we implement it here\n",
    "# for pedagogical purposes.\n",
    "def _logdet_cmplx(A):\n",
    "    sign, logabsdet = jnp.linalg.slogdet(A)\n",
    "    return logabsdet.astype(complex) + jnp.log(sign.astype(complex))"
   ]
  },
  {
   "cell_type": "markdown",
   "id": "b421725a",
   "metadata": {},
   "source": [
    "Next, we define a wave function using Flax. As you might have seen also in other Tutorials, NetKet defines the logarithm of the wave function amplitudes, mostly to avoid overflow/underflow when computing relevant quantities. The model wave function is then:"
   ]
  },
  {
   "cell_type": "code",
   "execution_count": 9,
   "id": "e2a18601",
   "metadata": {},
   "outputs": [],
   "source": [
    "from flax import nnx\n",
    "from netket.utils.types import NNInitFunc\n",
    "from netket.nn.masked_linear import default_kernel_init\n",
    "from typing import Any, Callable, Sequence\n",
    "from functools import partial\n",
    "DType = Any\n",
    "\n",
    "class LogSlaterDeterminant(nnx.Module):\n",
    "    hilbert: nk.hilbert.SpinOrbitalFermions\n",
    "\n",
    "    def __init__(self, hilbert, kernel_init=default_kernel_init, param_dtype=float, *, rngs: nnx.Rngs):\n",
    "        self.hilbert = hilbert\n",
    "\n",
    "        # To generate random numbers we need to extract the key from the `rngs` object.\n",
    "        key = rngs.params()\n",
    "\n",
    "        # the N x Nf matrix of the orbitals\n",
    "        self.M = nnx.Param(kernel_init(key, (self.hilbert.n_orbitals, self.hilbert.n_fermions,), param_dtype))\n",
    "\n",
    "    def __call__(self, n: jax.Array) -> jax.Array:\n",
    "        # For simplicity, we write a function that operates on a single configuration of size (N,)\n",
    "        # and we vectorize it using `jnp.vectorize` with the signature='(n)->()' argument, which specifies\n",
    "        # that the function is defined to operate on arrays of shape (n,) and return scalars.\n",
    "        @partial(jnp.vectorize, signature='(n)->()')\n",
    "        def log_sd(n):\n",
    "            #Find the positions of the occupied orbitals \n",
    "            R = n.nonzero(size=self.hilbert.n_fermions)[0]\n",
    "            \n",
    "            # Extract from the (N, Nf) matrix the (Nf, Nf) submatrix of M corresponding to the occupied orbitals.\n",
    "            A = self.M[R]\n",
    "\n",
    "            return _logdet_cmplx(A)\n",
    "\n",
    "        return log_sd(n)"
   ]
  },
  {
   "cell_type": "markdown",
   "id": "0d4dee3e",
   "metadata": {},
   "source": [
    "This Flax module defines the variational parameters to be the rectangular matrix \n",
    ". In general, these parameters can be real or complex valued. In the following we will work with real parameters, for simplicity."
   ]
  },
  {
   "cell_type": "markdown",
   "id": "8291ecf0",
   "metadata": {},
   "source": [
    "## Optimizing the Slater Determinant Wave Function"
   ]
  },
  {
   "cell_type": "markdown",
   "id": "8a8331c0",
   "metadata": {},
   "source": [
    "We now create an instance of the `LogSlaterDeterminant` class and of a suitable Monte Carlo Sampler to obtain expected values using Variational Monte Carlo:"
   ]
  },
  {
   "cell_type": "code",
   "execution_count": 29,
   "id": "d4ce6ddd",
   "metadata": {},
   "outputs": [],
   "source": [
    "import equinox as eqx\n",
    "from models.nnwfn import AWFN\n",
    "\n",
    "key = jax.random.key(0)\n",
    "\n",
    "# defining model\n",
    "model_key, key = jax.random.split(key)\n",
    "model = AWFN(\n",
    "    local_dof=hi.n_orbitals,\n",
    "    n_particles=hi.n_fermions,\n",
    "    embedding_dim=4,\n",
    "    attention_dim=4,\n",
    "    intermidiate_dim=16,\n",
    "    num_heads=1,\n",
    "    num_attention_blocks=0,\n",
    "    num_mlp_layers=2,\n",
    "    mlp_hidden_dim=8,\n",
    "    activation=jax.nn.gelu,\n",
    "    key=model_key\n",
    ")\n",
    "\n",
    "# helpers\n",
    "@jax.jit\n",
    "def nkstate_to_indexseq(\n",
    "    state, \n",
    ") -> jnp.ndarray:\n",
    "    return jnp.nonzero(state, size=hi.n_fermions)\n",
    "\n",
    "class Wrapper(eqx.Module):\n",
    "    submodule: eqx.Module\n",
    "    \n",
    "    def __init__(self, submodule):\n",
    "        self.submodule = submodule\n",
    "    \n",
    "    def __call__(self, batch, **kwargs):\n",
    "        batch = jax.vmap(nkstate_to_indexseq)(batch)[0]\n",
    "        outputs = jax.vmap(self.submodule)(batch)\n",
    "        return outputs\n",
    "\n",
    "ma = Wrapper(\n",
    "    model\n",
    ")\n",
    "\n",
    "# Define the Metropolis-Hastings sampler\n",
    "sa = nk.sampler.MetropolisFermionHop(hi, graph=graph)"
   ]
  },
  {
   "cell_type": "markdown",
   "id": "b4e27440",
   "metadata": {},
   "source": [
    "Here we use a sampler that exchanges the occupation numbers of two sites. This allows to keep the total number of fermions constant."
   ]
  },
  {
   "cell_type": "markdown",
   "id": "69c980ae",
   "metadata": {},
   "source": [
    "> Warning\n",
    "> If you are working with systems where the number of nodes in the physical lattice does not match the number of degrees of freedom, you must be careful!\n",
    "> \n",
    "> A typical example is a system of Spin-1/2 fermions on a lattice with N sites, where the first N degrees of freedom correspond to the spin down degrees of freedom and the next N degrees of freedom correspond to the spin up degrees of freedom.\n",
    "> \n",
    "> In this case, you typically want to exchange only degrees of freedom of the same type. A simple way to achieve this is to double the graph:\n",
    "> ```python\n",
    "> import netket as nk\n",
    "> g = nk.graph.Square(5)\n",
    "> hi = nk.hilbert.SpinOrbitalFermions(g.n_nodes, s=0.5)\n",
    "> \n",
    "> exchange_graph = nk.graph.disjoint_union(g, g)\n",
    "> print(\"Exchange graph size:\", exchange_graph.n_nodes)\n",
    "> \n",
    "> sa = nk.sampler.MetropolisExchange(hi, graph=exchange_graph, d_max=1)\n",
    "> ```"
   ]
  },
  {
   "cell_type": "markdown",
   "id": "4591917d",
   "metadata": {},
   "source": [
    "We also define the `VariationalState` necessary to compute expected values over the variational state using Monte Carlo sampling. We will use a total of 16 independent Markov Chains and $2^{12}$ samples per chain. We will also discard the first 16 samples of each chain, to allow thermalization:"
   ]
  },
  {
   "cell_type": "code",
   "execution_count": 30,
   "id": "13209801",
   "metadata": {},
   "outputs": [],
   "source": [
    "vstate = nk.vqs.MCState(sa, ma, n_samples=2**12, n_discard_per_chain=16)"
   ]
  },
  {
   "cell_type": "markdown",
   "id": "92f53dca",
   "metadata": {},
   "source": [
    "For example, we can generate samples distributed according to the square modulus of our variational state, and check its shape:"
   ]
  },
  {
   "cell_type": "code",
   "execution_count": 31,
   "id": "e6a3a5b3",
   "metadata": {},
   "outputs": [
    {
     "data": {
      "text/plain": [
       "(16, 256, 16)"
      ]
     },
     "execution_count": 31,
     "metadata": {},
     "output_type": "execute_result"
    }
   ],
   "source": [
    "vstate.samples.shape"
   ]
  },
  {
   "cell_type": "markdown",
   "id": "abe7ad72",
   "metadata": {},
   "source": [
    "You see here that the first index corresponds to the number of chain, the second to the samples on each chain, and the last one is the index of the occupation number, for example one configuration sampled looks like:"
   ]
  },
  {
   "cell_type": "code",
   "execution_count": 33,
   "id": "24beb632",
   "metadata": {},
   "outputs": [
    {
     "data": {
      "text/plain": [
       "Array([1, 0, 0, 1, 0, 0, 1, 0, 0, 0, 0, 0, 1, 0, 0, 1], dtype=int8)"
      ]
     },
     "execution_count": 33,
     "metadata": {},
     "output_type": "execute_result"
    }
   ],
   "source": [
    "vstate.samples[0,0]"
   ]
  },
  {
   "cell_type": "markdown",
   "id": "f097f3e5",
   "metadata": {},
   "source": [
    "As you can see, everything is compatible with what you specified in the Hilbert space, namely there are exactly $N_{\\mathrm f} = 5$ non-zero occupation numbers.\n",
    "\n",
    "Then, we can proceed and optimize for the ground state wave function, defining a suitable optimizer and, in this case, also a preconditioner based on the Quantum Natural Gradient (or Stochastic Reconfiguration):"
   ]
  },
  {
   "cell_type": "code",
   "execution_count": 34,
   "id": "c4506d50",
   "metadata": {},
   "outputs": [],
   "source": [
    "# Define the optimizer\n",
    "op = nk.optimizer.Sgd(learning_rate=0.05)\n",
    "\n",
    "# Define a preconditioner\n",
    "preconditioner = nk.optimizer.SR(diag_shift=0.05)\n",
    "\n",
    "# Create the VMC (Variational Monte Carlo) driver\n",
    "gs = nk.VMC(H, op, variational_state=vstate, preconditioner=preconditioner)"
   ]
  },
  {
   "cell_type": "markdown",
   "id": "f2a3b990",
   "metadata": {},
   "source": [
    "A more detailed explanation of `SR` and the regularization parameter (`diag_shift`) can be found in the Documentation.\n",
    "\n",
    "We can now finally optimize the wave function for 300 steps of VMC:"
   ]
  },
  {
   "cell_type": "code",
   "execution_count": 35,
   "id": "85db7934",
   "metadata": {},
   "outputs": [
    {
     "data": {
      "application/vnd.jupyter.widget-view+json": {
       "model_id": "b4a5ff913f0f4eaf92d1540f338e2232",
       "version_major": 2,
       "version_minor": 0
      },
      "text/plain": [
       "  0%|          | 0/300 [00:00<?, ?it/s]"
      ]
     },
     "metadata": {},
     "output_type": "display_data"
    },
    {
     "data": {
      "text/plain": [
       "(RuntimeLog():\n",
       "  keys = ['acceptance', 'Energy'],)"
      ]
     },
     "execution_count": 35,
     "metadata": {},
     "output_type": "execute_result"
    }
   ],
   "source": [
    "# Construct the logger to visualize the data later on\n",
    "slater_log=nk.logging.RuntimeLog()\n",
    "\n",
    "# Run the optimization for 300 iterations\n",
    "gs.run(n_iter=300, out=slater_log)"
   ]
  },
  {
   "cell_type": "markdown",
   "id": "38118418",
   "metadata": {},
   "source": [
    "After optimizating the wave function, we can evaluate the energy on the final set of paramaters and compare to the exact value:"
   ]
  },
  {
   "cell_type": "code",
   "execution_count": 16,
   "id": "b17cee29",
   "metadata": {},
   "outputs": [
    {
     "name": "stdout",
     "output_type": "stream",
     "text": [
      "Optimized energy : -5.134+0.000j ± 0.034 [σ²=4.840, R̂=1.0005]\n",
      "Relative error   : 0.25151193704812125\n"
     ]
    }
   ],
   "source": [
    "sd_energy = vstate.expect(H)\n",
    "error = abs((sd_energy.mean - E_gs) / E_gs)\n",
    "\n",
    "print(f\"Optimized energy : {sd_energy}\")\n",
    "print(f\"Relative error   : {error}\")"
   ]
  },
  {
   "cell_type": "markdown",
   "id": "e84566e4",
   "metadata": {},
   "source": [
    "As you can see, the mean field energy of the Slater Determinant is about 25% off in this case where interactions are strong, thus far from the single-particle regime in which the Slater Determinant is accurate."
   ]
  },
  {
   "cell_type": "markdown",
   "id": "a9021147",
   "metadata": {},
   "source": [
    "## Neural Jastrow-Slater Wave Function"
   ]
  },
  {
   "cell_type": "markdown",
   "id": "1341cc7c",
   "metadata": {},
   "source": [
    "...\n",
    "\n",
    "In the following, we will parameterize the neural Jastrow with a simple two-layer feedforward network consisting of real parameters only. This means that the neural Jastrow will not be able to change the overall sign of the wave function, but it will nonetheless be able to capture strong correlations by modifying the absolute value of the wave function amplitudes.\n",
    "\n",
    "We define the corresponding variational wave function in the following Flax class:"
   ]
  },
  {
   "cell_type": "code",
   "execution_count": 17,
   "id": "e300acdf",
   "metadata": {},
   "outputs": [],
   "source": [
    "from flax import nnx\n",
    "from netket.utils.types import NNInitFunc\n",
    "from netket.nn.masked_linear import default_kernel_init\n",
    "from typing import Any, Callable, Sequence\n",
    "from functools import partial\n",
    "DType = Any\n",
    "\n",
    "class LogNeuralJastrowSlater(nnx.Module):\n",
    "    hilbert: nk.hilbert.SpinOrbitalFermions\n",
    "\n",
    "    def __init__(self, hilbert, jastrow_hidden_units: int, kernel_init=default_kernel_init, param_dtype=float, *, rngs: nnx.Rngs):\n",
    "        self.hilbert = hilbert\n",
    "\n",
    "        # To generate random numbers we need to extract the key from the `rngs` object.\n",
    "        key = rngs.params()\n",
    "\n",
    "        # the N x Nf matrix of the orbitals\n",
    "        self.M = nnx.Param(kernel_init(key, (self.hilbert.n_orbitals, self.hilbert.n_fermions,), param_dtype))\n",
    "\n",
    "        # The Neural Jastrow wf\n",
    "        self.jastrow_linear = nnx.Linear(in_features=hilbert.n_orbitals, out_features=jastrow_hidden_units, param_dtype=param_dtype, rngs=rngs)\n",
    "\n",
    "    def __call__(self, n: jax.Array) -> jax.Array:\n",
    "        # For simplicity, we write a function that operates on a single configuration of size (N,)\n",
    "        # and we vectorize it using `jnp.vectorize` with the signature='(n)->()' argument, which specifies\n",
    "        # that the function is defined to operate on arrays of shape (n,) and return scalars.\n",
    "        @partial(jnp.vectorize, signature='(n)->()')\n",
    "        def log_sd(n):\n",
    "            #Construct the Neural Jastrow\n",
    "            J = self.jastrow_linear(n)\n",
    "            J = jax.nn.tanh(J)\n",
    "            J = J.sum()\n",
    "\n",
    "            # Construct the slater determinant \n",
    "            R = n.nonzero(size=self.hilbert.n_fermions)[0]\n",
    "            # Extract from the (N, Nf) matrix the (Nf, Nf) submatrix of M corresponding to the occupied orbitals.\n",
    "            A = self.M[R]\n",
    "            log_slater = _logdet_cmplx(A)\n",
    "\n",
    "            # Multiply log slater with the jastrow (and since we are working in log space, this becomes a sum)\n",
    "            return log_slater + J\n",
    "\n",
    "        return log_sd(n)"
   ]
  },
  {
   "cell_type": "markdown",
   "id": "fb23daf1",
   "metadata": {},
   "source": [
    "We then optimize this variational state, as done before."
   ]
  },
  {
   "cell_type": "code",
   "execution_count": 18,
   "id": "3a499af5",
   "metadata": {},
   "outputs": [
    {
     "data": {
      "application/vnd.jupyter.widget-view+json": {
       "model_id": "0fb608122fc6480d8fc56fdad881d303",
       "version_major": 2,
       "version_minor": 0
      },
      "text/plain": [
       "  0%|          | 0/300 [00:00<?, ?it/s]"
      ]
     },
     "metadata": {},
     "output_type": "display_data"
    },
    {
     "data": {
      "text/plain": [
       "(RuntimeLog():\n",
       "  keys = ['acceptance', 'Energy'],)"
      ]
     },
     "execution_count": 18,
     "metadata": {},
     "output_type": "execute_result"
    }
   ],
   "source": [
    "# Create a Neural Jastrow Slater wave function \n",
    "model = LogNeuralJastrowSlater(hi, jastrow_hidden_units=N, rngs=nnx.Rngs(2))\n",
    "\n",
    "# Define a Metropolis exchange sampler\n",
    "sa = nk.sampler.MetropolisFermionHop(hi, graph=graph)\n",
    "\n",
    "# Define an optimizer\n",
    "op = nk.optimizer.Sgd(learning_rate=0.05)\n",
    "\n",
    "# Create a variational state\n",
    "vstate = nk.vqs.MCState(sa, model, n_samples=2**12, n_discard_per_chain=16)\n",
    "\n",
    "# Create a Variational Monte Carlo driver\n",
    "preconditioner = nk.optimizer.SR(diag_shift=0.05)\n",
    "gs = nk.VMC(H, op, variational_state=vstate, preconditioner=preconditioner)\n",
    "\n",
    "# Construct the logger to visualize the data later on\n",
    "nj_log=nk.logging.RuntimeLog()\n",
    "\n",
    "# Run the optimization for 300 iterations\n",
    "gs.run(n_iter=300, out=nj_log)"
   ]
  },
  {
   "cell_type": "markdown",
   "id": "26c969f6",
   "metadata": {},
   "source": [
    "As you can see, this significantly improves over the mean field wave function. If we compute the error on the ground state energy we get:"
   ]
  },
  {
   "cell_type": "code",
   "execution_count": 19,
   "id": "def22bfa",
   "metadata": {},
   "outputs": [
    {
     "name": "stdout",
     "output_type": "stream",
     "text": [
      "Optimized energy : -6.8155+0.0000j ± 0.0098 [σ²=0.4404, R̂=1.0007]\n",
      "Relative error   : 0.006347123407580917\n"
     ]
    }
   ],
   "source": [
    "sd_energy = vstate.expect(H)\n",
    "error = abs((sd_energy.mean - E_gs) / E_gs)\n",
    "\n",
    "print(f\"Optimized energy : {sd_energy}\")\n",
    "print(f\"Relative error   : {error}\")"
   ]
  },
  {
   "cell_type": "markdown",
   "id": "93dd04b4",
   "metadata": {},
   "source": [
    "## Neural-Backflow Wave Function"
   ]
  },
  {
   "cell_type": "markdown",
   "id": "0eb30a03",
   "metadata": {},
   "source": [
    "An alternative approach to go beyond the simple mean field approximation, and also effectively change the nodal structure of the wave functions is given by the Neural Backflow transformation of Reference [4].\n",
    "\n",
    "The idea is to promote the matrix $M$ appearing in the Slater determinant to be a function of all the occupation numbers, through a neural network. Specifically, we take an additive form of the backflow transformation:\n",
    "\n",
    "\\begin{equation}\n",
    "    M_{\\alpha, i}^{\\mathrm{bf}}(\\mathbf n) = M_{\\alpha, i} + F_{\\alpha, i}(\\mathbf n)\n",
    "\\end{equation}\n",
    "and parameterize $F$ with a multilayer perceptron taking $N$ inputs and having an output of $N\\times N_{\\mathrm f}$ numbers."
   ]
  },
  {
   "cell_type": "code",
   "execution_count": 20,
   "id": "1f23a6b6",
   "metadata": {},
   "outputs": [],
   "source": [
    "class LogNeuralBackflow(nnx.Module):\n",
    "    hilbert: nk.hilbert.SpinOrbitalFermions\n",
    "\n",
    "    def __init__(self, hilbert, hidden_units: int, kernel_init=default_kernel_init, param_dtype=float, *, rngs: nnx.Rngs):\n",
    "        self.hilbert = hilbert\n",
    "\n",
    "        # To generate random numbers we need to extract the key from the `rngs` object.\n",
    "        key = rngs.params()\n",
    "\n",
    "        # the N x Nf matrix of the orbitals\n",
    "        self.M = nnx.Param(kernel_init(key, (self.hilbert.n_orbitals, self.hilbert.n_fermions,), param_dtype))\n",
    "\n",
    "        # Construct the Backflow. Takes as input strings of $N$ occupation numbers, outputs an $N x Nf$ matrix\n",
    "        # that modifies the bare orbitals.\n",
    "        self.backflow = nnx.Sequential(\n",
    "            # First layer, input (..., N,) output (..., hidden_units)\n",
    "            nnx.Linear(in_features=hilbert.size, out_features=hidden_units, param_dtype=param_dtype, rngs=rngs),\n",
    "            nnx.tanh,\n",
    "            # Last layer, input (..., hidden_units,) output (..., N x Nf)\n",
    "            nnx.Linear(in_features=hidden_units, out_features=hilbert.n_orbitals*hilbert.n_fermions, param_dtype=param_dtype, rngs=rngs),\n",
    "            # Reshape into the orbital shape, (..., N, Nf)\n",
    "            lambda x: x.reshape(x.shape[:-1] + (hilbert.n_orbitals, hilbert.n_fermions))\n",
    "        )\n",
    "\n",
    "    def __call__(self, n: jax.Array) -> jax.Array:\n",
    "        # For simplicity, we write a function that operates on a single configuration of size (N,)\n",
    "        # and we vectorize it using `jnp.vectorize` with the signature='(n)->()' argument, which specifies\n",
    "        # that the function is defined to operate on arrays of shape (n,) and return scalars.\n",
    "        @partial(jnp.vectorize, signature='(n)->()')\n",
    "        def log_sd(n):\n",
    "            # Construct the Backflow. Takes as input strings of $N$ occupation numbers, outputs an $N x Nf$ matrix\n",
    "            # that modifies the bare orbitals.\n",
    "            F = self.backflow(n)\n",
    "            # Add the backflow correction to the bare orbitals\n",
    "            M = self.M + F\n",
    "            \n",
    "            # Find the positions of the occupied, backflow-modified orbitals\n",
    "            R = n.nonzero(size=self.hilbert.n_fermions)[0]\n",
    "            A = M[R]\n",
    "            return _logdet_cmplx(A)\n",
    "\n",
    "        return log_sd(n)"
   ]
  },
  {
   "cell_type": "markdown",
   "id": "ede103b4",
   "metadata": {},
   "source": [
    "We can then proceed as above to optimize this variational state using VMC."
   ]
  },
  {
   "cell_type": "code",
   "execution_count": 21,
   "id": "edf840b0",
   "metadata": {},
   "outputs": [
    {
     "data": {
      "application/vnd.jupyter.widget-view+json": {
       "model_id": "212113cb764c420ab9d7ff106656416d",
       "version_major": 2,
       "version_minor": 0
      },
      "text/plain": [
       "  0%|          | 0/300 [00:00<?, ?it/s]"
      ]
     },
     "metadata": {},
     "output_type": "display_data"
    },
    {
     "data": {
      "text/plain": [
       "(RuntimeLog():\n",
       "  keys = ['acceptance', 'Energy'],)"
      ]
     },
     "execution_count": 21,
     "metadata": {},
     "output_type": "execute_result"
    }
   ],
   "source": [
    "# Create a neural backflow wave function\n",
    "model = LogNeuralBackflow(hi, hidden_units=N, rngs=nnx.Rngs(3))\n",
    "\n",
    "# Define a Metropolis exchange sampler\n",
    "sa = nk.sampler.MetropolisFermionHop(hi, graph=graph)\n",
    "\n",
    "# Define an optimizer\n",
    "op = nk.optimizer.Sgd(learning_rate=0.05)\n",
    "\n",
    "# Create a variational state\n",
    "vstate = nk.vqs.MCState(sa, model, n_samples=2**12, n_discard_per_chain=16)\n",
    "\n",
    "# Create a Variational Monte Carlo driver\n",
    "preconditioner = nk.optimizer.SR(diag_shift=0.05)\n",
    "gs = nk.VMC(H, op, variational_state=vstate, preconditioner=preconditioner)\n",
    "\n",
    "# Construct the logger to visualize the data later on\n",
    "bf_log=nk.logging.RuntimeLog()\n",
    "\n",
    "# Run the optimization for 300 iterations\n",
    "gs.run(n_iter=300, out=bf_log)"
   ]
  },
  {
   "cell_type": "markdown",
   "id": "2dbac3fb",
   "metadata": {},
   "source": [
    "We can further check how good the optimized energy is:"
   ]
  },
  {
   "cell_type": "code",
   "execution_count": 22,
   "id": "f6724682",
   "metadata": {},
   "outputs": [
    {
     "name": "stdout",
     "output_type": "stream",
     "text": [
      "Optimized energy : -6.804+0.000j ± 0.014 [σ²=0.801, R̂=1.0013]\n",
      "Relative error   : 0.008051119773318356\n"
     ]
    }
   ],
   "source": [
    "sd_energy = vstate.expect(H)\n",
    "error = abs((sd_energy.mean - E_gs) / E_gs)\n",
    "\n",
    "print(f\"Optimized energy : {sd_energy}\")\n",
    "print(f\"Relative error   : {error}\")"
   ]
  },
  {
   "cell_type": "markdown",
   "id": "889811c3",
   "metadata": {},
   "source": [
    "Thus, as expected, the Neural Backflow achieves a significantly higher level of precision (~0.5%) versus the ~25% error of the mean field state. Notice that in this case the precision achieved is similar to the simpler Neural Jastrow-Slater wave function. However, the backflow result can be further improved by playing with the feedforward architecture defining the backflow, for example by increasing ‘hidden_units’ or by improving the optimization increasing the number of samples and/or the number of steps."
   ]
  },
  {
   "cell_type": "markdown",
   "id": "0314931f",
   "metadata": {},
   "source": [
    "## Plotting all together"
   ]
  },
  {
   "cell_type": "markdown",
   "id": "b8df5e81",
   "metadata": {},
   "source": [
    "Finally, we can visualize the results obtained with the three wave functions we have covered in this Tutorial, by using the data logged during the optimization. In order to visualize what happened during the optimization, we can use the data that has been stored by the logger. There are several available loggers in NetKet, in the previous runs we have just used a simple one that stores the intermediate results as values in a dictionary."
   ]
  },
  {
   "cell_type": "code",
   "execution_count": 23,
   "id": "245166e6",
   "metadata": {},
   "outputs": [
    {
     "name": "stdout",
     "output_type": "stream",
     "text": [
      "HistoryDict with 2 elements:\n",
      "\t'Energy' -> History(keys=['Mean', 'Variance', 'Sigma', 'R_hat', 'TauCorr'], n_iters=300)\n",
      "\t'acceptance' -> History(keys=['value'], n_iters=300)\n"
     ]
    }
   ],
   "source": [
    "data_slater = slater_log.data\n",
    "print(data_slater)"
   ]
  },
  {
   "cell_type": "markdown",
   "id": "6468bee7",
   "metadata": {},
   "source": [
    "These report several intermediate quantities, that can be easily plotted. For example we can plot the value of the energy (with its error bar) at each optimization step."
   ]
  },
  {
   "cell_type": "code",
   "execution_count": 24,
   "id": "74105a1a",
   "metadata": {},
   "outputs": [
    {
     "data": {
      "text/plain": [
       "<matplotlib.legend.Legend at 0x2460e1ef110>"
      ]
     },
     "execution_count": 24,
     "metadata": {},
     "output_type": "execute_result"
    },
    {
     "data": {
      "image/png": "[encoded data removed]",
      "text/plain": [
       "<Figure size 640x480 with 1 Axes>"
      ]
     },
     "metadata": {},
     "output_type": "display_data"
    }
   ],
   "source": [
    "logged_data = (slater_log.data,nj_log.data,bf_log.data)\n",
    "labels = (\"Slater\",\"Neural Jastrow\",\"Neural Backflow\")\n",
    "\n",
    "from matplotlib import pyplot as plt\n",
    "\n",
    "for data,label in zip(logged_data,labels):\n",
    "    plt.errorbar(data[\"Energy\"].iters, data[\"Energy\"].Mean.real, yerr=data[\"Energy\"].Sigma,label=label)\n",
    "\n",
    "plt.hlines([E_gs], xmin=0, xmax=300, color='black', label=\"Exact\")\n",
    "\n",
    "plt.xlabel('Iterations')\n",
    "plt.ylabel('Energy')\n",
    "plt.legend()"
   ]
  },
  {
   "cell_type": "markdown",
   "id": "ea0d5db9",
   "metadata": {},
   "source": [
    "## References"
   ]
  },
  {
   "cell_type": "markdown",
   "id": "cde8224a",
   "metadata": {},
   "source": [
    "[1] Becca, F. & Sorella, S. Quantum Monte Carlo Approaches for Correlated Systems. (Cambridge University Press, 2017).\n",
    "\n",
    "[2] Nomura, Y., Darmawan, A. S., Yamaji, Y. & Imada, M. Restricted Boltzmann machine learning for solving strongly correlated quantum systems. Phys. Rev. B 96, 205152 (2017).\n",
    "\n",
    "[3] Stokes, J., Moreno, J. R., Pnevmatikakis, E. A. & Carleo, G. Phases of two-dimensional spinless lattice fermions with first-quantized deep neural-network quantum states. Phys. Rev. B 102, 205122 (2020).\n",
    "\n",
    "[4] Luo, D. & Clark, B. K. Backflow Transformations via Neural Networks for Quantum Many-Body Wave Functions. Phys. Rev. Lett. 122, 226401 (2019)."
   ]
  }
 ],
 "metadata": {
  "kernelspec": {
   "display_name": "atten-wfn",
   "language": "python",
   "name": "python3"
  },
  "language_info": {
   "codemirror_mode": {
    "name": "ipython",
    "version": 3
   },
   "file_extension": ".py",
   "mimetype": "text/x-python",
   "name": "python",
   "nbconvert_exporter": "python",
   "pygments_lexer": "ipython3",
   "version": "3.12.9"
  }
 },
 "nbformat": 4,
 "nbformat_minor": 5
}
