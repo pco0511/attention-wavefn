{
 "cells": [
  {
   "cell_type": "code",
   "execution_count": null,
   "id": "a3d9ddc9",
   "metadata": {},
   "outputs": [],
   "source": [
    "import functools\n",
    "\n",
    "import einops\n",
    "import equinox as eqx\n",
    "import jax\n",
    "import jax.numpy as jnp\n",
    "import numpy as np\n",
    "import optax\n",
    "\n",
    "from models.slaternet import SlaterNet\n",
    "from models.psi_solid import PsiSolid\n",
    "\n",
    "from systems.continuous import moire"
   ]
  },
  {
   "cell_type": "code",
   "execution_count": null,
   "id": "4f6249f3",
   "metadata": {},
   "outputs": [],
   "source": [
    "\n"
   ]
  }
 ],
 "metadata": {
  "kernelspec": {
   "display_name": "atten-wfn",
   "language": "python",
   "name": "python3"
  },
  "language_info": {
   "codemirror_mode": {
    "name": "ipython",
    "version": 3
   },
   "file_extension": ".py",
   "mimetype": "text/x-python",
   "name": "python",
   "nbconvert_exporter": "python",
   "pygments_lexer": "ipython3",
   "version": "3.12.9"
  }
 },
 "nbformat": 4,
 "nbformat_minor": 5
}
