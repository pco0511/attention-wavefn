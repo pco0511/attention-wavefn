{
 "cells": [
  {
   "cell_type": "code",
   "execution_count": 1,
   "id": "a3d9ddc9",
   "metadata": {},
   "outputs": [],
   "source": [
    "import functools\n",
    "\n",
    "import einops\n",
    "import equinox as eqx\n",
    "import jax\n",
    "import jax.numpy as jnp\n",
    "import numpy as np\n",
    "import optax\n",
    "\n",
    "from models.slaternet import SlaterNet\n",
    "from models.psi_solid import PsiSolid\n",
    "\n",
    "from systems.continuous import moire\n",
    "\n",
    "key = jax.random.PRNGKey(42)"
   ]
  },
  {
   "cell_type": "code",
   "execution_count": null,
   "id": "c490e386",
   "metadata": {},
   "outputs": [],
   "source": [
    "subkey, key = jax.random.split(key)\n",
    "\n",
    "wavefn = SlaterNet(\n",
    "    num_particle=8, \n",
    "    recip_latt_vecs=moire.G, \n",
    "    hidden_dim=64,\n",
    "    mlp_depth=8,\n",
    "    key=subkey,\n",
    ")\n"
   ]
  },
  {
   "cell_type": "code",
   "execution_count": 2,
   "id": "4f6249f3",
   "metadata": {},
   "outputs": [
    {
     "name": "stderr",
     "output_type": "stream",
     "text": [
      "c:\\workspace\\physics\\attention-wavefn\\src\\models\\psi_solid.py:124: UserWarning: A JAX array is being set as static! This can result in unexpected behavior and is usually a mistake to do.\n",
      "  self.periodic_embedding = PeriodicEmbedding(\n",
      "C:\\Users\\pco0511\\AppData\\Local\\Temp\\ipykernel_24084\\13524750.py:3: UserWarning: A JAX array is being set as static! This can result in unexpected behavior and is usually a mistake to do.\n",
      "  wavefn = PsiSolid(\n"
     ]
    }
   ],
   "source": [
    "subkey, key = jax.random.split(key)\n",
    "\n",
    "wavefn = PsiSolid(\n",
    "    num_particle=8, \n",
    "    recip_latt_vecs=moire.G, \n",
    "    hidden_dim=64,\n",
    "    attention_dim=16,\n",
    "    num_heads=6, \n",
    "    num_blocks=3, \n",
    "    num_det=4,\n",
    "    key=subkey,\n",
    ")\n"
   ]
  }
 ],
 "metadata": {
  "kernelspec": {
   "display_name": "atten-wfn",
   "language": "python",
   "name": "python3"
  },
  "language_info": {
   "codemirror_mode": {
    "name": "ipython",
    "version": 3
   },
   "file_extension": ".py",
   "mimetype": "text/x-python",
   "name": "python",
   "nbconvert_exporter": "python",
   "pygments_lexer": "ipython3",
   "version": "3.12.9"
  }
 },
 "nbformat": 4,
 "nbformat_minor": 5
}
