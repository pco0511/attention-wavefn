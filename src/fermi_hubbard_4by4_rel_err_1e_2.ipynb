{
  "cells": [
    {
      "cell_type": "code",
      "execution_count": null,
      "id": "SKKbQS1Cu2Uq",
      "metadata": {
        "colab": {
          "base_uri": "https://localhost:8080/"
        },
        "id": "SKKbQS1Cu2Uq",
        "outputId": "7a7eaa1c-edec-499d-ba29-40b3c6b6b0be"
      },
      "outputs": [
        {
          "output_type": "stream",
          "name": "stdout",
          "text": [
            "Collecting netket\n",
            "  Downloading netket-3.17.1-py3-none-any.whl.metadata (7.9 kB)\n",
            "Collecting equinox>=0.11.3 (from netket)\n",
            "  Downloading equinox-0.12.2-py3-none-any.whl.metadata (18 kB)\n",
            "Requirement already satisfied: flax>=0.10.2 in /usr/local/lib/python3.11/dist-packages (from netket) (0.10.6)\n",
            "Collecting igraph>=0.10.0 (from netket)\n",
            "  Downloading igraph-0.11.8-cp39-abi3-manylinux_2_17_x86_64.manylinux2014_x86_64.whl.metadata (3.8 kB)\n",
            "Requirement already satisfied: jax<0.6,>=0.3.37 in /usr/local/lib/python3.11/dist-packages (from netket) (0.5.2)\n",
            "Requirement already satisfied: numba>=0.59 in /usr/local/lib/python3.11/dist-packages (from netket) (0.60.0)\n",
            "Requirement already satisfied: numpy<3.0,>=1.20 in /usr/local/lib/python3.11/dist-packages (from netket) (2.0.2)\n",
            "Requirement already satisfied: optax<0.3,>=0.2.2 in /usr/local/lib/python3.11/dist-packages (from netket) (0.2.4)\n",
            "Requirement already satisfied: orjson<4,>=3.4 in /usr/local/lib/python3.11/dist-packages (from netket) (3.10.18)\n",
            "Collecting plum-dispatch>=2.4 (from netket)\n",
            "  Downloading plum_dispatch-2.5.7-py3-none-any.whl.metadata (7.5 kB)\n",
            "Requirement already satisfied: rich>=12.0 in /usr/local/lib/python3.11/dist-packages (from netket) (13.9.4)\n",
            "Requirement already satisfied: scipy<2,>=1.5.3 in /usr/local/lib/python3.11/dist-packages (from netket) (1.15.3)\n",
            "Requirement already satisfied: tqdm<5,>=4.60 in /usr/local/lib/python3.11/dist-packages (from netket) (4.67.1)\n",
            "Collecting jaxtyping>=0.2.20 (from equinox>=0.11.3->netket)\n",
            "  Downloading jaxtyping-0.3.2-py3-none-any.whl.metadata (7.0 kB)\n",
            "Requirement already satisfied: typing-extensions>=4.5.0 in /usr/local/lib/python3.11/dist-packages (from equinox>=0.11.3->netket) (4.13.2)\n",
            "Collecting wadler-lindig>=0.1.0 (from equinox>=0.11.3->netket)\n",
            "  Downloading wadler_lindig-0.1.6-py3-none-any.whl.metadata (17 kB)\n",
            "Requirement already satisfied: msgpack in /usr/local/lib/python3.11/dist-packages (from flax>=0.10.2->netket) (1.1.0)\n",
            "Requirement already satisfied: orbax-checkpoint in /usr/local/lib/python3.11/dist-packages (from flax>=0.10.2->netket) (0.11.13)\n",
            "Requirement already satisfied: tensorstore in /usr/local/lib/python3.11/dist-packages (from flax>=0.10.2->netket) (0.1.74)\n",
            "Requirement already satisfied: PyYAML>=5.4.1 in /usr/local/lib/python3.11/dist-packages (from flax>=0.10.2->netket) (6.0.2)\n",
            "Requirement already satisfied: treescope>=0.1.7 in /usr/local/lib/python3.11/dist-packages (from flax>=0.10.2->netket) (0.1.9)\n",
            "Collecting texttable>=1.6.2 (from igraph>=0.10.0->netket)\n",
            "  Downloading texttable-1.7.0-py2.py3-none-any.whl.metadata (9.8 kB)\n",
            "Requirement already satisfied: jaxlib<=0.5.2,>=0.5.1 in /usr/local/lib/python3.11/dist-packages (from jax<0.6,>=0.3.37->netket) (0.5.1)\n",
            "Requirement already satisfied: ml_dtypes>=0.4.0 in /usr/local/lib/python3.11/dist-packages (from jax<0.6,>=0.3.37->netket) (0.4.1)\n",
            "Requirement already satisfied: opt_einsum in /usr/local/lib/python3.11/dist-packages (from jax<0.6,>=0.3.37->netket) (3.4.0)\n",
            "Requirement already satisfied: llvmlite<0.44,>=0.43.0dev0 in /usr/local/lib/python3.11/dist-packages (from numba>=0.59->netket) (0.43.0)\n",
            "Requirement already satisfied: absl-py>=0.7.1 in /usr/local/lib/python3.11/dist-packages (from optax<0.3,>=0.2.2->netket) (1.4.0)\n",
            "Requirement already satisfied: chex>=0.1.87 in /usr/local/lib/python3.11/dist-packages (from optax<0.3,>=0.2.2->netket) (0.1.89)\n",
            "Requirement already satisfied: etils[epy] in /usr/local/lib/python3.11/dist-packages (from optax<0.3,>=0.2.2->netket) (1.12.2)\n",
            "Collecting beartype>=0.16.2 (from plum-dispatch>=2.4->netket)\n",
            "  Downloading beartype-0.21.0-py3-none-any.whl.metadata (33 kB)\n",
            "Requirement already satisfied: markdown-it-py>=2.2.0 in /usr/local/lib/python3.11/dist-packages (from rich>=12.0->netket) (3.0.0)\n",
            "Requirement already satisfied: pygments<3.0.0,>=2.13.0 in /usr/local/lib/python3.11/dist-packages (from rich>=12.0->netket) (2.19.1)\n",
            "Requirement already satisfied: toolz>=0.9.0 in /usr/local/lib/python3.11/dist-packages (from chex>=0.1.87->optax<0.3,>=0.2.2->netket) (0.12.1)\n",
            "Requirement already satisfied: mdurl~=0.1 in /usr/local/lib/python3.11/dist-packages (from markdown-it-py>=2.2.0->rich>=12.0->netket) (0.1.2)\n",
            "Requirement already satisfied: nest_asyncio in /usr/local/lib/python3.11/dist-packages (from orbax-checkpoint->flax>=0.10.2->netket) (1.6.0)\n",
            "Requirement already satisfied: protobuf in /usr/local/lib/python3.11/dist-packages (from orbax-checkpoint->flax>=0.10.2->netket) (5.29.4)\n",
            "Requirement already satisfied: humanize in /usr/local/lib/python3.11/dist-packages (from orbax-checkpoint->flax>=0.10.2->netket) (4.12.3)\n",
            "Requirement already satisfied: simplejson>=3.16.0 in /usr/local/lib/python3.11/dist-packages (from orbax-checkpoint->flax>=0.10.2->netket) (3.20.1)\n",
            "Requirement already satisfied: fsspec in /usr/local/lib/python3.11/dist-packages (from etils[epy]->optax<0.3,>=0.2.2->netket) (2025.3.2)\n",
            "Requirement already satisfied: importlib_resources in /usr/local/lib/python3.11/dist-packages (from etils[epy]->optax<0.3,>=0.2.2->netket) (6.5.2)\n",
            "Requirement already satisfied: zipp in /usr/local/lib/python3.11/dist-packages (from etils[epy]->optax<0.3,>=0.2.2->netket) (3.21.0)\n",
            "Downloading netket-3.17.1-py3-none-any.whl (695 kB)\n",
            "\u001b[2K   \u001b[90m━━━━━━━━━━━━━━━━━━━━━━━━━━━━━━━━━━━━━━━━\u001b[0m \u001b[32m695.9/695.9 kB\u001b[0m \u001b[31m34.5 MB/s\u001b[0m eta \u001b[36m0:00:00\u001b[0m\n",
            "\u001b[?25hDownloading equinox-0.12.2-py3-none-any.whl (177 kB)\n",
            "\u001b[2K   \u001b[90m━━━━━━━━━━━━━━━━━━━━━━━━━━━━━━━━━━━━━━━━\u001b[0m \u001b[32m177.2/177.2 kB\u001b[0m \u001b[31m15.3 MB/s\u001b[0m eta \u001b[36m0:00:00\u001b[0m\n",
            "\u001b[?25hDownloading igraph-0.11.8-cp39-abi3-manylinux_2_17_x86_64.manylinux2014_x86_64.whl (3.1 MB)\n",
            "\u001b[2K   \u001b[90m━━━━━━━━━━━━━━━━━━━━━━━━━━━━━━━━━━━━━━━━\u001b[0m \u001b[32m3.1/3.1 MB\u001b[0m \u001b[31m95.8 MB/s\u001b[0m eta \u001b[36m0:00:00\u001b[0m\n",
            "\u001b[?25hDownloading plum_dispatch-2.5.7-py3-none-any.whl (42 kB)\n",
            "\u001b[2K   \u001b[90m━━━━━━━━━━━━━━━━━━━━━━━━━━━━━━━━━━━━━━━━\u001b[0m \u001b[32m42.6/42.6 kB\u001b[0m \u001b[31m3.3 MB/s\u001b[0m eta \u001b[36m0:00:00\u001b[0m\n",
            "\u001b[?25hDownloading beartype-0.21.0-py3-none-any.whl (1.2 MB)\n",
            "\u001b[2K   \u001b[90m━━━━━━━━━━━━━━━━━━━━━━━━━━━━━━━━━━━━━━━━\u001b[0m \u001b[32m1.2/1.2 MB\u001b[0m \u001b[31m48.6 MB/s\u001b[0m eta \u001b[36m0:00:00\u001b[0m\n",
            "\u001b[?25hDownloading jaxtyping-0.3.2-py3-none-any.whl (55 kB)\n",
            "\u001b[2K   \u001b[90m━━━━━━━━━━━━━━━━━━━━━━━━━━━━━━━━━━━━━━━━\u001b[0m \u001b[32m55.4/55.4 kB\u001b[0m \u001b[31m4.6 MB/s\u001b[0m eta \u001b[36m0:00:00\u001b[0m\n",
            "\u001b[?25hDownloading texttable-1.7.0-py2.py3-none-any.whl (10 kB)\n",
            "Downloading wadler_lindig-0.1.6-py3-none-any.whl (20 kB)\n",
            "Installing collected packages: texttable, wadler-lindig, igraph, beartype, jaxtyping, plum-dispatch, equinox, netket\n",
            "Successfully installed beartype-0.21.0 equinox-0.12.2 igraph-0.11.8 jaxtyping-0.3.2 netket-3.17.1 plum-dispatch-2.5.7 texttable-1.7.0 wadler-lindig-0.1.6\n"
          ]
        }
      ],
      "source": [
        "!pip install netket"
      ]
    },
    {
      "cell_type": "code",
      "execution_count": null,
      "id": "c23ac303",
      "metadata": {
        "id": "c23ac303"
      },
      "outputs": [],
      "source": [
        "import os\n",
        "\n",
        "# os.environ[\"XLA_PYTHON_CLIENT_PREALLOCATE\"] = \"true\"\n",
        "os.environ[\"XLA_PYTHON_CLIENT_MEM_FRACTION\"] = \"0.90\"\n",
        "# os.environ[\"XLA_PYTHON_CLIENT_ALLOCATOR\"] = \"platform\"\n",
        "\n",
        "import jax\n",
        "jax.config.update(\"jax_enable_x64\", False)\n",
        "jax.config.update(\"jax_platform_name\", \"gpu\")\n",
        "\n",
        "import functools\n",
        "from typing import Callable\n",
        "\n",
        "import tqdm\n",
        "import equinox as eqx\n",
        "\n",
        "import jax.numpy as jnp\n",
        "import numpy as np\n",
        "import optax\n",
        "from jaxtyping import Array, PyTree, Int, Float, Complex, PRNGKeyArray\n",
        "\n",
        "import netket as nk\n",
        "from netket.operator import FermionOperator2ndJax\n",
        "from netket.operator.fermion import destroy as c\n",
        "from netket.operator.fermion import create as cdag\n",
        "from netket.operator.fermion import number as nc\n",
        "\n",
        "from netket.experimental.driver import VMC_SRt\n",
        "from netket.jax import logdet_cmplx\n",
        "\n",
        "import matplotlib.pyplot as plt\n",
        "\n",
        "key = jax.random.key(0)"
      ]
    },
    {
      "cell_type": "markdown",
      "id": "eec4be51",
      "metadata": {
        "id": "eec4be51"
      },
      "source": [
        "## Construct Hilbert spaces and Hamiltonian operator\n",
        "- Hilbertspace\n",
        "\\begin{equation}\n",
        "    \\mathcal H = \\operatorname{span}\\{\\ket{n}:n \\in \\mathcal L(L_x, L_y, ...)\\},\\quad F_{-} (\\mathcal H) = \\bigoplus_{n=0}^\\infty S_{-}\\mathcal H^{\\otimes n}\n",
        "\\end{equation}\n",
        "Where $\\mathcal L(L_x, L_y, ...)$ is square lattice with lengths $L_x, L_y, ...$.\n",
        "\n",
        "\n",
        "- Hamiltonian operator\n",
        "\\begin{equation}\n",
        "    H=-t\\sum_{\\braket{\\mathbf r, \\mathbf r'}, \\sigma} [c_{\\sigma}^\\dagger(\\mathbf r')c_{\\sigma}(\\mathbf r) + c_{\\sigma}^\\dagger(\\mathbf r)c_{\\sigma}(\\mathbf r')] + U\\sum_{\\mathbf r} n_\\uparrow (\\mathbf r) n_\\downarrow (\\mathbf r)\n",
        "\\end{equation}\n"
      ]
    },
    {
      "cell_type": "code",
      "execution_count": null,
      "id": "c0fb28ec",
      "metadata": {
        "colab": {
          "base_uri": "https://localhost:8080/",
          "height": 491
        },
        "id": "c0fb28ec",
        "outputId": "15704b28-2900-4555-de10-4c3fc1f6c4e7"
      },
      "outputs": [
        {
          "output_type": "display_data",
          "data": {
            "text/plain": [
              "<Figure size 640x480 with 1 Axes>"
            ],
            "image/png": "[encoded data removed]"
          },
          "metadata": {}
        },
        {
          "output_type": "execute_result",
          "data": {
            "text/plain": [
              "<Axes: title={'center': '2D Lattice (Distance Order: 1)'}, xlabel='X', ylabel='Y'>"
            ]
          },
          "metadata": {},
          "execution_count": 3
        }
      ],
      "source": [
        "def construct_system(t: float, U: float, N: int, L: list[int], pbc=True) -> tuple[nk.hilbert.SpinOrbitalFermions, FermionOperator2ndJax]:\n",
        "    hi = nk.hilbert.SpinOrbitalFermions(N, s=1/2, n_fermions=N)\n",
        "    H = FermionOperator2ndJax(hi)\n",
        "\n",
        "    graph = nk.graph.Grid(L, pbc=pbc)\n",
        "    for (r1, r2) in graph.edges():\n",
        "        for s in [-1, 1]:\n",
        "            H += -t * (cdag(hi, r1, s) * c(hi, r2, s) + cdag(hi, r2, s) * c(hi, r1, s))\n",
        "\n",
        "    for r in graph.nodes():\n",
        "        H += U * nc(hi, r, -1) * nc(hi, r, 1)\n",
        "\n",
        "    return hi, H\n",
        "\n",
        "t = 1.0\n",
        "U = 8.0\n",
        "N = 14\n",
        "L = [4, 4]\n",
        "PBC = True\n",
        "\n",
        "graph = nk.graph.Grid(L, pbc=PBC)\n",
        "graph_extended = nk.graph.disjoint_union(graph, graph)\n",
        "\n",
        "graph.draw()"
      ]
    },
    {
      "cell_type": "code",
      "execution_count": null,
      "id": "bb5f038f",
      "metadata": {
        "id": "bb5f038f"
      },
      "outputs": [],
      "source": [
        "hi = nk.hilbert.SpinOrbitalFermions(graph.n_nodes, s=1/2, n_fermions=N)\n",
        "\n",
        "H = FermionOperator2ndJax(hi)\n",
        "for (r1, r2) in graph.edges():\n",
        "    for s in [-1, 1]:\n",
        "        H += -t * (cdag(hi, r1, s) * c(hi, r2, s) + cdag(hi, r2, s) * c(hi, r1, s))\n",
        "\n",
        "for r in graph.nodes():\n",
        "    H += U * nc(hi, r, -1) * nc(hi, r, 1)"
      ]
    },
    {
      "cell_type": "markdown",
      "id": "c1098c44",
      "metadata": {
        "id": "c1098c44"
      },
      "source": [
        "## Exact Diagonalization\n",
        "\n",
        "As a reference"
      ]
    },
    {
      "cell_type": "code",
      "execution_count": null,
      "id": "d359ba94",
      "metadata": {
        "id": "d359ba94"
      },
      "outputs": [],
      "source": [
        "# sp_h = H.to_numba_operator().to_sparse()"
      ]
    },
    {
      "cell_type": "code",
      "execution_count": null,
      "id": "25437948",
      "metadata": {
        "id": "25437948"
      },
      "outputs": [],
      "source": [
        "# from scipy.sparse.linalg import eigsh\n",
        "\n",
        "# eig_vals, eig_vecs = eigsh(sp_h, k=2, which=\"SA\")\n",
        "\n",
        "# E_gs = eig_vals[0]\n",
        "\n",
        "# print(\"Exact ground state energy:\", E_gs)\n",
        "E_gs = -0.74 * 16"
      ]
    },
    {
      "cell_type": "markdown",
      "id": "07c9edaa",
      "metadata": {
        "id": "07c9edaa"
      },
      "source": [
        "## Mean-Field Slater Determinant\n",
        "\n",
        "\\begin{equation}\n",
        "    \\ket{\\Phi_s}=\\prod_{\\alpha=1}^{N_{\\mathrm f}}\\phi_\\alpha^\\dagger\\ket{0}\n",
        "\\end{equation}\n",
        "\n",
        "Where $\\ket{0}$ is the vacuum state and the single-particle orbitals are created by the operators $\\phi_\\alpha^\\dagger$. In turn, these creation operators are, in general, a linear combination of the original creation operators:\n",
        "\\begin{equation}\n",
        "    \\phi_\\alpha^\\dagger =\\sum_{i} M_{\\alpha, i}c_i^\\dagger\n",
        "\\end{equation}\n",
        "The rectangular $(N\\times N_{\\mathrm f})$ matrix $M$ constitutes a set of free variational parameters (Where $N$ is the number of orbitals and $N_{\\mathrm f}$ the number of fermions).\n",
        "\n",
        "It can be shown that the amplitudes of the wave function in the computational basis $\\ket{n_1, ..., n_N}$ are determinants:\n",
        "\\begin{equation}\n",
        "    \\braket{n_1, ..., n_N|\\Phi_{s}} = \\det\\{A(n)\\}\n",
        "\\end{equation}\n",
        "where the $N_{\\mathrm f}\\times N_{\\mathrm f}$ matrix is\n",
        "\\begin{equation}\n",
        "    A(n)_{\\alpha,\\beta} = M_{R_\\alpha(\\mathbf n), \\beta},\n",
        "\\end{equation}\n",
        "where $R_\\alpha(\\mathbf n)$ denotes the index of the $\\alpha$-th occupied site (non-zero $n_i$) in $\\mathbf n=(n_1, ..., n_N)$. This can also be interepted as selecting $N_{\\mathrm f}$ rows of the matrix $M$ in corresponding to the $N_{\\mathrm f}$ occupied orbitals. For more details see Chapter 5 of Reference [1].\n",
        "\n",
        "To write down this variational amplitudes, we start by defining a convenience function to compute the logarithm of the determinant of a matrix, in the complex domain, and using jax:"
      ]
    },
    {
      "cell_type": "code",
      "execution_count": null,
      "id": "fe84cd78",
      "metadata": {
        "id": "fe84cd78"
      },
      "outputs": [],
      "source": [
        "@jax.jit\n",
        "def nkstate_to_indexseq(\n",
        "    state,\n",
        ") -> jnp.ndarray:\n",
        "    return jnp.nonzero(state, size=hi.n_fermions)\n",
        "\n",
        "def count_parameters(model):\n",
        "    leaves = jax.tree.leaves(model)\n",
        "    return sum(x.size for x in leaves if isinstance(x, jnp.ndarray))\n",
        "\n",
        "class BatchWrapper(eqx.Module):\n",
        "    submodule: eqx.Module\n",
        "\n",
        "    def __init__(self, submodule):\n",
        "        self.submodule = submodule\n",
        "\n",
        "    def __call__(self, batch, **kwargs):\n",
        "        outputs = jax.vmap(self.submodule)(batch)\n",
        "        return outputs"
      ]
    },
    {
      "cell_type": "markdown",
      "id": "c4519e89",
      "metadata": {
        "id": "c4519e89"
      },
      "source": [
        "### Simplest Slater Determinant"
      ]
    },
    {
      "cell_type": "code",
      "execution_count": null,
      "id": "ee1e57de",
      "metadata": {
        "id": "ee1e57de"
      },
      "outputs": [],
      "source": [
        "class LogSlaterDeterminant(eqx.Module):\n",
        "    embedding: eqx.nn.Embedding\n",
        "\n",
        "    def __init__(\n",
        "        self,\n",
        "        hilbert: nk.hilbert.SpinOrbitalFermions,\n",
        "        *,\n",
        "        key: PRNGKeyArray\n",
        "    ):\n",
        "        self.embedding = eqx.nn.Embedding(hilbert.size, hilbert.n_fermions, key=key)\n",
        "\n",
        "    def __call__(\n",
        "        self,\n",
        "        state: Int[Array, \"hilb_size\"]\n",
        "    ) -> Complex[Array, \"\"]:\n",
        "        indices = nkstate_to_indexseq(state)[0]\n",
        "        A = jax.vmap(self.embedding)(indices)\n",
        "        return logdet_cmplx(A)"
      ]
    },
    {
      "cell_type": "code",
      "execution_count": null,
      "id": "105cc55e",
      "metadata": {
        "colab": {
          "base_uri": "https://localhost:8080/"
        },
        "id": "105cc55e",
        "outputId": "820687f8-ccaf-497c-f0ea-6ebf105dc473"
      },
      "outputs": [
        {
          "output_type": "execute_result",
          "data": {
            "text/plain": [
              "448"
            ]
          },
          "metadata": {},
          "execution_count": 9
        }
      ],
      "source": [
        "key, subkey = jax.random.split(key)\n",
        "model = LogSlaterDeterminant(hi, key=subkey)\n",
        "ma = BatchWrapper(\n",
        "    model\n",
        ")\n",
        "sa = nk.sampler.MetropolisFermionHop(hi, graph=graph_extended)\n",
        "count_parameters(model)"
      ]
    },
    {
      "cell_type": "code",
      "execution_count": null,
      "id": "510b6219",
      "metadata": {
        "id": "510b6219"
      },
      "outputs": [],
      "source": [
        "vstate = nk.vqs.MCState(sa, ma, n_samples=2**12, n_discard_per_chain=16)"
      ]
    },
    {
      "cell_type": "code",
      "execution_count": null,
      "id": "c7d01488",
      "metadata": {
        "colab": {
          "base_uri": "https://localhost:8080/"
        },
        "id": "c7d01488",
        "outputId": "581922f0-2841-4b61-86d0-69c0e4559c1f"
      },
      "outputs": [
        {
          "output_type": "execute_result",
          "data": {
            "text/plain": [
              "(16, 256, 32)"
            ]
          },
          "metadata": {},
          "execution_count": 11
        }
      ],
      "source": [
        "vstate.samples.shape"
      ]
    },
    {
      "cell_type": "code",
      "execution_count": null,
      "id": "e89bdbe9",
      "metadata": {
        "colab": {
          "base_uri": "https://localhost:8080/"
        },
        "id": "e89bdbe9",
        "outputId": "87d44876-be5a-4c6b-c406-f47cc259cfdb"
      },
      "outputs": [
        {
          "output_type": "execute_result",
          "data": {
            "text/plain": [
              "Array([1, 0, 0, 0, 0, 0, 0, 1, 1, 0, 0, 0, 1, 1, 0, 0, 0, 1, 0, 0, 0, 0,\n",
              "       1, 1, 1, 1, 1, 1, 1, 0, 0, 1], dtype=int8)"
            ]
          },
          "metadata": {},
          "execution_count": 12
        }
      ],
      "source": [
        "vstate.samples[0,0]"
      ]
    },
    {
      "cell_type": "code",
      "execution_count": null,
      "id": "e8d2e9db",
      "metadata": {
        "id": "e8d2e9db"
      },
      "outputs": [],
      "source": [
        "# Define the optimizer\n",
        "op = nk.optimizer.Sgd(learning_rate=0.03)\n",
        "\n",
        "# Define a preconditioner\n",
        "preconditioner = nk.optimizer.SR(diag_shift=0.01)\n",
        "\n",
        "# Create the VMC (Variational Monte Carlo) driver\n",
        "gs = nk.VMC(H, op, variational_state=vstate, preconditioner=preconditioner)"
      ]
    },
    {
      "cell_type": "code",
      "execution_count": null,
      "id": "ce032159",
      "metadata": {
        "colab": {
          "base_uri": "https://localhost:8080/",
          "height": 86,
          "referenced_widgets": [
            "08ecfb581d714c52bdeba3c81671583a",
            "daac41540c8c4cd9aa393025845c0a6f",
            "955ceabaeb7f4d3d9811a66e447079da",
            "1e9ad112b9ad4baab406d42fb5edc62c",
            "788839f277a6413986c242b12df3460b",
            "96195c5fb23a4d3c84970a8eee5778f4",
            "d69d4f51af49492697822c2d8fabbc6b",
            "67717b1e7506431f920a4c2e1a1106e9",
            "236d9527535c44b19aa93c8ce12f36fe",
            "b11d216f165a49dc9db02fca967d3295",
            "67d789fc5c8b445991ec637c75bd8477"
          ]
        },
        "id": "ce032159",
        "outputId": "d1336bd4-0ddf-43d8-f419-0081ff44a0b0"
      },
      "outputs": [
        {
          "output_type": "display_data",
          "data": {
            "text/plain": [
              "  0%|          | 0/150 [00:00<?, ?it/s]"
            ],
            "application/vnd.jupyter.widget-view+json": {
              "version_major": 2,
              "version_minor": 0,
              "model_id": "08ecfb581d714c52bdeba3c81671583a"
            }
          },
          "metadata": {}
        },
        {
          "output_type": "execute_result",
          "data": {
            "text/plain": [
              "(RuntimeLog():\n",
              "  keys = ['acceptance', 'Energy'],)"
            ]
          },
          "metadata": {},
          "execution_count": 14
        }
      ],
      "source": [
        "# Construct the logger to visualize the data later on\n",
        "slater_log=nk.logging.RuntimeLog()\n",
        "\n",
        "# Run the optimization for 300 iterations\n",
        "gs.run(n_iter=150, out=slater_log)"
      ]
    },
    {
      "cell_type": "code",
      "execution_count": null,
      "id": "f2c0a9f2",
      "metadata": {
        "colab": {
          "base_uri": "https://localhost:8080/"
        },
        "id": "f2c0a9f2",
        "outputId": "0d778de8-5776-4037-c32d-0d7b40101f39"
      },
      "outputs": [
        {
          "output_type": "stream",
          "name": "stdout",
          "text": [
            "Optimized energy : -8.853+0.000j ± 0.041 [σ²=5.482, R̂=1.0047]\n",
            "Relative error   : 0.2523211922965923\n"
          ]
        }
      ],
      "source": [
        "sd_energy = vstate.expect(H)\n",
        "error = abs((sd_energy.mean - E_gs) / E_gs)\n",
        "\n",
        "print(f\"Optimized energy : {sd_energy}\")\n",
        "print(f\"Relative error   : {error}\")"
      ]
    },
    {
      "cell_type": "markdown",
      "id": "cc8d74c9",
      "metadata": {
        "id": "cc8d74c9"
      },
      "source": [
        "### Neural Jastrow"
      ]
    },
    {
      "cell_type": "code",
      "execution_count": null,
      "id": "1d4fe03b",
      "metadata": {
        "id": "1d4fe03b"
      },
      "outputs": [],
      "source": [
        "class LogNeuralJastrowSlater(eqx.Module):\n",
        "    embedding: eqx.nn.Embedding\n",
        "    jastrow_linear: eqx.nn.Linear\n",
        "\n",
        "    def __init__(\n",
        "        self,\n",
        "        hilbert: nk.hilbert.SpinOrbitalFermions,\n",
        "        hidden_size: int,\n",
        "        *,\n",
        "        key: PRNGKeyArray\n",
        "    ):\n",
        "        embedding_key, jastrow_key = jax.random.split(key, 2)\n",
        "        self.embedding = eqx.nn.Embedding(hilbert.size, hilbert.n_fermions, key=embedding_key)\n",
        "        self.jastrow_linear = eqx.nn.Linear(\n",
        "            hilbert.size,\n",
        "            hidden_size,\n",
        "            key=jastrow_key\n",
        "        )\n",
        "\n",
        "    def __call__(\n",
        "        self,\n",
        "        state: Int[Array, \"hilb_size\"]\n",
        "    ) -> Complex[Array, \"\"]:\n",
        "        indices = nkstate_to_indexseq(state)[0]\n",
        "        A = jax.vmap(self.embedding)(indices)\n",
        "        J = self.jastrow_linear(state)\n",
        "        J = jax.nn.tanh(J)\n",
        "        J = jnp.sum(J)\n",
        "\n",
        "        return logdet_cmplx(A) + J"
      ]
    },
    {
      "cell_type": "code",
      "execution_count": null,
      "id": "a1cedc1b",
      "metadata": {
        "colab": {
          "base_uri": "https://localhost:8080/"
        },
        "id": "a1cedc1b",
        "outputId": "36833458-a01b-48a3-9eec-685721ba654a"
      },
      "outputs": [
        {
          "output_type": "execute_result",
          "data": {
            "text/plain": [
              "1504"
            ]
          },
          "metadata": {},
          "execution_count": 17
        }
      ],
      "source": [
        "key, subkey = jax.random.split(key)\n",
        "model = LogNeuralJastrowSlater(\n",
        "    hilbert=hi,\n",
        "    hidden_size=hi.size,\n",
        "    key=subkey\n",
        ")\n",
        "ma = BatchWrapper(\n",
        "    model\n",
        ")\n",
        "sa = nk.sampler.MetropolisFermionHop(hi, graph=graph_extended)\n",
        "vstate = nk.vqs.MCState(sa, ma, n_samples=2**12, n_discard_per_chain=16)\n",
        "count_parameters(model)"
      ]
    },
    {
      "cell_type": "code",
      "execution_count": null,
      "id": "17bbc711",
      "metadata": {
        "id": "17bbc711"
      },
      "outputs": [],
      "source": [
        "# Define the optimizer\n",
        "op = nk.optimizer.Sgd(learning_rate=0.03)\n",
        "\n",
        "# Define a preconditioner\n",
        "preconditioner = nk.optimizer.SR(diag_shift=0.01)\n",
        "\n",
        "# Create the VMC (Variational Monte Carlo) driver\n",
        "gs = nk.VMC(H, op, variational_state=vstate, preconditioner=preconditioner)"
      ]
    },
    {
      "cell_type": "code",
      "execution_count": null,
      "id": "cf6db0f1",
      "metadata": {
        "colab": {
          "base_uri": "https://localhost:8080/",
          "height": 86,
          "referenced_widgets": [
            "bce728b895564626b329d22252a16a69",
            "3e285cf4147740d38dd75ac58041d69c",
            "50171857d55240b590aee7b5fb3525e7",
            "892ebcfa3eae4ce5abc2a2a99d745dd1",
            "8fe4e13770a94466b8901b7151fc79bd",
            "e04f759c52884ae980ce42300a19df7e",
            "640d732b510646b2983252867628aaa3",
            "3ef52222c82740b5ace28ac930da9eec",
            "1696c32b071b4d0bae1a20ab299ae8c8",
            "671a08b4ccda4adebce8f0e5b0b799ba",
            "3072d1f37988409698b86e83721f99dc"
          ]
        },
        "id": "cf6db0f1",
        "outputId": "0232fcb6-8f30-47be-847c-5c24e3d48726"
      },
      "outputs": [
        {
          "output_type": "display_data",
          "data": {
            "text/plain": [
              "  0%|          | 0/150 [00:00<?, ?it/s]"
            ],
            "application/vnd.jupyter.widget-view+json": {
              "version_major": 2,
              "version_minor": 0,
              "model_id": "bce728b895564626b329d22252a16a69"
            }
          },
          "metadata": {}
        },
        {
          "output_type": "execute_result",
          "data": {
            "text/plain": [
              "(RuntimeLog():\n",
              "  keys = ['acceptance', 'Energy'],)"
            ]
          },
          "metadata": {},
          "execution_count": 19
        }
      ],
      "source": [
        " # Construct the logger to visualize the data later on\n",
        "nj_log=nk.logging.RuntimeLog()\n",
        "\n",
        "# Run the optimization for 300 iterations\n",
        "gs.run(n_iter=150, out=nj_log)"
      ]
    },
    {
      "cell_type": "code",
      "execution_count": null,
      "id": "3d1c3681",
      "metadata": {
        "colab": {
          "base_uri": "https://localhost:8080/"
        },
        "id": "3d1c3681",
        "outputId": "b18adefd-55ca-49b1-e286-2f7c4ce801ff"
      },
      "outputs": [
        {
          "output_type": "stream",
          "name": "stdout",
          "text": [
            "Optimized energy : -10.709+0.000j ± 0.039 [σ²=5.548, R̂=1.0056]\n",
            "Relative error   : 0.09555590270676942\n"
          ]
        }
      ],
      "source": [
        "sd_energy = vstate.expect(H)\n",
        "error = abs((sd_energy.mean - E_gs) / E_gs)\n",
        "\n",
        "print(f\"Optimized energy : {sd_energy}\")\n",
        "print(f\"Relative error   : {error}\")"
      ]
    },
    {
      "cell_type": "markdown",
      "id": "ce972aae",
      "metadata": {
        "id": "ce972aae"
      },
      "source": [
        "### Self-Attention Ansatz"
      ]
    },
    {
      "cell_type": "code",
      "execution_count": null,
      "id": "c57b3742",
      "metadata": {
        "id": "c57b3742"
      },
      "outputs": [],
      "source": [
        "class TransformerLayer(eqx.Module):\n",
        "    attention: eqx.nn.MultiheadAttention\n",
        "    up_proj: eqx.nn.Linear\n",
        "    down_proj: eqx.nn.Linear\n",
        "    ln1: eqx.nn.LayerNorm\n",
        "    ln2: eqx.nn.LayerNorm\n",
        "    activation: Callable\n",
        "\n",
        "    def __init__(\n",
        "        self,\n",
        "        hidden_size: int,\n",
        "        attention_size: int,\n",
        "        num_head: int,\n",
        "        intermediate_size: int,\n",
        "        activation: Callable,\n",
        "        *,\n",
        "        key\n",
        "    ):\n",
        "        attention_key, up_proj_key, down_proj_key = jax.random.split(key, 3)\n",
        "        self.attention = eqx.nn.MultiheadAttention(\n",
        "            num_head,\n",
        "            hidden_size,\n",
        "            hidden_size,\n",
        "            hidden_size,\n",
        "            hidden_size,\n",
        "            attention_size,\n",
        "            attention_size,\n",
        "            key=attention_key\n",
        "        )\n",
        "        self.up_proj = eqx.nn.Linear(\n",
        "            hidden_size,\n",
        "            intermediate_size,\n",
        "            key=up_proj_key\n",
        "        )\n",
        "        self.down_proj = eqx.nn.Linear(\n",
        "            intermediate_size,\n",
        "            hidden_size,\n",
        "            key=down_proj_key\n",
        "        )\n",
        "        self.ln1 = eqx.nn.LayerNorm(hidden_size)\n",
        "        self.ln2 = eqx.nn.LayerNorm(hidden_size)\n",
        "        self.activation = activation\n",
        "\n",
        "    def __call__(\n",
        "        self,\n",
        "        x: Float[Array, \"n h\"]\n",
        "    ):\n",
        "        atten_out = self.attention(x, x, x)\n",
        "        ff_in = jax.vmap(self.ln1)(atten_out + x)\n",
        "        up_projected = jax.vmap(self.up_proj)(ff_in)\n",
        "        up_projected = self.activation(up_projected)\n",
        "        down_projected = jax.vmap(self.down_proj)(up_projected)\n",
        "        return jax.vmap(self.ln2)(ff_in + down_projected)\n",
        "\n",
        "class AttentionWFN(eqx.Module):\n",
        "    embedding: eqx.nn.Embedding\n",
        "    ln: eqx.nn.LayerNorm\n",
        "    layers: tuple[TransformerLayer]\n",
        "    projector: eqx.nn.Linear\n",
        "    use_complex: bool=eqx.field(static=True)\n",
        "\n",
        "    def __init__(\n",
        "        self,\n",
        "        hilbert: nk.hilbert.SpinOrbitalFermions,\n",
        "        num_layers: int,\n",
        "        hidden_size: int,\n",
        "        attention_size: int,\n",
        "        num_head: int,\n",
        "        intermediate_size: int,\n",
        "        activation: jax.nn.gelu,\n",
        "        *,\n",
        "        use_complex: bool=False,\n",
        "        key: PRNGKeyArray\n",
        "    ):\n",
        "        embedding_key, attention_key, proj_key = jax.random.split(key, 3)\n",
        "        self.embedding = eqx.nn.Embedding(hilbert.size, hidden_size, key=embedding_key)\n",
        "        self.ln = eqx.nn.LayerNorm(hidden_size)\n",
        "        attention_keys = jax.random.split(attention_key, num_layers)\n",
        "        self.layers = tuple(\n",
        "            TransformerLayer(\n",
        "                hidden_size,\n",
        "                attention_size,\n",
        "                num_head,\n",
        "                intermediate_size,\n",
        "                activation,\n",
        "                key=subkey\n",
        "            )\n",
        "            for subkey in attention_keys\n",
        "        )\n",
        "        out_size = 2 * hilbert.n_fermions if use_complex else hilbert.n_fermions\n",
        "        self.projector = eqx.nn.Linear(hidden_size, out_size, key=proj_key)\n",
        "        self.use_complex = use_complex\n",
        "\n",
        "\n",
        "    def __call__(\n",
        "        self,\n",
        "        state: Int[Array, \"hilb_size\"]\n",
        "    ) -> Complex[Array, \"\"]:\n",
        "        indices = nkstate_to_indexseq(state)[0]\n",
        "        embedded = jax.vmap(self.embedding)(indices) # (n_fermions, hidden_size)\n",
        "        embedded = jax.vmap(self.ln)(embedded)\n",
        "        for layer in self.layers:\n",
        "            embedded = layer(embedded)\n",
        "        projected = jax.vmap(self.projector)(embedded)\n",
        "        if self.use_complex:\n",
        "            real, imag = jnp.split(projected, 2, axis=1)\n",
        "            projected = jax.lax.complex(real, imag)\n",
        "        return logdet_cmplx(projected)"
      ]
    },
    {
      "cell_type": "code",
      "execution_count": null,
      "id": "1c3dc885",
      "metadata": {
        "colab": {
          "base_uri": "https://localhost:8080/"
        },
        "id": "1c3dc885",
        "outputId": "a72af800-4a1c-4278-f350-cc5d0cf00dfa"
      },
      "outputs": [
        {
          "output_type": "execute_result",
          "data": {
            "text/plain": [
              "52078"
            ]
          },
          "metadata": {},
          "execution_count": 36
        }
      ],
      "source": [
        "key, subkey = jax.random.split(key)\n",
        "model = AttentionWFN(\n",
        "    hilbert=hi,\n",
        "    num_layers=2,\n",
        "    hidden_size=48,\n",
        "    attention_size=48,\n",
        "    num_head=2,\n",
        "    intermediate_size=64,\n",
        "    activation=jax.nn.mish,\n",
        "    use_complex=False,\n",
        "    key=subkey\n",
        ")\n",
        "ma = BatchWrapper(\n",
        "    model\n",
        ")\n",
        "sa = nk.sampler.MetropolisFermionHop(hi, graph=graph_extended)\n",
        "vstate = nk.vqs.MCState(sa, ma, n_samples=2**12, n_discard_per_chain=16)\n",
        "count_parameters(model)"
      ]
    },
    {
      "cell_type": "code",
      "execution_count": null,
      "id": "723004c6",
      "metadata": {
        "id": "723004c6"
      },
      "outputs": [],
      "source": [
        "# op = nk.optimizer.Adam(learning_rate=0.001)\n",
        "# gs = nk.VMC(H, op, variational_state=vstate)\n",
        "\n",
        "# Define the optimizer\n",
        "op = nk.optimizer.Sgd(learning_rate=0.03)\n",
        "\n",
        "# Define a preconditioner\n",
        "preconditioner = nk.optimizer.SR(diag_shift=0.01)\n",
        "\n",
        "# Create the VMC (Variational Monte Carlo) driver\n",
        "gs = nk.VMC(H, op, variational_state=vstate, preconditioner=preconditioner)\n",
        "# gs = VMC_SRt(H, op, variational_state=vstate, diag_shift=0.004)"
      ]
    },
    {
      "cell_type": "code",
      "execution_count": 38,
      "id": "c6fd87d9",
      "metadata": {
        "colab": {
          "base_uri": "https://localhost:8080/",
          "height": 86,
          "referenced_widgets": [
            "bd0f6040d3b3454494dbd0f15f29de11",
            "78410266d7484c168c3a98b19d7b45a9",
            "0c865dff141748f282f3fe6248da098c",
            "049836bae66049c18592efbe6a336474",
            "e3c46456291e43f59877e387f2e80282",
            "c318c0a2b3454ab8b9b0d4d9900b4f7b",
            "5c9af107c8144510b5aa5059e175468e",
            "0e29c0691f3b49939696e0a4310bea6e",
            "bc7945184f594a80b65e1526711081cc",
            "5a8778e093164e0394cd0753f4cd06b7",
            "79a9144e5e224de5b59dee50d18fc90a"
          ]
        },
        "id": "c6fd87d9",
        "outputId": "b551d853-9d59-4df8-df85-de96299c7201"
      },
      "outputs": [
        {
          "data": {
            "application/vnd.jupyter.widget-view+json": {
              "model_id": "bd0f6040d3b3454494dbd0f15f29de11",
              "version_major": 2,
              "version_minor": 0
            },
            "text/plain": [
              "  0%|          | 0/150 [00:00<?, ?it/s]"
            ]
          },
          "metadata": {},
          "output_type": "display_data"
        },
        {
          "output_type": "execute_result",
          "data": {
            "text/plain": [
              "(RuntimeLog():\n",
              "  keys = ['acceptance', 'Energy'],)"
            ]
          },
          "metadata": {},
          "execution_count": 38
        }
      ],
      "source": [
        "# Construct the logger to visualize the data later on\n",
        "atten_log=nk.logging.RuntimeLog()\n",
        "\n",
        "# Run the optimization for 300 iterations\n",
        "gs.run(n_iter=150, out=atten_log)"
      ]
    },
    {
      "cell_type": "code",
      "execution_count": 39,
      "id": "b391643d",
      "metadata": {
        "id": "b391643d",
        "colab": {
          "base_uri": "https://localhost:8080/"
        },
        "outputId": "b0ce7de8-aa26-4bc7-98ce-03f1fb0684c2"
      },
      "outputs": [
        {
          "output_type": "stream",
          "name": "stdout",
          "text": [
            "Optimized energy : -11.590+0.000j ± 0.019 [σ²=1.385, R̂=1.0045]\n",
            "Relative error   : 0.021106252987365157\n"
          ]
        }
      ],
      "source": [
        "sd_energy = vstate.expect(H)\n",
        "error = abs((sd_energy.mean - E_gs) / E_gs)\n",
        "\n",
        "print(f\"Optimized energy : {sd_energy}\")\n",
        "print(f\"Relative error   : {error}\")"
      ]
    },
    {
      "cell_type": "code",
      "execution_count": 40,
      "id": "ec3fef3e",
      "metadata": {
        "id": "ec3fef3e",
        "colab": {
          "base_uri": "https://localhost:8080/",
          "height": 468
        },
        "outputId": "d765c792-6580-48fe-d411-e0022099a363"
      },
      "outputs": [
        {
          "output_type": "execute_result",
          "data": {
            "text/plain": [
              "<matplotlib.legend.Legend at 0x7bb34c413a50>"
            ]
          },
          "metadata": {},
          "execution_count": 40
        },
        {
          "output_type": "display_data",
          "data": {
            "text/plain": [
              "<Figure size 640x480 with 1 Axes>"
            ],
            "image/png": "[encoded data removed]"
          },
          "metadata": {}
        }
      ],
      "source": [
        "logged_data = (slater_log.data, nj_log.data, atten_log.data)\n",
        "labels = (\"Slater\",\"Neural Jastrow\",\"Attention\")\n",
        "\n",
        "for data,label in zip(logged_data,labels):\n",
        "    plt.errorbar(data[\"Energy\"].iters, data[\"Energy\"].Mean.real, yerr=data[\"Energy\"].Sigma,label=label)\n",
        "\n",
        "plt.hlines([E_gs], xmin=0, xmax=150, color='black', label=\"Exact\")\n",
        "\n",
        "plt.xlabel('Iterations')\n",
        "plt.ylabel('Energy')\n",
        "plt.legend()"
      ]
    }
  ],
  "metadata": {
    "accelerator": "GPU",
    "colab": {
      "gpuType": "A100",
      "machine_shape": "hm",
      "provenance": []
    },
    "kernelspec": {
      "display_name": "atten-wfn",
      "language": "python",
      "name": "python3"
    },
    "language_info": {
      "codemirror_mode": {
        "name": "ipython",
        "version": 3
      },
      "file_extension": ".py",
      "mimetype": "text/x-python",
      "name": "python",
      "nbconvert_exporter": "python",
      "pygments_lexer": "ipython3",
      "version": "3.12.8"
    },
    "widgets": {
      "application/vnd.jupyter.widget-state+json": {
        "08ecfb581d714c52bdeba3c81671583a": {
          "model_module": "@jupyter-widgets/controls",
          "model_name": "HBoxModel",
          "model_module_version": "1.5.0",
          "state": {
            "_dom_classes": [],
            "_model_module": "@jupyter-widgets/controls",
            "_model_module_version": "1.5.0",
            "_model_name": "HBoxModel",
            "_view_count": null,
            "_view_module": "@jupyter-widgets/controls",
            "_view_module_version": "1.5.0",
            "_view_name": "HBoxView",
            "box_style": "",
            "children": [
              "IPY_MODEL_daac41540c8c4cd9aa393025845c0a6f",
              "IPY_MODEL_955ceabaeb7f4d3d9811a66e447079da",
              "IPY_MODEL_1e9ad112b9ad4baab406d42fb5edc62c"
            ],
            "layout": "IPY_MODEL_788839f277a6413986c242b12df3460b"
          }
        },
        "daac41540c8c4cd9aa393025845c0a6f": {
          "model_module": "@jupyter-widgets/controls",
          "model_name": "HTMLModel",
          "model_module_version": "1.5.0",
          "state": {
            "_dom_classes": [],
            "_model_module": "@jupyter-widgets/controls",
            "_model_module_version": "1.5.0",
            "_model_name": "HTMLModel",
            "_view_count": null,
            "_view_module": "@jupyter-widgets/controls",
            "_view_module_version": "1.5.0",
            "_view_name": "HTMLView",
            "description": "",
            "description_tooltip": null,
            "layout": "IPY_MODEL_96195c5fb23a4d3c84970a8eee5778f4",
            "placeholder": "​",
            "style": "IPY_MODEL_d69d4f51af49492697822c2d8fabbc6b",
            "value": "100%"
          }
        },
        "955ceabaeb7f4d3d9811a66e447079da": {
          "model_module": "@jupyter-widgets/controls",
          "model_name": "FloatProgressModel",
          "model_module_version": "1.5.0",
          "state": {
            "_dom_classes": [],
            "_model_module": "@jupyter-widgets/controls",
            "_model_module_version": "1.5.0",
            "_model_name": "FloatProgressModel",
            "_view_count": null,
            "_view_module": "@jupyter-widgets/controls",
            "_view_module_version": "1.5.0",
            "_view_name": "ProgressView",
            "bar_style": "success",
            "description": "",
            "description_tooltip": null,
            "layout": "IPY_MODEL_67717b1e7506431f920a4c2e1a1106e9",
            "max": 150,
            "min": 0,
            "orientation": "horizontal",
            "style": "IPY_MODEL_236d9527535c44b19aa93c8ce12f36fe",
            "value": 150
          }
        },
        "1e9ad112b9ad4baab406d42fb5edc62c": {
          "model_module": "@jupyter-widgets/controls",
          "model_name": "HTMLModel",
          "model_module_version": "1.5.0",
          "state": {
            "_dom_classes": [],
            "_model_module": "@jupyter-widgets/controls",
            "_model_module_version": "1.5.0",
            "_model_name": "HTMLModel",
            "_view_count": null,
            "_view_module": "@jupyter-widgets/controls",
            "_view_module_version": "1.5.0",
            "_view_name": "HTMLView",
            "description": "",
            "description_tooltip": null,
            "layout": "IPY_MODEL_b11d216f165a49dc9db02fca967d3295",
            "placeholder": "​",
            "style": "IPY_MODEL_67d789fc5c8b445991ec637c75bd8477",
            "value": " 150/150 [03:06&lt;00:00,  1.25s/it, Energy=-8.830+0.000j ± 0.041 [σ²=5.177, R̂=1.0082]]"
          }
        },
        "788839f277a6413986c242b12df3460b": {
          "model_module": "@jupyter-widgets/base",
          "model_name": "LayoutModel",
          "model_module_version": "1.2.0",
          "state": {
            "_model_module": "@jupyter-widgets/base",
            "_model_module_version": "1.2.0",
            "_model_name": "LayoutModel",
            "_view_count": null,
            "_view_module": "@jupyter-widgets/base",
            "_view_module_version": "1.2.0",
            "_view_name": "LayoutView",
            "align_content": null,
            "align_items": null,
            "align_self": null,
            "border": null,
            "bottom": null,
            "display": "inline-flex",
            "flex": null,
            "flex_flow": "row wrap",
            "grid_area": null,
            "grid_auto_columns": null,
            "grid_auto_flow": null,
            "grid_auto_rows": null,
            "grid_column": null,
            "grid_gap": null,
            "grid_row": null,
            "grid_template_areas": null,
            "grid_template_columns": null,
            "grid_template_rows": null,
            "height": null,
            "justify_content": null,
            "justify_items": null,
            "left": null,
            "margin": null,
            "max_height": null,
            "max_width": null,
            "min_height": null,
            "min_width": null,
            "object_fit": null,
            "object_position": null,
            "order": null,
            "overflow": null,
            "overflow_x": null,
            "overflow_y": null,
            "padding": null,
            "right": null,
            "top": null,
            "visibility": null,
            "width": "100%"
          }
        },
        "96195c5fb23a4d3c84970a8eee5778f4": {
          "model_module": "@jupyter-widgets/base",
          "model_name": "LayoutModel",
          "model_module_version": "1.2.0",
          "state": {
            "_model_module": "@jupyter-widgets/base",
            "_model_module_version": "1.2.0",
            "_model_name": "LayoutModel",
            "_view_count": null,
            "_view_module": "@jupyter-widgets/base",
            "_view_module_version": "1.2.0",
            "_view_name": "LayoutView",
            "align_content": null,
            "align_items": null,
            "align_self": null,
            "border": null,
            "bottom": null,
            "display": null,
            "flex": null,
            "flex_flow": null,
            "grid_area": null,
            "grid_auto_columns": null,
            "grid_auto_flow": null,
            "grid_auto_rows": null,
            "grid_column": null,
            "grid_gap": null,
            "grid_row": null,
            "grid_template_areas": null,
            "grid_template_columns": null,
            "grid_template_rows": null,
            "height": null,
            "justify_content": null,
            "justify_items": null,
            "left": null,
            "margin": null,
            "max_height": null,
            "max_width": null,
            "min_height": null,
            "min_width": null,
            "object_fit": null,
            "object_position": null,
            "order": null,
            "overflow": null,
            "overflow_x": null,
            "overflow_y": null,
            "padding": null,
            "right": null,
            "top": null,
            "visibility": null,
            "width": null
          }
        },
        "d69d4f51af49492697822c2d8fabbc6b": {
          "model_module": "@jupyter-widgets/controls",
          "model_name": "DescriptionStyleModel",
          "model_module_version": "1.5.0",
          "state": {
            "_model_module": "@jupyter-widgets/controls",
            "_model_module_version": "1.5.0",
            "_model_name": "DescriptionStyleModel",
            "_view_count": null,
            "_view_module": "@jupyter-widgets/base",
            "_view_module_version": "1.2.0",
            "_view_name": "StyleView",
            "description_width": ""
          }
        },
        "67717b1e7506431f920a4c2e1a1106e9": {
          "model_module": "@jupyter-widgets/base",
          "model_name": "LayoutModel",
          "model_module_version": "1.2.0",
          "state": {
            "_model_module": "@jupyter-widgets/base",
            "_model_module_version": "1.2.0",
            "_model_name": "LayoutModel",
            "_view_count": null,
            "_view_module": "@jupyter-widgets/base",
            "_view_module_version": "1.2.0",
            "_view_name": "LayoutView",
            "align_content": null,
            "align_items": null,
            "align_self": null,
            "border": null,
            "bottom": null,
            "display": null,
            "flex": "2",
            "flex_flow": null,
            "grid_area": null,
            "grid_auto_columns": null,
            "grid_auto_flow": null,
            "grid_auto_rows": null,
            "grid_column": null,
            "grid_gap": null,
            "grid_row": null,
            "grid_template_areas": null,
            "grid_template_columns": null,
            "grid_template_rows": null,
            "height": null,
            "justify_content": null,
            "justify_items": null,
            "left": null,
            "margin": null,
            "max_height": null,
            "max_width": null,
            "min_height": null,
            "min_width": null,
            "object_fit": null,
            "object_position": null,
            "order": null,
            "overflow": null,
            "overflow_x": null,
            "overflow_y": null,
            "padding": null,
            "right": null,
            "top": null,
            "visibility": null,
            "width": null
          }
        },
        "236d9527535c44b19aa93c8ce12f36fe": {
          "model_module": "@jupyter-widgets/controls",
          "model_name": "ProgressStyleModel",
          "model_module_version": "1.5.0",
          "state": {
            "_model_module": "@jupyter-widgets/controls",
            "_model_module_version": "1.5.0",
            "_model_name": "ProgressStyleModel",
            "_view_count": null,
            "_view_module": "@jupyter-widgets/base",
            "_view_module_version": "1.2.0",
            "_view_name": "StyleView",
            "bar_color": null,
            "description_width": ""
          }
        },
        "b11d216f165a49dc9db02fca967d3295": {
          "model_module": "@jupyter-widgets/base",
          "model_name": "LayoutModel",
          "model_module_version": "1.2.0",
          "state": {
            "_model_module": "@jupyter-widgets/base",
            "_model_module_version": "1.2.0",
            "_model_name": "LayoutModel",
            "_view_count": null,
            "_view_module": "@jupyter-widgets/base",
            "_view_module_version": "1.2.0",
            "_view_name": "LayoutView",
            "align_content": null,
            "align_items": null,
            "align_self": null,
            "border": null,
            "bottom": null,
            "display": null,
            "flex": null,
            "flex_flow": null,
            "grid_area": null,
            "grid_auto_columns": null,
            "grid_auto_flow": null,
            "grid_auto_rows": null,
            "grid_column": null,
            "grid_gap": null,
            "grid_row": null,
            "grid_template_areas": null,
            "grid_template_columns": null,
            "grid_template_rows": null,
            "height": null,
            "justify_content": null,
            "justify_items": null,
            "left": null,
            "margin": null,
            "max_height": null,
            "max_width": null,
            "min_height": null,
            "min_width": null,
            "object_fit": null,
            "object_position": null,
            "order": null,
            "overflow": null,
            "overflow_x": null,
            "overflow_y": null,
            "padding": null,
            "right": null,
            "top": null,
            "visibility": null,
            "width": null
          }
        },
        "67d789fc5c8b445991ec637c75bd8477": {
          "model_module": "@jupyter-widgets/controls",
          "model_name": "DescriptionStyleModel",
          "model_module_version": "1.5.0",
          "state": {
            "_model_module": "@jupyter-widgets/controls",
            "_model_module_version": "1.5.0",
            "_model_name": "DescriptionStyleModel",
            "_view_count": null,
            "_view_module": "@jupyter-widgets/base",
            "_view_module_version": "1.2.0",
            "_view_name": "StyleView",
            "description_width": ""
          }
        },
        "bce728b895564626b329d22252a16a69": {
          "model_module": "@jupyter-widgets/controls",
          "model_name": "HBoxModel",
          "model_module_version": "1.5.0",
          "state": {
            "_dom_classes": [],
            "_model_module": "@jupyter-widgets/controls",
            "_model_module_version": "1.5.0",
            "_model_name": "HBoxModel",
            "_view_count": null,
            "_view_module": "@jupyter-widgets/controls",
            "_view_module_version": "1.5.0",
            "_view_name": "HBoxView",
            "box_style": "",
            "children": [
              "IPY_MODEL_3e285cf4147740d38dd75ac58041d69c",
              "IPY_MODEL_50171857d55240b590aee7b5fb3525e7",
              "IPY_MODEL_892ebcfa3eae4ce5abc2a2a99d745dd1"
            ],
            "layout": "IPY_MODEL_8fe4e13770a94466b8901b7151fc79bd"
          }
        },
        "3e285cf4147740d38dd75ac58041d69c": {
          "model_module": "@jupyter-widgets/controls",
          "model_name": "HTMLModel",
          "model_module_version": "1.5.0",
          "state": {
            "_dom_classes": [],
            "_model_module": "@jupyter-widgets/controls",
            "_model_module_version": "1.5.0",
            "_model_name": "HTMLModel",
            "_view_count": null,
            "_view_module": "@jupyter-widgets/controls",
            "_view_module_version": "1.5.0",
            "_view_name": "HTMLView",
            "description": "",
            "description_tooltip": null,
            "layout": "IPY_MODEL_e04f759c52884ae980ce42300a19df7e",
            "placeholder": "​",
            "style": "IPY_MODEL_640d732b510646b2983252867628aaa3",
            "value": "100%"
          }
        },
        "50171857d55240b590aee7b5fb3525e7": {
          "model_module": "@jupyter-widgets/controls",
          "model_name": "FloatProgressModel",
          "model_module_version": "1.5.0",
          "state": {
            "_dom_classes": [],
            "_model_module": "@jupyter-widgets/controls",
            "_model_module_version": "1.5.0",
            "_model_name": "FloatProgressModel",
            "_view_count": null,
            "_view_module": "@jupyter-widgets/controls",
            "_view_module_version": "1.5.0",
            "_view_name": "ProgressView",
            "bar_style": "success",
            "description": "",
            "description_tooltip": null,
            "layout": "IPY_MODEL_3ef52222c82740b5ace28ac930da9eec",
            "max": 150,
            "min": 0,
            "orientation": "horizontal",
            "style": "IPY_MODEL_1696c32b071b4d0bae1a20ab299ae8c8",
            "value": 150
          }
        },
        "892ebcfa3eae4ce5abc2a2a99d745dd1": {
          "model_module": "@jupyter-widgets/controls",
          "model_name": "HTMLModel",
          "model_module_version": "1.5.0",
          "state": {
            "_dom_classes": [],
            "_model_module": "@jupyter-widgets/controls",
            "_model_module_version": "1.5.0",
            "_model_name": "HTMLModel",
            "_view_count": null,
            "_view_module": "@jupyter-widgets/controls",
            "_view_module_version": "1.5.0",
            "_view_name": "HTMLView",
            "description": "",
            "description_tooltip": null,
            "layout": "IPY_MODEL_671a08b4ccda4adebce8f0e5b0b799ba",
            "placeholder": "​",
            "style": "IPY_MODEL_3072d1f37988409698b86e83721f99dc",
            "value": " 150/150 [03:23&lt;00:00,  1.45s/it, Energy=-10.680+0.000j ± 0.036 [σ²=4.946, R̂=1.0078]]"
          }
        },
        "8fe4e13770a94466b8901b7151fc79bd": {
          "model_module": "@jupyter-widgets/base",
          "model_name": "LayoutModel",
          "model_module_version": "1.2.0",
          "state": {
            "_model_module": "@jupyter-widgets/base",
            "_model_module_version": "1.2.0",
            "_model_name": "LayoutModel",
            "_view_count": null,
            "_view_module": "@jupyter-widgets/base",
            "_view_module_version": "1.2.0",
            "_view_name": "LayoutView",
            "align_content": null,
            "align_items": null,
            "align_self": null,
            "border": null,
            "bottom": null,
            "display": "inline-flex",
            "flex": null,
            "flex_flow": "row wrap",
            "grid_area": null,
            "grid_auto_columns": null,
            "grid_auto_flow": null,
            "grid_auto_rows": null,
            "grid_column": null,
            "grid_gap": null,
            "grid_row": null,
            "grid_template_areas": null,
            "grid_template_columns": null,
            "grid_template_rows": null,
            "height": null,
            "justify_content": null,
            "justify_items": null,
            "left": null,
            "margin": null,
            "max_height": null,
            "max_width": null,
            "min_height": null,
            "min_width": null,
            "object_fit": null,
            "object_position": null,
            "order": null,
            "overflow": null,
            "overflow_x": null,
            "overflow_y": null,
            "padding": null,
            "right": null,
            "top": null,
            "visibility": null,
            "width": "100%"
          }
        },
        "e04f759c52884ae980ce42300a19df7e": {
          "model_module": "@jupyter-widgets/base",
          "model_name": "LayoutModel",
          "model_module_version": "1.2.0",
          "state": {
            "_model_module": "@jupyter-widgets/base",
            "_model_module_version": "1.2.0",
            "_model_name": "LayoutModel",
            "_view_count": null,
            "_view_module": "@jupyter-widgets/base",
            "_view_module_version": "1.2.0",
            "_view_name": "LayoutView",
            "align_content": null,
            "align_items": null,
            "align_self": null,
            "border": null,
            "bottom": null,
            "display": null,
            "flex": null,
            "flex_flow": null,
            "grid_area": null,
            "grid_auto_columns": null,
            "grid_auto_flow": null,
            "grid_auto_rows": null,
            "grid_column": null,
            "grid_gap": null,
            "grid_row": null,
            "grid_template_areas": null,
            "grid_template_columns": null,
            "grid_template_rows": null,
            "height": null,
            "justify_content": null,
            "justify_items": null,
            "left": null,
            "margin": null,
            "max_height": null,
            "max_width": null,
            "min_height": null,
            "min_width": null,
            "object_fit": null,
            "object_position": null,
            "order": null,
            "overflow": null,
            "overflow_x": null,
            "overflow_y": null,
            "padding": null,
            "right": null,
            "top": null,
            "visibility": null,
            "width": null
          }
        },
        "640d732b510646b2983252867628aaa3": {
          "model_module": "@jupyter-widgets/controls",
          "model_name": "DescriptionStyleModel",
          "model_module_version": "1.5.0",
          "state": {
            "_model_module": "@jupyter-widgets/controls",
            "_model_module_version": "1.5.0",
            "_model_name": "DescriptionStyleModel",
            "_view_count": null,
            "_view_module": "@jupyter-widgets/base",
            "_view_module_version": "1.2.0",
            "_view_name": "StyleView",
            "description_width": ""
          }
        },
        "3ef52222c82740b5ace28ac930da9eec": {
          "model_module": "@jupyter-widgets/base",
          "model_name": "LayoutModel",
          "model_module_version": "1.2.0",
          "state": {
            "_model_module": "@jupyter-widgets/base",
            "_model_module_version": "1.2.0",
            "_model_name": "LayoutModel",
            "_view_count": null,
            "_view_module": "@jupyter-widgets/base",
            "_view_module_version": "1.2.0",
            "_view_name": "LayoutView",
            "align_content": null,
            "align_items": null,
            "align_self": null,
            "border": null,
            "bottom": null,
            "display": null,
            "flex": "2",
            "flex_flow": null,
            "grid_area": null,
            "grid_auto_columns": null,
            "grid_auto_flow": null,
            "grid_auto_rows": null,
            "grid_column": null,
            "grid_gap": null,
            "grid_row": null,
            "grid_template_areas": null,
            "grid_template_columns": null,
            "grid_template_rows": null,
            "height": null,
            "justify_content": null,
            "justify_items": null,
            "left": null,
            "margin": null,
            "max_height": null,
            "max_width": null,
            "min_height": null,
            "min_width": null,
            "object_fit": null,
            "object_position": null,
            "order": null,
            "overflow": null,
            "overflow_x": null,
            "overflow_y": null,
            "padding": null,
            "right": null,
            "top": null,
            "visibility": null,
            "width": null
          }
        },
        "1696c32b071b4d0bae1a20ab299ae8c8": {
          "model_module": "@jupyter-widgets/controls",
          "model_name": "ProgressStyleModel",
          "model_module_version": "1.5.0",
          "state": {
            "_model_module": "@jupyter-widgets/controls",
            "_model_module_version": "1.5.0",
            "_model_name": "ProgressStyleModel",
            "_view_count": null,
            "_view_module": "@jupyter-widgets/base",
            "_view_module_version": "1.2.0",
            "_view_name": "StyleView",
            "bar_color": null,
            "description_width": ""
          }
        },
        "671a08b4ccda4adebce8f0e5b0b799ba": {
          "model_module": "@jupyter-widgets/base",
          "model_name": "LayoutModel",
          "model_module_version": "1.2.0",
          "state": {
            "_model_module": "@jupyter-widgets/base",
            "_model_module_version": "1.2.0",
            "_model_name": "LayoutModel",
            "_view_count": null,
            "_view_module": "@jupyter-widgets/base",
            "_view_module_version": "1.2.0",
            "_view_name": "LayoutView",
            "align_content": null,
            "align_items": null,
            "align_self": null,
            "border": null,
            "bottom": null,
            "display": null,
            "flex": null,
            "flex_flow": null,
            "grid_area": null,
            "grid_auto_columns": null,
            "grid_auto_flow": null,
            "grid_auto_rows": null,
            "grid_column": null,
            "grid_gap": null,
            "grid_row": null,
            "grid_template_areas": null,
            "grid_template_columns": null,
            "grid_template_rows": null,
            "height": null,
            "justify_content": null,
            "justify_items": null,
            "left": null,
            "margin": null,
            "max_height": null,
            "max_width": null,
            "min_height": null,
            "min_width": null,
            "object_fit": null,
            "object_position": null,
            "order": null,
            "overflow": null,
            "overflow_x": null,
            "overflow_y": null,
            "padding": null,
            "right": null,
            "top": null,
            "visibility": null,
            "width": null
          }
        },
        "3072d1f37988409698b86e83721f99dc": {
          "model_module": "@jupyter-widgets/controls",
          "model_name": "DescriptionStyleModel",
          "model_module_version": "1.5.0",
          "state": {
            "_model_module": "@jupyter-widgets/controls",
            "_model_module_version": "1.5.0",
            "_model_name": "DescriptionStyleModel",
            "_view_count": null,
            "_view_module": "@jupyter-widgets/base",
            "_view_module_version": "1.2.0",
            "_view_name": "StyleView",
            "description_width": ""
          }
        },
        "bd0f6040d3b3454494dbd0f15f29de11": {
          "model_module": "@jupyter-widgets/controls",
          "model_name": "HBoxModel",
          "model_module_version": "1.5.0",
          "state": {
            "_dom_classes": [],
            "_model_module": "@jupyter-widgets/controls",
            "_model_module_version": "1.5.0",
            "_model_name": "HBoxModel",
            "_view_count": null,
            "_view_module": "@jupyter-widgets/controls",
            "_view_module_version": "1.5.0",
            "_view_name": "HBoxView",
            "box_style": "",
            "children": [
              "IPY_MODEL_78410266d7484c168c3a98b19d7b45a9",
              "IPY_MODEL_0c865dff141748f282f3fe6248da098c",
              "IPY_MODEL_049836bae66049c18592efbe6a336474"
            ],
            "layout": "IPY_MODEL_e3c46456291e43f59877e387f2e80282"
          }
        },
        "78410266d7484c168c3a98b19d7b45a9": {
          "model_module": "@jupyter-widgets/controls",
          "model_name": "HTMLModel",
          "model_module_version": "1.5.0",
          "state": {
            "_dom_classes": [],
            "_model_module": "@jupyter-widgets/controls",
            "_model_module_version": "1.5.0",
            "_model_name": "HTMLModel",
            "_view_count": null,
            "_view_module": "@jupyter-widgets/controls",
            "_view_module_version": "1.5.0",
            "_view_name": "HTMLView",
            "description": "",
            "description_tooltip": null,
            "layout": "IPY_MODEL_c318c0a2b3454ab8b9b0d4d9900b4f7b",
            "placeholder": "​",
            "style": "IPY_MODEL_5c9af107c8144510b5aa5059e175468e",
            "value": "100%"
          }
        },
        "0c865dff141748f282f3fe6248da098c": {
          "model_module": "@jupyter-widgets/controls",
          "model_name": "FloatProgressModel",
          "model_module_version": "1.5.0",
          "state": {
            "_dom_classes": [],
            "_model_module": "@jupyter-widgets/controls",
            "_model_module_version": "1.5.0",
            "_model_name": "FloatProgressModel",
            "_view_count": null,
            "_view_module": "@jupyter-widgets/controls",
            "_view_module_version": "1.5.0",
            "_view_name": "ProgressView",
            "bar_style": "success",
            "description": "",
            "description_tooltip": null,
            "layout": "IPY_MODEL_0e29c0691f3b49939696e0a4310bea6e",
            "max": 150,
            "min": 0,
            "orientation": "horizontal",
            "style": "IPY_MODEL_bc7945184f594a80b65e1526711081cc",
            "value": 150
          }
        },
        "049836bae66049c18592efbe6a336474": {
          "model_module": "@jupyter-widgets/controls",
          "model_name": "HTMLModel",
          "model_module_version": "1.5.0",
          "state": {
            "_dom_classes": [],
            "_model_module": "@jupyter-widgets/controls",
            "_model_module_version": "1.5.0",
            "_model_name": "HTMLModel",
            "_view_count": null,
            "_view_module": "@jupyter-widgets/controls",
            "_view_module_version": "1.5.0",
            "_view_name": "HTMLView",
            "description": "",
            "description_tooltip": null,
            "layout": "IPY_MODEL_5a8778e093164e0394cd0753f4cd06b7",
            "placeholder": "​",
            "style": "IPY_MODEL_79a9144e5e224de5b59dee50d18fc90a",
            "value": " 150/150 [12:37&lt;00:00,  4.64s/it, Energy=-11.574+0.000j ± 0.020 [σ²=1.258, R̂=1.0068]]"
          }
        },
        "e3c46456291e43f59877e387f2e80282": {
          "model_module": "@jupyter-widgets/base",
          "model_name": "LayoutModel",
          "model_module_version": "1.2.0",
          "state": {
            "_model_module": "@jupyter-widgets/base",
            "_model_module_version": "1.2.0",
            "_model_name": "LayoutModel",
            "_view_count": null,
            "_view_module": "@jupyter-widgets/base",
            "_view_module_version": "1.2.0",
            "_view_name": "LayoutView",
            "align_content": null,
            "align_items": null,
            "align_self": null,
            "border": null,
            "bottom": null,
            "display": "inline-flex",
            "flex": null,
            "flex_flow": "row wrap",
            "grid_area": null,
            "grid_auto_columns": null,
            "grid_auto_flow": null,
            "grid_auto_rows": null,
            "grid_column": null,
            "grid_gap": null,
            "grid_row": null,
            "grid_template_areas": null,
            "grid_template_columns": null,
            "grid_template_rows": null,
            "height": null,
            "justify_content": null,
            "justify_items": null,
            "left": null,
            "margin": null,
            "max_height": null,
            "max_width": null,
            "min_height": null,
            "min_width": null,
            "object_fit": null,
            "object_position": null,
            "order": null,
            "overflow": null,
            "overflow_x": null,
            "overflow_y": null,
            "padding": null,
            "right": null,
            "top": null,
            "visibility": null,
            "width": "100%"
          }
        },
        "c318c0a2b3454ab8b9b0d4d9900b4f7b": {
          "model_module": "@jupyter-widgets/base",
          "model_name": "LayoutModel",
          "model_module_version": "1.2.0",
          "state": {
            "_model_module": "@jupyter-widgets/base",
            "_model_module_version": "1.2.0",
            "_model_name": "LayoutModel",
            "_view_count": null,
            "_view_module": "@jupyter-widgets/base",
            "_view_module_version": "1.2.0",
            "_view_name": "LayoutView",
            "align_content": null,
            "align_items": null,
            "align_self": null,
            "border": null,
            "bottom": null,
            "display": null,
            "flex": null,
            "flex_flow": null,
            "grid_area": null,
            "grid_auto_columns": null,
            "grid_auto_flow": null,
            "grid_auto_rows": null,
            "grid_column": null,
            "grid_gap": null,
            "grid_row": null,
            "grid_template_areas": null,
            "grid_template_columns": null,
            "grid_template_rows": null,
            "height": null,
            "justify_content": null,
            "justify_items": null,
            "left": null,
            "margin": null,
            "max_height": null,
            "max_width": null,
            "min_height": null,
            "min_width": null,
            "object_fit": null,
            "object_position": null,
            "order": null,
            "overflow": null,
            "overflow_x": null,
            "overflow_y": null,
            "padding": null,
            "right": null,
            "top": null,
            "visibility": null,
            "width": null
          }
        },
        "5c9af107c8144510b5aa5059e175468e": {
          "model_module": "@jupyter-widgets/controls",
          "model_name": "DescriptionStyleModel",
          "model_module_version": "1.5.0",
          "state": {
            "_model_module": "@jupyter-widgets/controls",
            "_model_module_version": "1.5.0",
            "_model_name": "DescriptionStyleModel",
            "_view_count": null,
            "_view_module": "@jupyter-widgets/base",
            "_view_module_version": "1.2.0",
            "_view_name": "StyleView",
            "description_width": ""
          }
        },
        "0e29c0691f3b49939696e0a4310bea6e": {
          "model_module": "@jupyter-widgets/base",
          "model_name": "LayoutModel",
          "model_module_version": "1.2.0",
          "state": {
            "_model_module": "@jupyter-widgets/base",
            "_model_module_version": "1.2.0",
            "_model_name": "LayoutModel",
            "_view_count": null,
            "_view_module": "@jupyter-widgets/base",
            "_view_module_version": "1.2.0",
            "_view_name": "LayoutView",
            "align_content": null,
            "align_items": null,
            "align_self": null,
            "border": null,
            "bottom": null,
            "display": null,
            "flex": "2",
            "flex_flow": null,
            "grid_area": null,
            "grid_auto_columns": null,
            "grid_auto_flow": null,
            "grid_auto_rows": null,
            "grid_column": null,
            "grid_gap": null,
            "grid_row": null,
            "grid_template_areas": null,
            "grid_template_columns": null,
            "grid_template_rows": null,
            "height": null,
            "justify_content": null,
            "justify_items": null,
            "left": null,
            "margin": null,
            "max_height": null,
            "max_width": null,
            "min_height": null,
            "min_width": null,
            "object_fit": null,
            "object_position": null,
            "order": null,
            "overflow": null,
            "overflow_x": null,
            "overflow_y": null,
            "padding": null,
            "right": null,
            "top": null,
            "visibility": null,
            "width": null
          }
        },
        "bc7945184f594a80b65e1526711081cc": {
          "model_module": "@jupyter-widgets/controls",
          "model_name": "ProgressStyleModel",
          "model_module_version": "1.5.0",
          "state": {
            "_model_module": "@jupyter-widgets/controls",
            "_model_module_version": "1.5.0",
            "_model_name": "ProgressStyleModel",
            "_view_count": null,
            "_view_module": "@jupyter-widgets/base",
            "_view_module_version": "1.2.0",
            "_view_name": "StyleView",
            "bar_color": null,
            "description_width": ""
          }
        },
        "5a8778e093164e0394cd0753f4cd06b7": {
          "model_module": "@jupyter-widgets/base",
          "model_name": "LayoutModel",
          "model_module_version": "1.2.0",
          "state": {
            "_model_module": "@jupyter-widgets/base",
            "_model_module_version": "1.2.0",
            "_model_name": "LayoutModel",
            "_view_count": null,
            "_view_module": "@jupyter-widgets/base",
            "_view_module_version": "1.2.0",
            "_view_name": "LayoutView",
            "align_content": null,
            "align_items": null,
            "align_self": null,
            "border": null,
            "bottom": null,
            "display": null,
            "flex": null,
            "flex_flow": null,
            "grid_area": null,
            "grid_auto_columns": null,
            "grid_auto_flow": null,
            "grid_auto_rows": null,
            "grid_column": null,
            "grid_gap": null,
            "grid_row": null,
            "grid_template_areas": null,
            "grid_template_columns": null,
            "grid_template_rows": null,
            "height": null,
            "justify_content": null,
            "justify_items": null,
            "left": null,
            "margin": null,
            "max_height": null,
            "max_width": null,
            "min_height": null,
            "min_width": null,
            "object_fit": null,
            "object_position": null,
            "order": null,
            "overflow": null,
            "overflow_x": null,
            "overflow_y": null,
            "padding": null,
            "right": null,
            "top": null,
            "visibility": null,
            "width": null
          }
        },
        "79a9144e5e224de5b59dee50d18fc90a": {
          "model_module": "@jupyter-widgets/controls",
          "model_name": "DescriptionStyleModel",
          "model_module_version": "1.5.0",
          "state": {
            "_model_module": "@jupyter-widgets/controls",
            "_model_module_version": "1.5.0",
            "_model_name": "DescriptionStyleModel",
            "_view_count": null,
            "_view_module": "@jupyter-widgets/base",
            "_view_module_version": "1.2.0",
            "_view_name": "StyleView",
            "description_width": ""
          }
        }
      }
    }
  },
  "nbformat": 4,
  "nbformat_minor": 5
}