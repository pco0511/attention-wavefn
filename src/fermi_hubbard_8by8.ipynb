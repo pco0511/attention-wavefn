{
  "cells": [
    {
      "cell_type": "code",
      "execution_count": 1,
      "id": "SKKbQS1Cu2Uq",
      "metadata": {
        "colab": {
          "base_uri": "https://localhost:8080/"
        },
        "id": "SKKbQS1Cu2Uq",
        "outputId": "d12fe4b0-e20f-4449-c992-10bef5c69f9b"
      },
      "outputs": [
        {
          "name": "stdout",
          "output_type": "stream",
          "text": [
            "Requirement already satisfied: netket in /home/pco0511/workspace/attention-wavefn/atten-wfn/lib/python3.12/site-packages (3.16.1.post1)\n",
            "Requirement already satisfied: equinox>=0.11.3 in /home/pco0511/workspace/attention-wavefn/atten-wfn/lib/python3.12/site-packages (from netket) (0.12.2)\n",
            "Requirement already satisfied: flax>=0.10.2 in /home/pco0511/workspace/attention-wavefn/atten-wfn/lib/python3.12/site-packages (from netket) (0.10.6)\n",
            "Requirement already satisfied: igraph>=0.10.0 in /home/pco0511/workspace/attention-wavefn/atten-wfn/lib/python3.12/site-packages (from netket) (0.11.8)\n",
            "Requirement already satisfied: jax>=0.3.37 in /home/pco0511/workspace/attention-wavefn/atten-wfn/lib/python3.12/site-packages (from netket) (0.6.1)\n",
            "Requirement already satisfied: numba>=0.59 in /home/pco0511/workspace/attention-wavefn/atten-wfn/lib/python3.12/site-packages (from netket) (0.61.2)\n",
            "Requirement already satisfied: numpy<3.0,>=1.20 in /home/pco0511/workspace/attention-wavefn/atten-wfn/lib/python3.12/site-packages (from netket) (2.2.6)\n",
            "Requirement already satisfied: optax<0.3,>=0.2.2 in /home/pco0511/workspace/attention-wavefn/atten-wfn/lib/python3.12/site-packages (from netket) (0.2.4)\n",
            "Requirement already satisfied: orjson<4,>=3.4 in /home/pco0511/workspace/attention-wavefn/atten-wfn/lib/python3.12/site-packages (from netket) (3.10.18)\n",
            "Requirement already satisfied: plum-dispatch>=2.4 in /home/pco0511/workspace/attention-wavefn/atten-wfn/lib/python3.12/site-packages (from netket) (2.5.7)\n",
            "Requirement already satisfied: rich>=12.0 in /home/pco0511/workspace/attention-wavefn/atten-wfn/lib/python3.12/site-packages (from netket) (14.0.0)\n",
            "Requirement already satisfied: scipy<2,>=1.5.3 in /home/pco0511/workspace/attention-wavefn/atten-wfn/lib/python3.12/site-packages (from netket) (1.15.3)\n",
            "Requirement already satisfied: tqdm<5,>=4.60 in /home/pco0511/workspace/attention-wavefn/atten-wfn/lib/python3.12/site-packages (from netket) (4.67.1)\n",
            "Requirement already satisfied: jaxtyping>=0.2.20 in /home/pco0511/workspace/attention-wavefn/atten-wfn/lib/python3.12/site-packages (from equinox>=0.11.3->netket) (0.3.2)\n",
            "Requirement already satisfied: typing-extensions>=4.5.0 in /home/pco0511/workspace/attention-wavefn/atten-wfn/lib/python3.12/site-packages (from equinox>=0.11.3->netket) (4.13.2)\n",
            "Requirement already satisfied: wadler-lindig>=0.1.0 in /home/pco0511/workspace/attention-wavefn/atten-wfn/lib/python3.12/site-packages (from equinox>=0.11.3->netket) (0.1.6)\n",
            "Requirement already satisfied: msgpack in /home/pco0511/workspace/attention-wavefn/atten-wfn/lib/python3.12/site-packages (from flax>=0.10.2->netket) (1.1.0)\n",
            "Requirement already satisfied: orbax-checkpoint in /home/pco0511/workspace/attention-wavefn/atten-wfn/lib/python3.12/site-packages (from flax>=0.10.2->netket) (0.11.13)\n",
            "Requirement already satisfied: tensorstore in /home/pco0511/workspace/attention-wavefn/atten-wfn/lib/python3.12/site-packages (from flax>=0.10.2->netket) (0.1.75)\n",
            "Requirement already satisfied: PyYAML>=5.4.1 in /home/pco0511/workspace/attention-wavefn/atten-wfn/lib/python3.12/site-packages (from flax>=0.10.2->netket) (6.0.2)\n",
            "Requirement already satisfied: treescope>=0.1.7 in /home/pco0511/workspace/attention-wavefn/atten-wfn/lib/python3.12/site-packages (from flax>=0.10.2->netket) (0.1.9)\n",
            "Requirement already satisfied: texttable>=1.6.2 in /home/pco0511/workspace/attention-wavefn/atten-wfn/lib/python3.12/site-packages (from igraph>=0.10.0->netket) (1.7.0)\n",
            "Requirement already satisfied: jaxlib<=0.6.1,>=0.6.1 in /home/pco0511/workspace/attention-wavefn/atten-wfn/lib/python3.12/site-packages (from jax>=0.3.37->netket) (0.6.1)\n",
            "Requirement already satisfied: ml_dtypes>=0.5.0 in /home/pco0511/workspace/attention-wavefn/atten-wfn/lib/python3.12/site-packages (from jax>=0.3.37->netket) (0.5.1)\n",
            "Requirement already satisfied: opt_einsum in /home/pco0511/workspace/attention-wavefn/atten-wfn/lib/python3.12/site-packages (from jax>=0.3.37->netket) (3.4.0)\n",
            "Requirement already satisfied: llvmlite<0.45,>=0.44.0dev0 in /home/pco0511/workspace/attention-wavefn/atten-wfn/lib/python3.12/site-packages (from numba>=0.59->netket) (0.44.0)\n",
            "Requirement already satisfied: absl-py>=0.7.1 in /home/pco0511/workspace/attention-wavefn/atten-wfn/lib/python3.12/site-packages (from optax<0.3,>=0.2.2->netket) (2.3.0)\n",
            "Requirement already satisfied: chex>=0.1.87 in /home/pco0511/workspace/attention-wavefn/atten-wfn/lib/python3.12/site-packages (from optax<0.3,>=0.2.2->netket) (0.1.89)\n",
            "Requirement already satisfied: etils[epy] in /home/pco0511/workspace/attention-wavefn/atten-wfn/lib/python3.12/site-packages (from optax<0.3,>=0.2.2->netket) (1.12.2)\n",
            "Requirement already satisfied: beartype>=0.16.2 in /home/pco0511/workspace/attention-wavefn/atten-wfn/lib/python3.12/site-packages (from plum-dispatch>=2.4->netket) (0.21.0)\n",
            "Requirement already satisfied: markdown-it-py>=2.2.0 in /home/pco0511/workspace/attention-wavefn/atten-wfn/lib/python3.12/site-packages (from rich>=12.0->netket) (3.0.0)\n",
            "Requirement already satisfied: pygments<3.0.0,>=2.13.0 in /home/pco0511/workspace/attention-wavefn/atten-wfn/lib/python3.12/site-packages (from rich>=12.0->netket) (2.19.1)\n",
            "Requirement already satisfied: setuptools in /home/pco0511/workspace/attention-wavefn/atten-wfn/lib/python3.12/site-packages (from chex>=0.1.87->optax<0.3,>=0.2.2->netket) (80.9.0)\n",
            "Requirement already satisfied: toolz>=0.9.0 in /home/pco0511/workspace/attention-wavefn/atten-wfn/lib/python3.12/site-packages (from chex>=0.1.87->optax<0.3,>=0.2.2->netket) (1.0.0)\n",
            "Requirement already satisfied: mdurl~=0.1 in /home/pco0511/workspace/attention-wavefn/atten-wfn/lib/python3.12/site-packages (from markdown-it-py>=2.2.0->rich>=12.0->netket) (0.1.2)\n",
            "Requirement already satisfied: nest_asyncio in /home/pco0511/workspace/attention-wavefn/atten-wfn/lib/python3.12/site-packages (from orbax-checkpoint->flax>=0.10.2->netket) (1.6.0)\n",
            "Requirement already satisfied: protobuf in /home/pco0511/workspace/attention-wavefn/atten-wfn/lib/python3.12/site-packages (from orbax-checkpoint->flax>=0.10.2->netket) (6.31.1)\n",
            "Requirement already satisfied: humanize in /home/pco0511/workspace/attention-wavefn/atten-wfn/lib/python3.12/site-packages (from orbax-checkpoint->flax>=0.10.2->netket) (4.12.3)\n",
            "Requirement already satisfied: simplejson>=3.16.0 in /home/pco0511/workspace/attention-wavefn/atten-wfn/lib/python3.12/site-packages (from orbax-checkpoint->flax>=0.10.2->netket) (3.20.1)\n",
            "Requirement already satisfied: fsspec in /home/pco0511/workspace/attention-wavefn/atten-wfn/lib/python3.12/site-packages (from etils[epy]->optax<0.3,>=0.2.2->netket) (2025.5.1)\n",
            "Requirement already satisfied: importlib_resources in /home/pco0511/workspace/attention-wavefn/atten-wfn/lib/python3.12/site-packages (from etils[epy]->optax<0.3,>=0.2.2->netket) (6.5.2)\n",
            "Requirement already satisfied: zipp in /home/pco0511/workspace/attention-wavefn/atten-wfn/lib/python3.12/site-packages (from etils[epy]->optax<0.3,>=0.2.2->netket) (3.22.0)\n",
            "\n",
            "\u001b[1m[\u001b[0m\u001b[34;49mnotice\u001b[0m\u001b[1;39;49m]\u001b[0m\u001b[39;49m A new release of pip is available: \u001b[0m\u001b[31;49m24.3.1\u001b[0m\u001b[39;49m -> \u001b[0m\u001b[32;49m25.1.1\u001b[0m\n",
            "\u001b[1m[\u001b[0m\u001b[34;49mnotice\u001b[0m\u001b[1;39;49m]\u001b[0m\u001b[39;49m To update, run: \u001b[0m\u001b[32;49mpip install --upgrade pip\u001b[0m\n"
          ]
        }
      ],
      "source": [
        "!pip install netket"
      ]
    },
    {
      "cell_type": "code",
      "execution_count": 2,
      "id": "c23ac303",
      "metadata": {
        "id": "c23ac303"
      },
      "outputs": [],
      "source": [
        "import os\n",
        "\n",
        "# os.environ[\"XLA_PYTHON_CLIENT_PREALLOCATE\"] = \"true\"\n",
        "os.environ[\"XLA_PYTHON_CLIENT_MEM_FRACTION\"] = \"0.90\"\n",
        "# os.environ[\"XLA_PYTHON_CLIENT_ALLOCATOR\"] = \"platform\"\n",
        "\n",
        "import jax\n",
        "jax.config.update(\"jax_enable_x64\", False)\n",
        "jax.config.update(\"jax_platform_name\", \"gpu\")\n",
        "\n",
        "import functools\n",
        "from typing import Callable\n",
        "\n",
        "import tqdm\n",
        "import equinox as eqx\n",
        "\n",
        "import jax.numpy as jnp\n",
        "import numpy as np\n",
        "import optax\n",
        "from jaxtyping import Array, PyTree, Int, Float, Complex, PRNGKeyArray\n",
        "\n",
        "import netket as nk\n",
        "from netket.operator import FermionOperator2ndJax\n",
        "from netket.operator.fermion import destroy as c\n",
        "from netket.operator.fermion import create as cdag\n",
        "from netket.operator.fermion import number as nc\n",
        "\n",
        "from netket.experimental.driver import VMC_SRt\n",
        "from netket.jax import logdet_cmplx\n",
        "jax.config.update(\"jax_enable_x64\", False)\n",
        "\n",
        "import matplotlib.pyplot as plt\n",
        "\n",
        "key = jax.random.key(42)"
      ]
    },
    {
      "cell_type": "markdown",
      "id": "eec4be51",
      "metadata": {
        "id": "eec4be51"
      },
      "source": [
        "## Construct Hilbert spaces and Hamiltonian operator\n",
        "- Hilbertspace\n",
        "\\begin{equation}\n",
        "    \\mathcal H = \\operatorname{span}\\{\\ket{n}:n \\in \\mathcal L(L_x, L_y, ...)\\},\\quad F_{-} (\\mathcal H) = \\bigoplus_{n=0}^\\infty S_{-}\\mathcal H^{\\otimes n}\n",
        "\\end{equation}\n",
        "Where $\\mathcal L(L_x, L_y, ...)$ is square lattice with lengths $L_x, L_y, ...$.\n",
        "\n",
        "\n",
        "- Hamiltonian operator\n",
        "\\begin{equation}\n",
        "    H=-t\\sum_{\\braket{\\mathbf r, \\mathbf r'}, \\sigma} [c_{\\sigma}^\\dagger(\\mathbf r')c_{\\sigma}(\\mathbf r) + c_{\\sigma}^\\dagger(\\mathbf r)c_{\\sigma}(\\mathbf r')] + U\\sum_{\\mathbf r} n_\\uparrow (\\mathbf r) n_\\downarrow (\\mathbf r)\n",
        "\\end{equation}\n"
      ]
    },
    {
      "cell_type": "code",
      "execution_count": 3,
      "id": "c0fb28ec",
      "metadata": {
        "colab": {
          "base_uri": "https://localhost:8080/",
          "height": 491
        },
        "id": "c0fb28ec",
        "outputId": "7c65d8fe-0b1a-41dc-eadc-ad5340f1608d"
      },
      "outputs": [
        {
          "data": {
            "image/png": "[encoded data removed]",
            "text/plain": [
              "<Figure size 640x480 with 1 Axes>"
            ]
          },
          "metadata": {},
          "output_type": "display_data"
        },
        {
          "data": {
            "text/plain": [
              "<Axes: title={'center': '2D Lattice (Distance Order: 1)'}, xlabel='X', ylabel='Y'>"
            ]
          },
          "execution_count": 3,
          "metadata": {},
          "output_type": "execute_result"
        }
      ],
      "source": [
        "def construct_system(t: float, U: float, N: int, L: list[int], pbc=True) -> tuple[nk.hilbert.SpinOrbitalFermions, FermionOperator2ndJax]:\n",
        "    hi = nk.hilbert.SpinOrbitalFermions(N, s=1/2, n_fermions=N)\n",
        "    H = FermionOperator2ndJax(hi)\n",
        "\n",
        "    graph = nk.graph.Grid(L, pbc=pbc)\n",
        "    for (r1, r2) in graph.edges():\n",
        "        for s in [-1, 1]:\n",
        "            H += -t * (cdag(hi, r1, s) * c(hi, r2, s) + cdag(hi, r2, s) * c(hi, r1, s))\n",
        "\n",
        "    for r in graph.nodes():\n",
        "        H += U * nc(hi, r, -1) * nc(hi, r, 1)\n",
        "\n",
        "    return hi, H\n",
        "\n",
        "t = 1.0\n",
        "U = 8.0\n",
        "N = 52\n",
        "L = [8, 8]\n",
        "PBC = True\n",
        "\n",
        "graph = nk.graph.Grid(L, pbc=PBC)\n",
        "graph_extended = nk.graph.disjoint_union(graph, graph)\n",
        "\n",
        "graph.draw()"
      ]
    },
    {
      "cell_type": "code",
      "execution_count": 4,
      "id": "bb5f038f",
      "metadata": {
        "id": "bb5f038f"
      },
      "outputs": [],
      "source": [
        "hi = nk.hilbert.SpinOrbitalFermions(graph.n_nodes, s=1/2, n_fermions=N)\n",
        "\n",
        "H = FermionOperator2ndJax(hi)\n",
        "for (r1, r2) in graph.edges():\n",
        "    for s in [-1, 1]:\n",
        "        H += -t * (cdag(hi, r1, s) * c(hi, r2, s) + cdag(hi, r2, s) * c(hi, r1, s))\n",
        "\n",
        "for r in graph.nodes():\n",
        "    H += U * nc(hi, r, -1) * nc(hi, r, 1)"
      ]
    },
    {
      "cell_type": "markdown",
      "id": "c1098c44",
      "metadata": {
        "id": "c1098c44"
      },
      "source": [
        "## Exact Diagonalization\n",
        "\n",
        "As a reference"
      ]
    },
    {
      "cell_type": "code",
      "execution_count": 5,
      "id": "d359ba94",
      "metadata": {
        "id": "d359ba94"
      },
      "outputs": [],
      "source": [
        "# sp_h = H.to_numba_operator().to_sparse()"
      ]
    },
    {
      "cell_type": "code",
      "execution_count": 6,
      "id": "25437948",
      "metadata": {
        "id": "25437948"
      },
      "outputs": [],
      "source": [
        "# from scipy.sparse.linalg import eigsh\n",
        "\n",
        "# eig_vals, eig_vecs = eigsh(sp_h, k=2, which=\"SA\")\n",
        "\n",
        "# E_gs = eig_vals[0]\n",
        "\n",
        "# print(\"Exact ground state energy:\", E_gs)\n",
        "E_gs = -0.75 * 64"
      ]
    },
    {
      "cell_type": "markdown",
      "id": "07c9edaa",
      "metadata": {
        "id": "07c9edaa"
      },
      "source": [
        "## Mean-Field Slater Determinant\n",
        "\n",
        "\\begin{equation}\n",
        "    \\ket{\\Phi_s}=\\prod_{\\alpha=1}^{N_{\\mathrm f}}\\phi_\\alpha^\\dagger\\ket{0}\n",
        "\\end{equation}\n",
        "\n",
        "Where $\\ket{0}$ is the vacuum state and the single-particle orbitals are created by the operators $\\phi_\\alpha^\\dagger$. In turn, these creation operators are, in general, a linear combination of the original creation operators:\n",
        "\\begin{equation}\n",
        "    \\phi_\\alpha^\\dagger =\\sum_{i} M_{\\alpha, i}c_i^\\dagger\n",
        "\\end{equation}\n",
        "The rectangular $(N\\times N_{\\mathrm f})$ matrix $M$ constitutes a set of free variational parameters (Where $N$ is the number of orbitals and $N_{\\mathrm f}$ the number of fermions).\n",
        "\n",
        "It can be shown that the amplitudes of the wave function in the computational basis $\\ket{n_1, ..., n_N}$ are determinants:\n",
        "\\begin{equation}\n",
        "    \\braket{n_1, ..., n_N|\\Phi_{s}} = \\det\\{A(n)\\}\n",
        "\\end{equation}\n",
        "where the $N_{\\mathrm f}\\times N_{\\mathrm f}$ matrix is\n",
        "\\begin{equation}\n",
        "    A(n)_{\\alpha,\\beta} = M_{R_\\alpha(\\mathbf n), \\beta},\n",
        "\\end{equation}\n",
        "where $R_\\alpha(\\mathbf n)$ denotes the index of the $\\alpha$-th occupied site (non-zero $n_i$) in $\\mathbf n=(n_1, ..., n_N)$. This can also be interepted as selecting $N_{\\mathrm f}$ rows of the matrix $M$ in corresponding to the $N_{\\mathrm f}$ occupied orbitals. For more details see Chapter 5 of Reference [1].\n",
        "\n",
        "To write down this variational amplitudes, we start by defining a convenience function to compute the logarithm of the determinant of a matrix, in the complex domain, and using jax:"
      ]
    },
    {
      "cell_type": "code",
      "execution_count": 7,
      "id": "fe84cd78",
      "metadata": {
        "id": "fe84cd78"
      },
      "outputs": [],
      "source": [
        "@jax.jit\n",
        "def nkstate_to_indexseq(\n",
        "    state,\n",
        ") -> jnp.ndarray:\n",
        "    return jnp.nonzero(state, size=hi.n_fermions)\n",
        "\n",
        "def count_parameters(model):\n",
        "    leaves = jax.tree.leaves(model)\n",
        "    return sum(x.size for x in leaves if isinstance(x, jnp.ndarray))\n",
        "\n",
        "class BatchWrapper(eqx.Module):\n",
        "    submodule: eqx.Module\n",
        "\n",
        "    def __init__(self, submodule):\n",
        "        self.submodule = submodule\n",
        "\n",
        "    def __call__(self, batch, **kwargs):\n",
        "        outputs = jax.vmap(self.submodule)(batch)\n",
        "        return outputs"
      ]
    },
    {
      "cell_type": "markdown",
      "id": "c4519e89",
      "metadata": {
        "id": "c4519e89"
      },
      "source": [
        "### Simplest Slater Determinant"
      ]
    },
    {
      "cell_type": "code",
      "execution_count": 8,
      "id": "ee1e57de",
      "metadata": {
        "id": "ee1e57de"
      },
      "outputs": [],
      "source": [
        "class LogSlaterDeterminant(eqx.Module):\n",
        "    embedding: eqx.nn.Embedding\n",
        "\n",
        "    def __init__(\n",
        "        self,\n",
        "        hilbert: nk.hilbert.SpinOrbitalFermions,\n",
        "        *,\n",
        "        key: PRNGKeyArray\n",
        "    ):\n",
        "        self.embedding = eqx.nn.Embedding(hilbert.size, hilbert.n_fermions, key=key)\n",
        "\n",
        "    def __call__(\n",
        "        self,\n",
        "        state: Int[Array, \"hilb_size\"]\n",
        "    ) -> Complex[Array, \"\"]:\n",
        "        indices = nkstate_to_indexseq(state)[0]\n",
        "        A = jax.vmap(self.embedding)(indices)\n",
        "        return logdet_cmplx(A)"
      ]
    },
    {
      "cell_type": "code",
      "execution_count": 9,
      "id": "105cc55e",
      "metadata": {
        "colab": {
          "base_uri": "https://localhost:8080/"
        },
        "id": "105cc55e",
        "outputId": "ff2be9da-e2e2-430b-dc7a-89372113da75"
      },
      "outputs": [
        {
          "data": {
            "text/plain": [
              "6656"
            ]
          },
          "execution_count": 9,
          "metadata": {},
          "output_type": "execute_result"
        }
      ],
      "source": [
        "key, subkey = jax.random.split(key)\n",
        "model = LogSlaterDeterminant(hi, key=subkey)\n",
        "ma = BatchWrapper(\n",
        "    model\n",
        ")\n",
        "sa = nk.sampler.MetropolisFermionHop(hi, graph=graph_extended)\n",
        "count_parameters(model)"
      ]
    },
    {
      "cell_type": "code",
      "execution_count": 10,
      "id": "510b6219",
      "metadata": {
        "id": "510b6219"
      },
      "outputs": [],
      "source": [
        "vstate = nk.vqs.MCState(sa, ma, n_samples=2**10, n_discard_per_chain=8)"
      ]
    },
    {
      "cell_type": "code",
      "execution_count": 11,
      "id": "c7d01488",
      "metadata": {
        "colab": {
          "base_uri": "https://localhost:8080/"
        },
        "id": "c7d01488",
        "outputId": "76656b5a-2d7b-4795-b7f5-9f936c37f3cc"
      },
      "outputs": [
        {
          "data": {
            "text/plain": [
              "(16, 64, 128)"
            ]
          },
          "execution_count": 11,
          "metadata": {},
          "output_type": "execute_result"
        }
      ],
      "source": [
        "vstate.samples.shape"
      ]
    },
    {
      "cell_type": "code",
      "execution_count": 12,
      "id": "e89bdbe9",
      "metadata": {
        "colab": {
          "base_uri": "https://localhost:8080/"
        },
        "id": "e89bdbe9",
        "outputId": "84becde4-844f-4cf9-b89b-a342d4eb17e3"
      },
      "outputs": [
        {
          "data": {
            "text/plain": [
              "Array([0, 0, 1, 1, 1, 0, 0, 1, 0, 1, 0, 0, 1, 0, 1, 0, 0, 1, 1, 1, 0, 1,\n",
              "       1, 0, 0, 0, 1, 0, 1, 1, 0, 0, 0, 0, 0, 1, 0, 0, 0, 0, 1, 1, 1, 0,\n",
              "       0, 0, 1, 0, 0, 1, 1, 1, 0, 0, 0, 0, 0, 0, 1, 0, 1, 0, 0, 0, 0, 1,\n",
              "       0, 1, 1, 0, 1, 0, 0, 0, 0, 0, 1, 0, 1, 0, 1, 1, 0, 1, 1, 0, 1, 0,\n",
              "       1, 0, 0, 1, 0, 0, 0, 0, 0, 1, 1, 0, 0, 1, 0, 1, 0, 1, 0, 1, 1, 0,\n",
              "       0, 0, 1, 1, 0, 0, 0, 0, 1, 0, 0, 0, 0, 0, 1, 1, 1, 1], dtype=int8)"
            ]
          },
          "execution_count": 12,
          "metadata": {},
          "output_type": "execute_result"
        }
      ],
      "source": [
        "vstate.samples[0,0]"
      ]
    },
    {
      "cell_type": "code",
      "execution_count": 13,
      "id": "e8d2e9db",
      "metadata": {
        "id": "e8d2e9db"
      },
      "outputs": [],
      "source": [
        "# Define the optimizer\n",
        "op = nk.optimizer.Sgd(learning_rate=0.01)\n",
        "\n",
        "# Define a preconditioner\n",
        "preconditioner = nk.optimizer.SR(diag_shift=0.01)\n",
        "\n",
        "# Create the VMC (Variational Monte Carlo) driver\n",
        "gs = nk.VMC(H, op, variational_state=vstate, preconditioner=preconditioner)"
      ]
    },
    {
      "cell_type": "code",
      "execution_count": 14,
      "id": "ce032159",
      "metadata": {
        "colab": {
          "base_uri": "https://localhost:8080/",
          "height": 86,
          "referenced_widgets": [
            "34d609ee7af54fa98c7bfd2ce75cd92b",
            "ce511ab800ca4a83a62837e6a88ad3d6",
            "0e6e949d020b48ecbdcb51e79f076010",
            "ddcab6de7ea04220a4faaa306f351a76",
            "ea9b47be34e34e74b4ba73be136ba4bf",
            "3cc290c444874c5690827e6efcf6d9ca",
            "fade787b4b734532a0760814797f716e",
            "7bb2f2476c414b959a0e753406ceae50",
            "5af7d4c726144d2bad5fc83da969250a",
            "1924339da5644c4fa3265793c2674404",
            "c7f586da01924cfa8bfbfe6abe4506ce"
          ]
        },
        "id": "ce032159",
        "outputId": "2f757953-3204-4626-9026-9b111e487675"
      },
      "outputs": [
        {
          "data": {
            "application/vnd.jupyter.widget-view+json": {
              "model_id": "4533a7bf82e94c24b3834e0f903b57f4",
              "version_major": 2,
              "version_minor": 0
            },
            "text/plain": [
              "  0%|          | 0/300 [00:00<?, ?it/s]"
            ]
          },
          "metadata": {},
          "output_type": "display_data"
        },
        {
          "data": {
            "text/plain": [
              "(RuntimeLog():\n",
              "  keys = ['acceptance', 'Energy'],)"
            ]
          },
          "execution_count": 14,
          "metadata": {},
          "output_type": "execute_result"
        }
      ],
      "source": [
        "# Construct the logger to visualize the data later on\n",
        "slater_log=nk.logging.RuntimeLog()\n",
        "\n",
        "# Run the optimization for 300 iterations\n",
        "gs.run(n_iter=300, out=slater_log)"
      ]
    },
    {
      "cell_type": "code",
      "execution_count": 15,
      "id": "f2c0a9f2",
      "metadata": {
        "colab": {
          "base_uri": "https://localhost:8080/"
        },
        "id": "f2c0a9f2",
        "outputId": "2556f463-958d-405e-a79e-dba529587bee"
      },
      "outputs": [
        {
          "name": "stdout",
          "output_type": "stream",
          "text": [
            "Optimized energy : -34.17+0.00j ± 0.22 [σ²=47.90, R̂=1.0125]\n",
            "Relative error   : 0.2881263196468353\n"
          ]
        }
      ],
      "source": [
        "sd_energy = vstate.expect(H)\n",
        "error = abs((sd_energy.mean - E_gs) / E_gs)\n",
        "\n",
        "print(f\"Optimized energy : {sd_energy}\")\n",
        "print(f\"Relative error   : {error}\")"
      ]
    },
    {
      "cell_type": "markdown",
      "id": "cc8d74c9",
      "metadata": {
        "id": "cc8d74c9"
      },
      "source": [
        "### Neural Jastrow"
      ]
    },
    {
      "cell_type": "code",
      "execution_count": 16,
      "id": "1d4fe03b",
      "metadata": {
        "id": "1d4fe03b"
      },
      "outputs": [],
      "source": [
        "class LogNeuralJastrowSlater(eqx.Module):\n",
        "    embedding: eqx.nn.Embedding\n",
        "    jastrow_linear: eqx.nn.Linear\n",
        "\n",
        "    def __init__(\n",
        "        self,\n",
        "        hilbert: nk.hilbert.SpinOrbitalFermions,\n",
        "        hidden_size: int,\n",
        "        *,\n",
        "        key: PRNGKeyArray\n",
        "    ):\n",
        "        embedding_key, jastrow_key = jax.random.split(key, 2)\n",
        "        self.embedding = eqx.nn.Embedding(hilbert.size, hilbert.n_fermions, key=embedding_key)\n",
        "        self.jastrow_linear = eqx.nn.Linear(\n",
        "            hilbert.size,\n",
        "            hidden_size,\n",
        "            key=jastrow_key\n",
        "        )\n",
        "\n",
        "    def __call__(\n",
        "        self,\n",
        "        state: Int[Array, \"hilb_size\"]\n",
        "    ) -> Complex[Array, \"\"]:\n",
        "        indices = nkstate_to_indexseq(state)[0]\n",
        "        A = jax.vmap(self.embedding)(indices)\n",
        "        J = self.jastrow_linear(state)\n",
        "        J = jax.nn.tanh(J)\n",
        "        J = jnp.sum(J)\n",
        "\n",
        "        return logdet_cmplx(A) + J"
      ]
    },
    {
      "cell_type": "code",
      "execution_count": 17,
      "id": "a1cedc1b",
      "metadata": {
        "colab": {
          "base_uri": "https://localhost:8080/"
        },
        "id": "a1cedc1b",
        "outputId": "82d2e722-edb3-43b3-81e6-528b3b1999d5"
      },
      "outputs": [
        {
          "data": {
            "text/plain": [
              "23168"
            ]
          },
          "execution_count": 17,
          "metadata": {},
          "output_type": "execute_result"
        }
      ],
      "source": [
        "key, subkey = jax.random.split(key)\n",
        "model = LogNeuralJastrowSlater(\n",
        "    hilbert=hi,\n",
        "    hidden_size=hi.size,\n",
        "    key=subkey\n",
        ")\n",
        "ma = BatchWrapper(\n",
        "    model\n",
        ")\n",
        "sa = nk.sampler.MetropolisFermionHop(hi, graph=graph_extended)\n",
        "vstate = nk.vqs.MCState(sa, ma, n_samples=2**10, n_discard_per_chain=8)\n",
        "count_parameters(model)"
      ]
    },
    {
      "cell_type": "code",
      "execution_count": 18,
      "id": "17bbc711",
      "metadata": {
        "id": "17bbc711"
      },
      "outputs": [],
      "source": [
        "# Define the optimizer\n",
        "op = nk.optimizer.Sgd(learning_rate=0.01)\n",
        "\n",
        "# Define a preconditioner\n",
        "preconditioner = nk.optimizer.SR(diag_shift=0.01)\n",
        "\n",
        "# Create the VMC (Variational Monte Carlo) driver\n",
        "gs = nk.VMC(H, op, variational_state=vstate, preconditioner=preconditioner)"
      ]
    },
    {
      "cell_type": "code",
      "execution_count": 19,
      "id": "cf6db0f1",
      "metadata": {
        "colab": {
          "base_uri": "https://localhost:8080/",
          "height": 86,
          "referenced_widgets": [
            "795310c5748f4f099c0f34b9e2231c91",
            "18e41d3b149749498e32ff1dc662f75f",
            "5d2b2b8ea53e4bccb34cfa137165fe3c",
            "88e19b812b50464ea4009b9539ad5f37",
            "edfb772505dd48b892aef26c6c1c56d8",
            "e4e77bead9f1426ba3334fa77b193e45",
            "ffdf9d3e52334bf1a5b01662d802358f",
            "cc11a91ce10649b3b9c4e7470a05223b",
            "d0d65119d7684062b02815ab49c69636",
            "917c06d07a394c40bdf12dbfabf33769",
            "a2e555e803c64ef388df0652824c9143"
          ]
        },
        "id": "cf6db0f1",
        "outputId": "4c98e4dd-50ed-4ac0-e41a-617f8dfe2c2a"
      },
      "outputs": [
        {
          "data": {
            "application/vnd.jupyter.widget-view+json": {
              "model_id": "b927c0ca3e3d45eeb1abd5abd8a21b74",
              "version_major": 2,
              "version_minor": 0
            },
            "text/plain": [
              "  0%|          | 0/300 [00:00<?, ?it/s]"
            ]
          },
          "metadata": {},
          "output_type": "display_data"
        },
        {
          "name": "stderr",
          "output_type": "stream",
          "text": [
            "2025-05-31 05:13:53.122382: W external/xla/xla/service/gpu/autotuning/dot_search_space.cc:200] All configs were filtered out because none of them sufficiently match the hints. Maybe the hints set does not contain a good representative set of valid configs?Working around this by using the full hints set instead.\n",
            "2025-05-31 05:13:53.638689: W external/xla/xla/service/gpu/autotuning/dot_search_space.cc:200] All configs were filtered out because none of them sufficiently match the hints. Maybe the hints set does not contain a good representative set of valid configs?Working around this by using the full hints set instead.\n"
          ]
        },
        {
          "data": {
            "text/plain": [
              "(RuntimeLog():\n",
              "  keys = ['acceptance', 'Energy'],)"
            ]
          },
          "execution_count": 19,
          "metadata": {},
          "output_type": "execute_result"
        }
      ],
      "source": [
        " # Construct the logger to visualize the data later on\n",
        "nj_log=nk.logging.RuntimeLog()\n",
        "\n",
        "# Run the optimization for 300 iterations\n",
        "gs.run(n_iter=300, out=nj_log)"
      ]
    },
    {
      "cell_type": "code",
      "execution_count": 20,
      "id": "3d1c3681",
      "metadata": {
        "colab": {
          "base_uri": "https://localhost:8080/"
        },
        "id": "3d1c3681",
        "outputId": "5a156bac-8b50-4bfa-ab22-cc588db961e8"
      },
      "outputs": [
        {
          "name": "stdout",
          "output_type": "stream",
          "text": [
            "Optimized energy : -22.18-0.00j ± 0.20 [σ²=31.30, R̂=1.1218]\n",
            "Relative error   : 0.5378716588020325\n"
          ]
        }
      ],
      "source": [
        "sd_energy = vstate.expect(H)\n",
        "error = abs((sd_energy.mean - E_gs) / E_gs)\n",
        "\n",
        "print(f\"Optimized energy : {sd_energy}\")\n",
        "print(f\"Relative error   : {error}\")"
      ]
    },
    {
      "cell_type": "markdown",
      "id": "ce972aae",
      "metadata": {
        "id": "ce972aae"
      },
      "source": [
        "### Self-Attention Ansatz"
      ]
    },
    {
      "cell_type": "code",
      "execution_count": 21,
      "id": "c57b3742",
      "metadata": {
        "id": "c57b3742"
      },
      "outputs": [],
      "source": [
        "class TransformerLayer(eqx.Module):\n",
        "    attention: eqx.nn.MultiheadAttention\n",
        "    up_proj: eqx.nn.Linear\n",
        "    down_proj: eqx.nn.Linear\n",
        "    ln1: eqx.nn.LayerNorm\n",
        "    ln2: eqx.nn.LayerNorm\n",
        "    activation: Callable\n",
        "\n",
        "    def __init__(\n",
        "        self,\n",
        "        hidden_size: int,\n",
        "        attention_size: int,\n",
        "        num_head: int,\n",
        "        intermediate_size: int,\n",
        "        activation: Callable,\n",
        "        *,\n",
        "        key\n",
        "    ):\n",
        "        attention_key, up_proj_key, down_proj_key = jax.random.split(key, 3)\n",
        "        self.attention = eqx.nn.MultiheadAttention(\n",
        "            num_head,\n",
        "            hidden_size,\n",
        "            hidden_size,\n",
        "            hidden_size,\n",
        "            hidden_size,\n",
        "            attention_size,\n",
        "            attention_size,\n",
        "            key=attention_key\n",
        "        )\n",
        "        self.up_proj = eqx.nn.Linear(\n",
        "            hidden_size,\n",
        "            intermediate_size,\n",
        "            key=up_proj_key\n",
        "        )\n",
        "        self.down_proj = eqx.nn.Linear(\n",
        "            intermediate_size,\n",
        "            hidden_size,\n",
        "            key=down_proj_key\n",
        "        )\n",
        "        self.ln1 = eqx.nn.LayerNorm(hidden_size)\n",
        "        self.ln2 = eqx.nn.LayerNorm(hidden_size)\n",
        "        self.activation = activation\n",
        "\n",
        "    def __call__(\n",
        "        self,\n",
        "        x: Float[Array, \"n h\"]\n",
        "    ):\n",
        "        atten_out = self.attention(x, x, x)\n",
        "        ff_in = jax.vmap(self.ln1)(atten_out + x)\n",
        "        up_projected = jax.vmap(self.up_proj)(ff_in)\n",
        "        up_projected = self.activation(up_projected)\n",
        "        down_projected = jax.vmap(self.down_proj)(up_projected)\n",
        "        return jax.vmap(self.ln2)(ff_in + down_projected)\n",
        "\n",
        "class AttentionWFN(eqx.Module):\n",
        "    embedding: eqx.nn.Embedding\n",
        "    ln: eqx.nn.LayerNorm\n",
        "    layers: tuple[TransformerLayer]\n",
        "    projector: eqx.nn.Linear\n",
        "    use_complex: bool=eqx.field(static=True)\n",
        "\n",
        "    def __init__(\n",
        "        self,\n",
        "        hilbert: nk.hilbert.SpinOrbitalFermions,\n",
        "        num_layers: int,\n",
        "        hidden_size: int,\n",
        "        attention_size: int,\n",
        "        num_head: int,\n",
        "        intermediate_size: int,\n",
        "        activation: jax.nn.gelu,\n",
        "        *,\n",
        "        use_complex: bool=False,\n",
        "        key: PRNGKeyArray\n",
        "    ):\n",
        "        embedding_key, attention_key, proj_key = jax.random.split(key, 3)\n",
        "        self.embedding = eqx.nn.Embedding(hilbert.size, hidden_size, key=embedding_key)\n",
        "        self.ln = eqx.nn.LayerNorm(hidden_size)\n",
        "        attention_keys = jax.random.split(attention_key, num_layers)\n",
        "        self.layers = tuple(\n",
        "            TransformerLayer(\n",
        "                hidden_size,\n",
        "                attention_size,\n",
        "                num_head,\n",
        "                intermediate_size,\n",
        "                activation,\n",
        "                key=subkey\n",
        "            )\n",
        "            for subkey in attention_keys\n",
        "        )\n",
        "        out_size = 2 * hilbert.n_fermions if use_complex else hilbert.n_fermions\n",
        "        self.projector = eqx.nn.Linear(hidden_size, out_size, key=proj_key)\n",
        "        self.use_complex = use_complex\n",
        "\n",
        "\n",
        "    def __call__(\n",
        "        self,\n",
        "        state: Int[Array, \"hilb_size\"]\n",
        "    ) -> Complex[Array, \"\"]:\n",
        "        indices = nkstate_to_indexseq(state)[0]\n",
        "        embedded = jax.vmap(self.embedding)(indices) # (n_fermions, hidden_size)\n",
        "        embedded = jax.vmap(self.ln)(embedded)\n",
        "        for layer in self.layers:\n",
        "            embedded = layer(embedded)\n",
        "        projected = jax.vmap(self.projector)(embedded)\n",
        "        if self.use_complex:\n",
        "            real, imag = jnp.split(projected, 2, axis=1)\n",
        "            projected = jax.lax.complex(real, imag)\n",
        "        return logdet_cmplx(projected)"
      ]
    },
    {
      "cell_type": "code",
      "execution_count": null,
      "id": "1c3dc885",
      "metadata": {
        "colab": {
          "base_uri": "https://localhost:8080/"
        },
        "id": "1c3dc885",
        "outputId": "bf9f6315-546a-4ba2-f05c-62cfcfc17dbe"
      },
      "outputs": [
        {
          "data": {
            "text/plain": [
              "29396"
            ]
          },
          "execution_count": 31,
          "metadata": {},
          "output_type": "execute_result"
        }
      ],
      "source": [
        "key, subkey = jax.random.split(key)\n",
        "model = AttentionWFN(\n",
        "    hilbert=hi,\n",
        "    num_layers=1,\n",
        "    hidden_size=64,\n",
        "    attention_size=64,\n",
        "    num_head=1,\n",
        "    intermediate_size=64,\n",
        "    activation=jax.nn.mish,\n",
        "    use_complex=False,\n",
        "    key=subkey\n",
        ")\n",
        "ma = BatchWrapper(\n",
        "    model\n",
        ")\n",
        "sa = nk.sampler.MetropolisFermionHop(hi, graph=graph_extended)\n",
        "vstate = nk.vqs.MCState(sa, ma, n_samples=2**10, n_discard_per_chain=8)\n",
        "count_parameters(model)"
      ]
    },
    {
      "cell_type": "code",
      "execution_count": 32,
      "id": "723004c6",
      "metadata": {
        "id": "723004c6"
      },
      "outputs": [],
      "source": [
        "# op = nk.optimizer.Adam(learning_rate=0.001)\n",
        "# gs = nk.VMC(H, op, variational_state=vstate)\n",
        "\n",
        "# Define the optimizer\n",
        "op = nk.optimizer.Sgd(learning_rate=0.01)\n",
        "\n",
        "# Define a preconditioner\n",
        "preconditioner = nk.optimizer.SR(diag_shift=0.01)\n",
        "\n",
        "# Create the VMC (Variational Monte Carlo) driver\n",
        "gs = nk.VMC(H, op, variational_state=vstate, preconditioner=preconditioner)\n",
        "# gs = VMC_SRt(H, op, variational_state=vstate, diag_shift=0.004)"
      ]
    },
    {
      "cell_type": "code",
      "execution_count": 33,
      "id": "c6fd87d9",
      "metadata": {
        "colab": {
          "base_uri": "https://localhost:8080/",
          "height": 86,
          "referenced_widgets": [
            "90c6dfbefea943469cc747ae4fb6bbaa",
            "0aa7015755ca4df590cb161104debb29",
            "240a53a43c534b7e825a73e6731357e2",
            "c3396bd318bc48ddb353b4c97c2952f2",
            "14f6f2572af746bb864f829c227d1737",
            "03f62a229ba04e0da32d52a57e9509c2",
            "7aac56869c3f4a7cb79bc5e04202fbee",
            "f6a717e0ed144a49adb62191a41f0d0e",
            "528c0bebc2f4487f8cee9ed3c2b41355",
            "4e84d6fea37c40248ad7650cde882ee5",
            "4c5a72cafa534c38a426c3d4634dd2cf"
          ]
        },
        "id": "c6fd87d9",
        "outputId": "242f55d2-e786-4113-e07e-7a1a495b1b09"
      },
      "outputs": [
        {
          "data": {
            "application/vnd.jupyter.widget-view+json": {
              "model_id": "0a914b30f07e4d53b1d6456ea533bf8e",
              "version_major": 2,
              "version_minor": 0
            },
            "text/plain": [
              "  0%|          | 0/300 [00:00<?, ?it/s]"
            ]
          },
          "metadata": {},
          "output_type": "display_data"
        },
        {
          "name": "stderr",
          "output_type": "stream",
          "text": [
            "2025-05-31 05:30:01.270400: W external/xla/xla/hlo/transforms/simplifiers/hlo_rematerialization.cc:3022] Can't reduce memory use below 4.00GiB (4289901690 bytes) by rematerialization; only reduced to 5.50GiB (5904498704 bytes), down from 5.50GiB (5904498704 bytes) originally\n",
            "2025-05-31 05:30:05.703832: W external/xla/xla/hlo/transforms/simplifiers/hlo_rematerialization.cc:3022] Can't reduce memory use below 13.41GiB (14401435499 bytes) by rematerialization; only reduced to 16.96GiB (18216148808 bytes), down from 14.37GiB (15434481528 bytes) originally\n",
            "2025-05-31 05:30:20.555252: W external/xla/xla/tsl/framework/bfc_allocator.cc:501] Allocator (GPU_0_bfc) ran out of memory trying to allocate 16.98GiB (rounded to 18233923584)requested by op \n",
            "2025-05-31 05:30:20.555412: W external/xla/xla/tsl/framework/bfc_allocator.cc:512] *___________________________________________________________________________________________________\n",
            "E0531 05:30:20.555431   64139 pjrt_stream_executor_client.cc:2917] Execution of replica 0 failed: RESOURCE_EXHAUSTED: Out of memory while trying to allocate 18233923448 bytes. [tf-allocator-allocation-error='']\n"
          ]
        },
        {
          "ename": "XlaRuntimeError",
          "evalue": "RESOURCE_EXHAUSTED: Out of memory while trying to allocate 18233923448 bytes.",
          "output_type": "error",
          "traceback": [
            "\u001b[31m---------------------------------------------------------------------------\u001b[39m",
            "\u001b[31mXlaRuntimeError\u001b[39m                           Traceback (most recent call last)",
            "\u001b[36mCell\u001b[39m\u001b[36m \u001b[39m\u001b[32mIn[33]\u001b[39m\u001b[32m, line 5\u001b[39m\n\u001b[32m      2\u001b[39m atten_log=nk.logging.RuntimeLog()\n\u001b[32m      4\u001b[39m \u001b[38;5;66;03m# Run the optimization for 300 iterations\u001b[39;00m\n\u001b[32m----> \u001b[39m\u001b[32m5\u001b[39m \u001b[43mgs\u001b[49m\u001b[43m.\u001b[49m\u001b[43mrun\u001b[49m\u001b[43m(\u001b[49m\u001b[43mn_iter\u001b[49m\u001b[43m=\u001b[49m\u001b[32;43m300\u001b[39;49m\u001b[43m,\u001b[49m\u001b[43m \u001b[49m\u001b[43mout\u001b[49m\u001b[43m=\u001b[49m\u001b[43matten_log\u001b[49m\u001b[43m)\u001b[49m\n",
            "\u001b[36mFile \u001b[39m\u001b[32m~/workspace/attention-wavefn/atten-wfn/lib/python3.12/site-packages/netket/driver/abstract_variational_driver.py:347\u001b[39m, in \u001b[36mAbstractVariationalDriver.run\u001b[39m\u001b[34m(self, n_iter, out, obs, step_size, show_progress, save_params_every, write_every, callback, timeit)\u001b[39m\n\u001b[32m    344\u001b[39m old_step = \u001b[38;5;28mself\u001b[39m.step_count\n\u001b[32m    345\u001b[39m first_step = \u001b[38;5;28;01mTrue\u001b[39;00m\n\u001b[32m--> \u001b[39m\u001b[32m347\u001b[39m \u001b[43m\u001b[49m\u001b[38;5;28;43;01mfor\u001b[39;49;00m\u001b[43m \u001b[49m\u001b[43mstep\u001b[49m\u001b[43m \u001b[49m\u001b[38;5;129;43;01min\u001b[39;49;00m\u001b[43m \u001b[49m\u001b[38;5;28;43mself\u001b[39;49m\u001b[43m.\u001b[49m\u001b[43miter\u001b[49m\u001b[43m(\u001b[49m\u001b[43mn_iter\u001b[49m\u001b[43m,\u001b[49m\u001b[43m \u001b[49m\u001b[43mstep_size\u001b[49m\u001b[43m)\u001b[49m\u001b[43m:\u001b[49m\n\u001b[32m    348\u001b[39m \u001b[43m    \u001b[49m\u001b[43mlog_data\u001b[49m\u001b[43m \u001b[49m\u001b[43m=\u001b[49m\u001b[43m \u001b[49m\u001b[38;5;28;43mself\u001b[39;49m\u001b[43m.\u001b[49m\u001b[43mestimate\u001b[49m\u001b[43m(\u001b[49m\u001b[43mobs\u001b[49m\u001b[43m)\u001b[49m\n\u001b[32m    349\u001b[39m \u001b[43m    \u001b[49m\u001b[38;5;28;43mself\u001b[39;49m\u001b[43m.\u001b[49m\u001b[43m_log_additional_data\u001b[49m\u001b[43m(\u001b[49m\u001b[43mlog_data\u001b[49m\u001b[43m,\u001b[49m\u001b[43m \u001b[49m\u001b[43mstep\u001b[49m\u001b[43m)\u001b[49m\n",
            "\u001b[36mFile \u001b[39m\u001b[32m~/workspace/attention-wavefn/atten-wfn/lib/python3.12/site-packages/netket/driver/abstract_variational_driver.py:232\u001b[39m, in \u001b[36mAbstractVariationalDriver.iter\u001b[39m\u001b[34m(self, n_steps, step)\u001b[39m\n\u001b[32m    230\u001b[39m \u001b[38;5;28;01mfor\u001b[39;00m _ \u001b[38;5;129;01min\u001b[39;00m \u001b[38;5;28mrange\u001b[39m(\u001b[32m0\u001b[39m, n_steps, step):\n\u001b[32m    231\u001b[39m     \u001b[38;5;28;01mfor\u001b[39;00m i \u001b[38;5;129;01min\u001b[39;00m \u001b[38;5;28mrange\u001b[39m(\u001b[32m0\u001b[39m, step):\n\u001b[32m--> \u001b[39m\u001b[32m232\u001b[39m         \u001b[38;5;28mself\u001b[39m._dp = \u001b[38;5;28;43mself\u001b[39;49m\u001b[43m.\u001b[49m\u001b[43m_forward_and_backward\u001b[49m\u001b[43m(\u001b[49m\u001b[43m)\u001b[49m\n\u001b[32m    233\u001b[39m         \u001b[38;5;28;01mif\u001b[39;00m i == \u001b[32m0\u001b[39m:\n\u001b[32m    234\u001b[39m             \u001b[38;5;28;01myield\u001b[39;00m \u001b[38;5;28mself\u001b[39m.step_count\n",
            "    \u001b[31m[... skipping hidden 1 frame]\u001b[39m\n",
            "\u001b[36mFile \u001b[39m\u001b[32m~/workspace/attention-wavefn/atten-wfn/lib/python3.12/site-packages/netket/driver/vmc.py:122\u001b[39m, in \u001b[36mVMC._forward_and_backward\u001b[39m\u001b[34m(self)\u001b[39m\n\u001b[32m    119\u001b[39m \u001b[38;5;28mself\u001b[39m.state.reset()\n\u001b[32m    121\u001b[39m \u001b[38;5;66;03m# Compute the local energy estimator and average Energy\u001b[39;00m\n\u001b[32m--> \u001b[39m\u001b[32m122\u001b[39m \u001b[38;5;28mself\u001b[39m._loss_stats, \u001b[38;5;28mself\u001b[39m._loss_grad = \u001b[38;5;28;43mself\u001b[39;49m\u001b[43m.\u001b[49m\u001b[43mstate\u001b[49m\u001b[43m.\u001b[49m\u001b[43mexpect_and_grad\u001b[49m\u001b[43m(\u001b[49m\u001b[38;5;28;43mself\u001b[39;49m\u001b[43m.\u001b[49m\u001b[43m_ham\u001b[49m\u001b[43m)\u001b[49m\n\u001b[32m    124\u001b[39m \u001b[38;5;66;03m# if it's the identity it does\u001b[39;00m\n\u001b[32m    125\u001b[39m \u001b[38;5;66;03m# self._dp = self._loss_grad\u001b[39;00m\n\u001b[32m    126\u001b[39m \u001b[38;5;28mself\u001b[39m._dp = \u001b[38;5;28mself\u001b[39m.preconditioner(\u001b[38;5;28mself\u001b[39m.state, \u001b[38;5;28mself\u001b[39m._loss_grad, \u001b[38;5;28mself\u001b[39m.step_count)\n",
            "    \u001b[31m[... skipping hidden 1 frame]\u001b[39m\n",
            "\u001b[36mFile \u001b[39m\u001b[32m~/workspace/attention-wavefn/atten-wfn/lib/python3.12/site-packages/netket/vqs/mc/mc_state/state.py:710\u001b[39m, in \u001b[36mMCState.expect_and_grad\u001b[39m\u001b[34m(self, O, mutable, **kwargs)\u001b[39m\n\u001b[32m    707\u001b[39m \u001b[38;5;28;01mif\u001b[39;00m mutable \u001b[38;5;129;01mis\u001b[39;00m \u001b[38;5;28;01mNone\u001b[39;00m:\n\u001b[32m    708\u001b[39m     mutable = \u001b[38;5;28mself\u001b[39m.mutable\n\u001b[32m--> \u001b[39m\u001b[32m710\u001b[39m \u001b[38;5;28;01mreturn\u001b[39;00m \u001b[43mexpect_and_grad\u001b[49m\u001b[43m(\u001b[49m\n\u001b[32m    711\u001b[39m \u001b[43m    \u001b[49m\u001b[38;5;28;43mself\u001b[39;49m\u001b[43m,\u001b[49m\n\u001b[32m    712\u001b[39m \u001b[43m    \u001b[49m\u001b[43mO\u001b[49m\u001b[43m,\u001b[49m\n\u001b[32m    713\u001b[39m \u001b[43m    \u001b[49m\u001b[38;5;28;43mself\u001b[39;49m\u001b[43m.\u001b[49m\u001b[43mchunk_size\u001b[49m\u001b[43m,\u001b[49m\n\u001b[32m    714\u001b[39m \u001b[43m    \u001b[49m\u001b[43mmutable\u001b[49m\u001b[43m=\u001b[49m\u001b[43mmutable\u001b[49m\u001b[43m,\u001b[49m\n\u001b[32m    715\u001b[39m \u001b[43m    \u001b[49m\u001b[43m*\u001b[49m\u001b[43m*\u001b[49m\u001b[43mkwargs\u001b[49m\u001b[43m,\u001b[49m\n\u001b[32m    716\u001b[39m \u001b[43m\u001b[49m\u001b[43m)\u001b[49m\n",
            "    \u001b[31m[... skipping hidden 1 frame]\u001b[39m\n",
            "\u001b[36mFile \u001b[39m\u001b[32m~/workspace/attention-wavefn/atten-wfn/lib/python3.12/site-packages/netket/vqs/mc/mc_state/expect_grad.py:58\u001b[39m, in \u001b[36mexpect_and_grad_default_formula\u001b[39m\u001b[34m(vstate, Ô, chunk_size, mutable, use_covariance, *args)\u001b[39m\n\u001b[32m     51\u001b[39m     use_covariance = Ô.is_hermitian\n\u001b[32m     53\u001b[39m \u001b[38;5;28;01mif\u001b[39;00m use_covariance:\n\u001b[32m     54\u001b[39m     \u001b[38;5;66;03m# Implementation of expect_and_grad for `use_covariance == True` (due to the Literal[True]\u001b[39;00m\n\u001b[32m     55\u001b[39m     \u001b[38;5;66;03m# type in the signature).` This case is equivalent to the composition of the\u001b[39;00m\n\u001b[32m     56\u001b[39m     \u001b[38;5;66;03m# `expect_and_forces` and `force_to_grad` functions.\u001b[39;00m\n\u001b[32m     57\u001b[39m     \u001b[38;5;66;03m# return expect_and_grad_from_covariance(vstate, Ô, *args, mutable=mutable)\u001b[39;00m\n\u001b[32m---> \u001b[39m\u001b[32m58\u001b[39m     Ō, Ō_grad = \u001b[43mexpect_and_forces\u001b[49m\u001b[43m(\u001b[49m\u001b[43mvstate\u001b[49m\u001b[43m,\u001b[49m\u001b[43m \u001b[49m\u001b[43mÔ\u001b[49m\u001b[43m,\u001b[49m\u001b[43m \u001b[49m\u001b[43mchunk_size\u001b[49m\u001b[43m,\u001b[49m\u001b[43m \u001b[49m\u001b[43m*\u001b[49m\u001b[43margs\u001b[49m\u001b[43m,\u001b[49m\u001b[43m \u001b[49m\u001b[43mmutable\u001b[49m\u001b[43m=\u001b[49m\u001b[43mmutable\u001b[49m\u001b[43m)\u001b[49m\n\u001b[32m     59\u001b[39m     Ō_grad = force_to_grad(Ō_grad, vstate.parameters)\n\u001b[32m     60\u001b[39m     \u001b[38;5;28;01mreturn\u001b[39;00m Ō, Ō_grad\n",
            "    \u001b[31m[... skipping hidden 1 frame]\u001b[39m\n",
            "\u001b[36mFile \u001b[39m\u001b[32m~/workspace/attention-wavefn/atten-wfn/lib/python3.12/site-packages/netket/vqs/mc/mc_state/expect_forces.py:52\u001b[39m, in \u001b[36mexpect_and_forces\u001b[39m\u001b[34m(vstate, Ô, chunk_size, mutable)\u001b[39m\n\u001b[32m     48\u001b[39m σ, args = get_local_kernel_arguments(vstate, Ô)\n\u001b[32m     50\u001b[39m local_estimator_fun = get_local_kernel(vstate, Ô)\n\u001b[32m---> \u001b[39m\u001b[32m52\u001b[39m Ō, Ō_grad, new_model_state = \u001b[43mforces_expect_hermitian\u001b[49m\u001b[43m(\u001b[49m\n\u001b[32m     53\u001b[39m \u001b[43m    \u001b[49m\u001b[43mlocal_estimator_fun\u001b[49m\u001b[43m,\u001b[49m\n\u001b[32m     54\u001b[39m \u001b[43m    \u001b[49m\u001b[43mvstate\u001b[49m\u001b[43m.\u001b[49m\u001b[43m_apply_fun\u001b[49m\u001b[43m,\u001b[49m\n\u001b[32m     55\u001b[39m \u001b[43m    \u001b[49m\u001b[43mmutable\u001b[49m\u001b[43m,\u001b[49m\n\u001b[32m     56\u001b[39m \u001b[43m    \u001b[49m\u001b[43mvstate\u001b[49m\u001b[43m.\u001b[49m\u001b[43mparameters\u001b[49m\u001b[43m,\u001b[49m\n\u001b[32m     57\u001b[39m \u001b[43m    \u001b[49m\u001b[43mvstate\u001b[49m\u001b[43m.\u001b[49m\u001b[43mmodel_state\u001b[49m\u001b[43m,\u001b[49m\n\u001b[32m     58\u001b[39m \u001b[43m    \u001b[49m\u001b[43mσ\u001b[49m\u001b[43m,\u001b[49m\n\u001b[32m     59\u001b[39m \u001b[43m    \u001b[49m\u001b[43margs\u001b[49m\u001b[43m,\u001b[49m\n\u001b[32m     60\u001b[39m \u001b[43m\u001b[49m\u001b[43m)\u001b[49m\n\u001b[32m     62\u001b[39m \u001b[38;5;28;01mif\u001b[39;00m mutable \u001b[38;5;129;01mis\u001b[39;00m \u001b[38;5;129;01mnot\u001b[39;00m \u001b[38;5;28;01mFalse\u001b[39;00m:\n\u001b[32m     63\u001b[39m     vstate.model_state = new_model_state\n",
            "    \u001b[31m[... skipping hidden 5 frame]\u001b[39m\n",
            "\u001b[36mFile \u001b[39m\u001b[32m~/workspace/attention-wavefn/atten-wfn/lib/python3.12/site-packages/jax/_src/interpreters/pxla.py:1306\u001b[39m, in \u001b[36mExecuteReplicated.__call__\u001b[39m\u001b[34m(self, *args)\u001b[39m\n\u001b[32m   1304\u001b[39m   \u001b[38;5;28mself\u001b[39m._handle_token_bufs(result_token_bufs, sharded_runtime_token)\n\u001b[32m   1305\u001b[39m \u001b[38;5;28;01melse\u001b[39;00m:\n\u001b[32m-> \u001b[39m\u001b[32m1306\u001b[39m   results = \u001b[38;5;28;43mself\u001b[39;49m\u001b[43m.\u001b[49m\u001b[43mxla_executable\u001b[49m\u001b[43m.\u001b[49m\u001b[43mexecute_sharded\u001b[49m\u001b[43m(\u001b[49m\u001b[43minput_bufs\u001b[49m\u001b[43m)\u001b[49m\n\u001b[32m   1308\u001b[39m \u001b[38;5;28;01mif\u001b[39;00m dispatch.needs_check_special():\n\u001b[32m   1309\u001b[39m   out_arrays = results.disassemble_into_single_device_arrays()\n",
            "\u001b[31mXlaRuntimeError\u001b[39m: RESOURCE_EXHAUSTED: Out of memory while trying to allocate 18233923448 bytes."
          ]
        }
      ],
      "source": [
        "# Construct the logger to visualize the data later on\n",
        "atten_log=nk.logging.RuntimeLog()\n",
        "\n",
        "# Run the optimization for 300 iterations\n",
        "gs.run(n_iter=300, out=atten_log)"
      ]
    },
    {
      "cell_type": "code",
      "execution_count": null,
      "id": "b391643d",
      "metadata": {
        "colab": {
          "base_uri": "https://localhost:8080/"
        },
        "id": "b391643d",
        "outputId": "06334958-b161-4be0-f3bc-f3ec44a6adad"
      },
      "outputs": [
        {
          "name": "stdout",
          "output_type": "stream",
          "text": [
            "Optimized energy : -11.575+0.000j ± 0.018 [σ²=1.143, R̂=1.0072]\n",
            "Relative error   : 0.022381573955626417\n"
          ]
        }
      ],
      "source": [
        "sd_energy = vstate.expect(H)\n",
        "error = abs((sd_energy.mean - E_gs) / E_gs)\n",
        "\n",
        "print(f\"Optimized energy : {sd_energy}\")\n",
        "print(f\"Relative error   : {error}\")"
      ]
    },
    {
      "cell_type": "code",
      "execution_count": null,
      "id": "ec3fef3e",
      "metadata": {
        "colab": {
          "base_uri": "https://localhost:8080/",
          "height": 468
        },
        "id": "ec3fef3e",
        "outputId": "04dae238-2188-405b-b955-b973dc175a20"
      },
      "outputs": [
        {
          "data": {
            "text/plain": [
              "<matplotlib.legend.Legend at 0x7b240d0fb890>"
            ]
          },
          "execution_count": 31,
          "metadata": {},
          "output_type": "execute_result"
        },
        {
          "data": {
            "image/png": "[encoded data removed]",
            "text/plain": [
              "<Figure size 640x480 with 1 Axes>"
            ]
          },
          "metadata": {},
          "output_type": "display_data"
        }
      ],
      "source": [
        "logged_data = (slater_log.data, nj_log.data, atten_log.data)\n",
        "labels = (\"Slater\",\"Neural Jastrow\",\"Attention\")\n",
        "\n",
        "for data,label in zip(logged_data,labels):\n",
        "    plt.errorbar(data[\"Energy\"].iters, data[\"Energy\"].Mean.real, yerr=data[\"Energy\"].Sigma,label=label)\n",
        "\n",
        "plt.hlines([E_gs], xmin=0, xmax=150, color='black', label=\"Exact\")\n",
        "\n",
        "plt.xlabel('Iterations')\n",
        "plt.ylabel('Energy')\n",
        "plt.legend()"
      ]
    }
  ],
  "metadata": {
    "accelerator": "GPU",
    "colab": {
      "gpuType": "A100",
      "machine_shape": "hm",
      "provenance": []
    },
    "kernelspec": {
      "display_name": "atten-wfn",
      "language": "python",
      "name": "python3"
    },
    "language_info": {
      "codemirror_mode": {
        "name": "ipython",
        "version": 3
      },
      "file_extension": ".py",
      "mimetype": "text/x-python",
      "name": "python",
      "nbconvert_exporter": "python",
      "pygments_lexer": "ipython3",
      "version": "3.12.8"
    },
    "widgets": {
      "application/vnd.jupyter.widget-state+json": {
        "03f62a229ba04e0da32d52a57e9509c2": {
          "model_module": "@jupyter-widgets/base",
          "model_module_version": "1.2.0",
          "model_name": "LayoutModel",
          "state": {
            "_model_module": "@jupyter-widgets/base",
            "_model_module_version": "1.2.0",
            "_model_name": "LayoutModel",
            "_view_count": null,
            "_view_module": "@jupyter-widgets/base",
            "_view_module_version": "1.2.0",
            "_view_name": "LayoutView",
            "align_content": null,
            "align_items": null,
            "align_self": null,
            "border": null,
            "bottom": null,
            "display": null,
            "flex": null,
            "flex_flow": null,
            "grid_area": null,
            "grid_auto_columns": null,
            "grid_auto_flow": null,
            "grid_auto_rows": null,
            "grid_column": null,
            "grid_gap": null,
            "grid_row": null,
            "grid_template_areas": null,
            "grid_template_columns": null,
            "grid_template_rows": null,
            "height": null,
            "justify_content": null,
            "justify_items": null,
            "left": null,
            "margin": null,
            "max_height": null,
            "max_width": null,
            "min_height": null,
            "min_width": null,
            "object_fit": null,
            "object_position": null,
            "order": null,
            "overflow": null,
            "overflow_x": null,
            "overflow_y": null,
            "padding": null,
            "right": null,
            "top": null,
            "visibility": null,
            "width": null
          }
        },
        "0aa7015755ca4df590cb161104debb29": {
          "model_module": "@jupyter-widgets/controls",
          "model_module_version": "1.5.0",
          "model_name": "HTMLModel",
          "state": {
            "_dom_classes": [],
            "_model_module": "@jupyter-widgets/controls",
            "_model_module_version": "1.5.0",
            "_model_name": "HTMLModel",
            "_view_count": null,
            "_view_module": "@jupyter-widgets/controls",
            "_view_module_version": "1.5.0",
            "_view_name": "HTMLView",
            "description": "",
            "description_tooltip": null,
            "layout": "IPY_MODEL_03f62a229ba04e0da32d52a57e9509c2",
            "placeholder": "​",
            "style": "IPY_MODEL_7aac56869c3f4a7cb79bc5e04202fbee",
            "value": "100%"
          }
        },
        "0e6e949d020b48ecbdcb51e79f076010": {
          "model_module": "@jupyter-widgets/controls",
          "model_module_version": "1.5.0",
          "model_name": "FloatProgressModel",
          "state": {
            "_dom_classes": [],
            "_model_module": "@jupyter-widgets/controls",
            "_model_module_version": "1.5.0",
            "_model_name": "FloatProgressModel",
            "_view_count": null,
            "_view_module": "@jupyter-widgets/controls",
            "_view_module_version": "1.5.0",
            "_view_name": "ProgressView",
            "bar_style": "success",
            "description": "",
            "description_tooltip": null,
            "layout": "IPY_MODEL_7bb2f2476c414b959a0e753406ceae50",
            "max": 150,
            "min": 0,
            "orientation": "horizontal",
            "style": "IPY_MODEL_5af7d4c726144d2bad5fc83da969250a",
            "value": 150
          }
        },
        "14f6f2572af746bb864f829c227d1737": {
          "model_module": "@jupyter-widgets/base",
          "model_module_version": "1.2.0",
          "model_name": "LayoutModel",
          "state": {
            "_model_module": "@jupyter-widgets/base",
            "_model_module_version": "1.2.0",
            "_model_name": "LayoutModel",
            "_view_count": null,
            "_view_module": "@jupyter-widgets/base",
            "_view_module_version": "1.2.0",
            "_view_name": "LayoutView",
            "align_content": null,
            "align_items": null,
            "align_self": null,
            "border": null,
            "bottom": null,
            "display": "inline-flex",
            "flex": null,
            "flex_flow": "row wrap",
            "grid_area": null,
            "grid_auto_columns": null,
            "grid_auto_flow": null,
            "grid_auto_rows": null,
            "grid_column": null,
            "grid_gap": null,
            "grid_row": null,
            "grid_template_areas": null,
            "grid_template_columns": null,
            "grid_template_rows": null,
            "height": null,
            "justify_content": null,
            "justify_items": null,
            "left": null,
            "margin": null,
            "max_height": null,
            "max_width": null,
            "min_height": null,
            "min_width": null,
            "object_fit": null,
            "object_position": null,
            "order": null,
            "overflow": null,
            "overflow_x": null,
            "overflow_y": null,
            "padding": null,
            "right": null,
            "top": null,
            "visibility": null,
            "width": "100%"
          }
        },
        "18e41d3b149749498e32ff1dc662f75f": {
          "model_module": "@jupyter-widgets/controls",
          "model_module_version": "1.5.0",
          "model_name": "HTMLModel",
          "state": {
            "_dom_classes": [],
            "_model_module": "@jupyter-widgets/controls",
            "_model_module_version": "1.5.0",
            "_model_name": "HTMLModel",
            "_view_count": null,
            "_view_module": "@jupyter-widgets/controls",
            "_view_module_version": "1.5.0",
            "_view_name": "HTMLView",
            "description": "",
            "description_tooltip": null,
            "layout": "IPY_MODEL_e4e77bead9f1426ba3334fa77b193e45",
            "placeholder": "​",
            "style": "IPY_MODEL_ffdf9d3e52334bf1a5b01662d802358f",
            "value": "100%"
          }
        },
        "1924339da5644c4fa3265793c2674404": {
          "model_module": "@jupyter-widgets/base",
          "model_module_version": "1.2.0",
          "model_name": "LayoutModel",
          "state": {
            "_model_module": "@jupyter-widgets/base",
            "_model_module_version": "1.2.0",
            "_model_name": "LayoutModel",
            "_view_count": null,
            "_view_module": "@jupyter-widgets/base",
            "_view_module_version": "1.2.0",
            "_view_name": "LayoutView",
            "align_content": null,
            "align_items": null,
            "align_self": null,
            "border": null,
            "bottom": null,
            "display": null,
            "flex": null,
            "flex_flow": null,
            "grid_area": null,
            "grid_auto_columns": null,
            "grid_auto_flow": null,
            "grid_auto_rows": null,
            "grid_column": null,
            "grid_gap": null,
            "grid_row": null,
            "grid_template_areas": null,
            "grid_template_columns": null,
            "grid_template_rows": null,
            "height": null,
            "justify_content": null,
            "justify_items": null,
            "left": null,
            "margin": null,
            "max_height": null,
            "max_width": null,
            "min_height": null,
            "min_width": null,
            "object_fit": null,
            "object_position": null,
            "order": null,
            "overflow": null,
            "overflow_x": null,
            "overflow_y": null,
            "padding": null,
            "right": null,
            "top": null,
            "visibility": null,
            "width": null
          }
        },
        "240a53a43c534b7e825a73e6731357e2": {
          "model_module": "@jupyter-widgets/controls",
          "model_module_version": "1.5.0",
          "model_name": "FloatProgressModel",
          "state": {
            "_dom_classes": [],
            "_model_module": "@jupyter-widgets/controls",
            "_model_module_version": "1.5.0",
            "_model_name": "FloatProgressModel",
            "_view_count": null,
            "_view_module": "@jupyter-widgets/controls",
            "_view_module_version": "1.5.0",
            "_view_name": "ProgressView",
            "bar_style": "success",
            "description": "",
            "description_tooltip": null,
            "layout": "IPY_MODEL_f6a717e0ed144a49adb62191a41f0d0e",
            "max": 150,
            "min": 0,
            "orientation": "horizontal",
            "style": "IPY_MODEL_528c0bebc2f4487f8cee9ed3c2b41355",
            "value": 150
          }
        },
        "34d609ee7af54fa98c7bfd2ce75cd92b": {
          "model_module": "@jupyter-widgets/controls",
          "model_module_version": "1.5.0",
          "model_name": "HBoxModel",
          "state": {
            "_dom_classes": [],
            "_model_module": "@jupyter-widgets/controls",
            "_model_module_version": "1.5.0",
            "_model_name": "HBoxModel",
            "_view_count": null,
            "_view_module": "@jupyter-widgets/controls",
            "_view_module_version": "1.5.0",
            "_view_name": "HBoxView",
            "box_style": "",
            "children": [
              "IPY_MODEL_ce511ab800ca4a83a62837e6a88ad3d6",
              "IPY_MODEL_0e6e949d020b48ecbdcb51e79f076010",
              "IPY_MODEL_ddcab6de7ea04220a4faaa306f351a76"
            ],
            "layout": "IPY_MODEL_ea9b47be34e34e74b4ba73be136ba4bf"
          }
        },
        "3cc290c444874c5690827e6efcf6d9ca": {
          "model_module": "@jupyter-widgets/base",
          "model_module_version": "1.2.0",
          "model_name": "LayoutModel",
          "state": {
            "_model_module": "@jupyter-widgets/base",
            "_model_module_version": "1.2.0",
            "_model_name": "LayoutModel",
            "_view_count": null,
            "_view_module": "@jupyter-widgets/base",
            "_view_module_version": "1.2.0",
            "_view_name": "LayoutView",
            "align_content": null,
            "align_items": null,
            "align_self": null,
            "border": null,
            "bottom": null,
            "display": null,
            "flex": null,
            "flex_flow": null,
            "grid_area": null,
            "grid_auto_columns": null,
            "grid_auto_flow": null,
            "grid_auto_rows": null,
            "grid_column": null,
            "grid_gap": null,
            "grid_row": null,
            "grid_template_areas": null,
            "grid_template_columns": null,
            "grid_template_rows": null,
            "height": null,
            "justify_content": null,
            "justify_items": null,
            "left": null,
            "margin": null,
            "max_height": null,
            "max_width": null,
            "min_height": null,
            "min_width": null,
            "object_fit": null,
            "object_position": null,
            "order": null,
            "overflow": null,
            "overflow_x": null,
            "overflow_y": null,
            "padding": null,
            "right": null,
            "top": null,
            "visibility": null,
            "width": null
          }
        },
        "4c5a72cafa534c38a426c3d4634dd2cf": {
          "model_module": "@jupyter-widgets/controls",
          "model_module_version": "1.5.0",
          "model_name": "DescriptionStyleModel",
          "state": {
            "_model_module": "@jupyter-widgets/controls",
            "_model_module_version": "1.5.0",
            "_model_name": "DescriptionStyleModel",
            "_view_count": null,
            "_view_module": "@jupyter-widgets/base",
            "_view_module_version": "1.2.0",
            "_view_name": "StyleView",
            "description_width": ""
          }
        },
        "4e84d6fea37c40248ad7650cde882ee5": {
          "model_module": "@jupyter-widgets/base",
          "model_module_version": "1.2.0",
          "model_name": "LayoutModel",
          "state": {
            "_model_module": "@jupyter-widgets/base",
            "_model_module_version": "1.2.0",
            "_model_name": "LayoutModel",
            "_view_count": null,
            "_view_module": "@jupyter-widgets/base",
            "_view_module_version": "1.2.0",
            "_view_name": "LayoutView",
            "align_content": null,
            "align_items": null,
            "align_self": null,
            "border": null,
            "bottom": null,
            "display": null,
            "flex": null,
            "flex_flow": null,
            "grid_area": null,
            "grid_auto_columns": null,
            "grid_auto_flow": null,
            "grid_auto_rows": null,
            "grid_column": null,
            "grid_gap": null,
            "grid_row": null,
            "grid_template_areas": null,
            "grid_template_columns": null,
            "grid_template_rows": null,
            "height": null,
            "justify_content": null,
            "justify_items": null,
            "left": null,
            "margin": null,
            "max_height": null,
            "max_width": null,
            "min_height": null,
            "min_width": null,
            "object_fit": null,
            "object_position": null,
            "order": null,
            "overflow": null,
            "overflow_x": null,
            "overflow_y": null,
            "padding": null,
            "right": null,
            "top": null,
            "visibility": null,
            "width": null
          }
        },
        "528c0bebc2f4487f8cee9ed3c2b41355": {
          "model_module": "@jupyter-widgets/controls",
          "model_module_version": "1.5.0",
          "model_name": "ProgressStyleModel",
          "state": {
            "_model_module": "@jupyter-widgets/controls",
            "_model_module_version": "1.5.0",
            "_model_name": "ProgressStyleModel",
            "_view_count": null,
            "_view_module": "@jupyter-widgets/base",
            "_view_module_version": "1.2.0",
            "_view_name": "StyleView",
            "bar_color": null,
            "description_width": ""
          }
        },
        "5af7d4c726144d2bad5fc83da969250a": {
          "model_module": "@jupyter-widgets/controls",
          "model_module_version": "1.5.0",
          "model_name": "ProgressStyleModel",
          "state": {
            "_model_module": "@jupyter-widgets/controls",
            "_model_module_version": "1.5.0",
            "_model_name": "ProgressStyleModel",
            "_view_count": null,
            "_view_module": "@jupyter-widgets/base",
            "_view_module_version": "1.2.0",
            "_view_name": "StyleView",
            "bar_color": null,
            "description_width": ""
          }
        },
        "5d2b2b8ea53e4bccb34cfa137165fe3c": {
          "model_module": "@jupyter-widgets/controls",
          "model_module_version": "1.5.0",
          "model_name": "FloatProgressModel",
          "state": {
            "_dom_classes": [],
            "_model_module": "@jupyter-widgets/controls",
            "_model_module_version": "1.5.0",
            "_model_name": "FloatProgressModel",
            "_view_count": null,
            "_view_module": "@jupyter-widgets/controls",
            "_view_module_version": "1.5.0",
            "_view_name": "ProgressView",
            "bar_style": "success",
            "description": "",
            "description_tooltip": null,
            "layout": "IPY_MODEL_cc11a91ce10649b3b9c4e7470a05223b",
            "max": 150,
            "min": 0,
            "orientation": "horizontal",
            "style": "IPY_MODEL_d0d65119d7684062b02815ab49c69636",
            "value": 150
          }
        },
        "795310c5748f4f099c0f34b9e2231c91": {
          "model_module": "@jupyter-widgets/controls",
          "model_module_version": "1.5.0",
          "model_name": "HBoxModel",
          "state": {
            "_dom_classes": [],
            "_model_module": "@jupyter-widgets/controls",
            "_model_module_version": "1.5.0",
            "_model_name": "HBoxModel",
            "_view_count": null,
            "_view_module": "@jupyter-widgets/controls",
            "_view_module_version": "1.5.0",
            "_view_name": "HBoxView",
            "box_style": "",
            "children": [
              "IPY_MODEL_18e41d3b149749498e32ff1dc662f75f",
              "IPY_MODEL_5d2b2b8ea53e4bccb34cfa137165fe3c",
              "IPY_MODEL_88e19b812b50464ea4009b9539ad5f37"
            ],
            "layout": "IPY_MODEL_edfb772505dd48b892aef26c6c1c56d8"
          }
        },
        "7aac56869c3f4a7cb79bc5e04202fbee": {
          "model_module": "@jupyter-widgets/controls",
          "model_module_version": "1.5.0",
          "model_name": "DescriptionStyleModel",
          "state": {
            "_model_module": "@jupyter-widgets/controls",
            "_model_module_version": "1.5.0",
            "_model_name": "DescriptionStyleModel",
            "_view_count": null,
            "_view_module": "@jupyter-widgets/base",
            "_view_module_version": "1.2.0",
            "_view_name": "StyleView",
            "description_width": ""
          }
        },
        "7bb2f2476c414b959a0e753406ceae50": {
          "model_module": "@jupyter-widgets/base",
          "model_module_version": "1.2.0",
          "model_name": "LayoutModel",
          "state": {
            "_model_module": "@jupyter-widgets/base",
            "_model_module_version": "1.2.0",
            "_model_name": "LayoutModel",
            "_view_count": null,
            "_view_module": "@jupyter-widgets/base",
            "_view_module_version": "1.2.0",
            "_view_name": "LayoutView",
            "align_content": null,
            "align_items": null,
            "align_self": null,
            "border": null,
            "bottom": null,
            "display": null,
            "flex": "2",
            "flex_flow": null,
            "grid_area": null,
            "grid_auto_columns": null,
            "grid_auto_flow": null,
            "grid_auto_rows": null,
            "grid_column": null,
            "grid_gap": null,
            "grid_row": null,
            "grid_template_areas": null,
            "grid_template_columns": null,
            "grid_template_rows": null,
            "height": null,
            "justify_content": null,
            "justify_items": null,
            "left": null,
            "margin": null,
            "max_height": null,
            "max_width": null,
            "min_height": null,
            "min_width": null,
            "object_fit": null,
            "object_position": null,
            "order": null,
            "overflow": null,
            "overflow_x": null,
            "overflow_y": null,
            "padding": null,
            "right": null,
            "top": null,
            "visibility": null,
            "width": null
          }
        },
        "88e19b812b50464ea4009b9539ad5f37": {
          "model_module": "@jupyter-widgets/controls",
          "model_module_version": "1.5.0",
          "model_name": "HTMLModel",
          "state": {
            "_dom_classes": [],
            "_model_module": "@jupyter-widgets/controls",
            "_model_module_version": "1.5.0",
            "_model_name": "HTMLModel",
            "_view_count": null,
            "_view_module": "@jupyter-widgets/controls",
            "_view_module_version": "1.5.0",
            "_view_name": "HTMLView",
            "description": "",
            "description_tooltip": null,
            "layout": "IPY_MODEL_917c06d07a394c40bdf12dbfabf33769",
            "placeholder": "​",
            "style": "IPY_MODEL_a2e555e803c64ef388df0652824c9143",
            "value": " 150/150 [03:18&lt;00:00,  1.37s/it, Energy=-10.705+0.000j ± 0.035 [σ²=4.931, R̂=1.0040]]"
          }
        },
        "90c6dfbefea943469cc747ae4fb6bbaa": {
          "model_module": "@jupyter-widgets/controls",
          "model_module_version": "1.5.0",
          "model_name": "HBoxModel",
          "state": {
            "_dom_classes": [],
            "_model_module": "@jupyter-widgets/controls",
            "_model_module_version": "1.5.0",
            "_model_name": "HBoxModel",
            "_view_count": null,
            "_view_module": "@jupyter-widgets/controls",
            "_view_module_version": "1.5.0",
            "_view_name": "HBoxView",
            "box_style": "",
            "children": [
              "IPY_MODEL_0aa7015755ca4df590cb161104debb29",
              "IPY_MODEL_240a53a43c534b7e825a73e6731357e2",
              "IPY_MODEL_c3396bd318bc48ddb353b4c97c2952f2"
            ],
            "layout": "IPY_MODEL_14f6f2572af746bb864f829c227d1737"
          }
        },
        "917c06d07a394c40bdf12dbfabf33769": {
          "model_module": "@jupyter-widgets/base",
          "model_module_version": "1.2.0",
          "model_name": "LayoutModel",
          "state": {
            "_model_module": "@jupyter-widgets/base",
            "_model_module_version": "1.2.0",
            "_model_name": "LayoutModel",
            "_view_count": null,
            "_view_module": "@jupyter-widgets/base",
            "_view_module_version": "1.2.0",
            "_view_name": "LayoutView",
            "align_content": null,
            "align_items": null,
            "align_self": null,
            "border": null,
            "bottom": null,
            "display": null,
            "flex": null,
            "flex_flow": null,
            "grid_area": null,
            "grid_auto_columns": null,
            "grid_auto_flow": null,
            "grid_auto_rows": null,
            "grid_column": null,
            "grid_gap": null,
            "grid_row": null,
            "grid_template_areas": null,
            "grid_template_columns": null,
            "grid_template_rows": null,
            "height": null,
            "justify_content": null,
            "justify_items": null,
            "left": null,
            "margin": null,
            "max_height": null,
            "max_width": null,
            "min_height": null,
            "min_width": null,
            "object_fit": null,
            "object_position": null,
            "order": null,
            "overflow": null,
            "overflow_x": null,
            "overflow_y": null,
            "padding": null,
            "right": null,
            "top": null,
            "visibility": null,
            "width": null
          }
        },
        "a2e555e803c64ef388df0652824c9143": {
          "model_module": "@jupyter-widgets/controls",
          "model_module_version": "1.5.0",
          "model_name": "DescriptionStyleModel",
          "state": {
            "_model_module": "@jupyter-widgets/controls",
            "_model_module_version": "1.5.0",
            "_model_name": "DescriptionStyleModel",
            "_view_count": null,
            "_view_module": "@jupyter-widgets/base",
            "_view_module_version": "1.2.0",
            "_view_name": "StyleView",
            "description_width": ""
          }
        },
        "c3396bd318bc48ddb353b4c97c2952f2": {
          "model_module": "@jupyter-widgets/controls",
          "model_module_version": "1.5.0",
          "model_name": "HTMLModel",
          "state": {
            "_dom_classes": [],
            "_model_module": "@jupyter-widgets/controls",
            "_model_module_version": "1.5.0",
            "_model_name": "HTMLModel",
            "_view_count": null,
            "_view_module": "@jupyter-widgets/controls",
            "_view_module_version": "1.5.0",
            "_view_name": "HTMLView",
            "description": "",
            "description_tooltip": null,
            "layout": "IPY_MODEL_4e84d6fea37c40248ad7650cde882ee5",
            "placeholder": "​",
            "style": "IPY_MODEL_4c5a72cafa534c38a426c3d4634dd2cf",
            "value": " 150/150 [12:21&lt;00:00,  4.94s/it, Energy=-11.590+0.000j ± 0.019 [σ²=1.228, R̂=1.0091]]"
          }
        },
        "c7f586da01924cfa8bfbfe6abe4506ce": {
          "model_module": "@jupyter-widgets/controls",
          "model_module_version": "1.5.0",
          "model_name": "DescriptionStyleModel",
          "state": {
            "_model_module": "@jupyter-widgets/controls",
            "_model_module_version": "1.5.0",
            "_model_name": "DescriptionStyleModel",
            "_view_count": null,
            "_view_module": "@jupyter-widgets/base",
            "_view_module_version": "1.2.0",
            "_view_name": "StyleView",
            "description_width": ""
          }
        },
        "cc11a91ce10649b3b9c4e7470a05223b": {
          "model_module": "@jupyter-widgets/base",
          "model_module_version": "1.2.0",
          "model_name": "LayoutModel",
          "state": {
            "_model_module": "@jupyter-widgets/base",
            "_model_module_version": "1.2.0",
            "_model_name": "LayoutModel",
            "_view_count": null,
            "_view_module": "@jupyter-widgets/base",
            "_view_module_version": "1.2.0",
            "_view_name": "LayoutView",
            "align_content": null,
            "align_items": null,
            "align_self": null,
            "border": null,
            "bottom": null,
            "display": null,
            "flex": "2",
            "flex_flow": null,
            "grid_area": null,
            "grid_auto_columns": null,
            "grid_auto_flow": null,
            "grid_auto_rows": null,
            "grid_column": null,
            "grid_gap": null,
            "grid_row": null,
            "grid_template_areas": null,
            "grid_template_columns": null,
            "grid_template_rows": null,
            "height": null,
            "justify_content": null,
            "justify_items": null,
            "left": null,
            "margin": null,
            "max_height": null,
            "max_width": null,
            "min_height": null,
            "min_width": null,
            "object_fit": null,
            "object_position": null,
            "order": null,
            "overflow": null,
            "overflow_x": null,
            "overflow_y": null,
            "padding": null,
            "right": null,
            "top": null,
            "visibility": null,
            "width": null
          }
        },
        "ce511ab800ca4a83a62837e6a88ad3d6": {
          "model_module": "@jupyter-widgets/controls",
          "model_module_version": "1.5.0",
          "model_name": "HTMLModel",
          "state": {
            "_dom_classes": [],
            "_model_module": "@jupyter-widgets/controls",
            "_model_module_version": "1.5.0",
            "_model_name": "HTMLModel",
            "_view_count": null,
            "_view_module": "@jupyter-widgets/controls",
            "_view_module_version": "1.5.0",
            "_view_name": "HTMLView",
            "description": "",
            "description_tooltip": null,
            "layout": "IPY_MODEL_3cc290c444874c5690827e6efcf6d9ca",
            "placeholder": "​",
            "style": "IPY_MODEL_fade787b4b734532a0760814797f716e",
            "value": "100%"
          }
        },
        "d0d65119d7684062b02815ab49c69636": {
          "model_module": "@jupyter-widgets/controls",
          "model_module_version": "1.5.0",
          "model_name": "ProgressStyleModel",
          "state": {
            "_model_module": "@jupyter-widgets/controls",
            "_model_module_version": "1.5.0",
            "_model_name": "ProgressStyleModel",
            "_view_count": null,
            "_view_module": "@jupyter-widgets/base",
            "_view_module_version": "1.2.0",
            "_view_name": "StyleView",
            "bar_color": null,
            "description_width": ""
          }
        },
        "ddcab6de7ea04220a4faaa306f351a76": {
          "model_module": "@jupyter-widgets/controls",
          "model_module_version": "1.5.0",
          "model_name": "HTMLModel",
          "state": {
            "_dom_classes": [],
            "_model_module": "@jupyter-widgets/controls",
            "_model_module_version": "1.5.0",
            "_model_name": "HTMLModel",
            "_view_count": null,
            "_view_module": "@jupyter-widgets/controls",
            "_view_module_version": "1.5.0",
            "_view_name": "HTMLView",
            "description": "",
            "description_tooltip": null,
            "layout": "IPY_MODEL_1924339da5644c4fa3265793c2674404",
            "placeholder": "​",
            "style": "IPY_MODEL_c7f586da01924cfa8bfbfe6abe4506ce",
            "value": " 150/150 [03:02&lt;00:00,  1.23s/it, Energy=-8.768+0.000j ± 0.041 [σ²=4.791, R̂=1.0089]]"
          }
        },
        "e4e77bead9f1426ba3334fa77b193e45": {
          "model_module": "@jupyter-widgets/base",
          "model_module_version": "1.2.0",
          "model_name": "LayoutModel",
          "state": {
            "_model_module": "@jupyter-widgets/base",
            "_model_module_version": "1.2.0",
            "_model_name": "LayoutModel",
            "_view_count": null,
            "_view_module": "@jupyter-widgets/base",
            "_view_module_version": "1.2.0",
            "_view_name": "LayoutView",
            "align_content": null,
            "align_items": null,
            "align_self": null,
            "border": null,
            "bottom": null,
            "display": null,
            "flex": null,
            "flex_flow": null,
            "grid_area": null,
            "grid_auto_columns": null,
            "grid_auto_flow": null,
            "grid_auto_rows": null,
            "grid_column": null,
            "grid_gap": null,
            "grid_row": null,
            "grid_template_areas": null,
            "grid_template_columns": null,
            "grid_template_rows": null,
            "height": null,
            "justify_content": null,
            "justify_items": null,
            "left": null,
            "margin": null,
            "max_height": null,
            "max_width": null,
            "min_height": null,
            "min_width": null,
            "object_fit": null,
            "object_position": null,
            "order": null,
            "overflow": null,
            "overflow_x": null,
            "overflow_y": null,
            "padding": null,
            "right": null,
            "top": null,
            "visibility": null,
            "width": null
          }
        },
        "ea9b47be34e34e74b4ba73be136ba4bf": {
          "model_module": "@jupyter-widgets/base",
          "model_module_version": "1.2.0",
          "model_name": "LayoutModel",
          "state": {
            "_model_module": "@jupyter-widgets/base",
            "_model_module_version": "1.2.0",
            "_model_name": "LayoutModel",
            "_view_count": null,
            "_view_module": "@jupyter-widgets/base",
            "_view_module_version": "1.2.0",
            "_view_name": "LayoutView",
            "align_content": null,
            "align_items": null,
            "align_self": null,
            "border": null,
            "bottom": null,
            "display": "inline-flex",
            "flex": null,
            "flex_flow": "row wrap",
            "grid_area": null,
            "grid_auto_columns": null,
            "grid_auto_flow": null,
            "grid_auto_rows": null,
            "grid_column": null,
            "grid_gap": null,
            "grid_row": null,
            "grid_template_areas": null,
            "grid_template_columns": null,
            "grid_template_rows": null,
            "height": null,
            "justify_content": null,
            "justify_items": null,
            "left": null,
            "margin": null,
            "max_height": null,
            "max_width": null,
            "min_height": null,
            "min_width": null,
            "object_fit": null,
            "object_position": null,
            "order": null,
            "overflow": null,
            "overflow_x": null,
            "overflow_y": null,
            "padding": null,
            "right": null,
            "top": null,
            "visibility": null,
            "width": "100%"
          }
        },
        "edfb772505dd48b892aef26c6c1c56d8": {
          "model_module": "@jupyter-widgets/base",
          "model_module_version": "1.2.0",
          "model_name": "LayoutModel",
          "state": {
            "_model_module": "@jupyter-widgets/base",
            "_model_module_version": "1.2.0",
            "_model_name": "LayoutModel",
            "_view_count": null,
            "_view_module": "@jupyter-widgets/base",
            "_view_module_version": "1.2.0",
            "_view_name": "LayoutView",
            "align_content": null,
            "align_items": null,
            "align_self": null,
            "border": null,
            "bottom": null,
            "display": "inline-flex",
            "flex": null,
            "flex_flow": "row wrap",
            "grid_area": null,
            "grid_auto_columns": null,
            "grid_auto_flow": null,
            "grid_auto_rows": null,
            "grid_column": null,
            "grid_gap": null,
            "grid_row": null,
            "grid_template_areas": null,
            "grid_template_columns": null,
            "grid_template_rows": null,
            "height": null,
            "justify_content": null,
            "justify_items": null,
            "left": null,
            "margin": null,
            "max_height": null,
            "max_width": null,
            "min_height": null,
            "min_width": null,
            "object_fit": null,
            "object_position": null,
            "order": null,
            "overflow": null,
            "overflow_x": null,
            "overflow_y": null,
            "padding": null,
            "right": null,
            "top": null,
            "visibility": null,
            "width": "100%"
          }
        },
        "f6a717e0ed144a49adb62191a41f0d0e": {
          "model_module": "@jupyter-widgets/base",
          "model_module_version": "1.2.0",
          "model_name": "LayoutModel",
          "state": {
            "_model_module": "@jupyter-widgets/base",
            "_model_module_version": "1.2.0",
            "_model_name": "LayoutModel",
            "_view_count": null,
            "_view_module": "@jupyter-widgets/base",
            "_view_module_version": "1.2.0",
            "_view_name": "LayoutView",
            "align_content": null,
            "align_items": null,
            "align_self": null,
            "border": null,
            "bottom": null,
            "display": null,
            "flex": "2",
            "flex_flow": null,
            "grid_area": null,
            "grid_auto_columns": null,
            "grid_auto_flow": null,
            "grid_auto_rows": null,
            "grid_column": null,
            "grid_gap": null,
            "grid_row": null,
            "grid_template_areas": null,
            "grid_template_columns": null,
            "grid_template_rows": null,
            "height": null,
            "justify_content": null,
            "justify_items": null,
            "left": null,
            "margin": null,
            "max_height": null,
            "max_width": null,
            "min_height": null,
            "min_width": null,
            "object_fit": null,
            "object_position": null,
            "order": null,
            "overflow": null,
            "overflow_x": null,
            "overflow_y": null,
            "padding": null,
            "right": null,
            "top": null,
            "visibility": null,
            "width": null
          }
        },
        "fade787b4b734532a0760814797f716e": {
          "model_module": "@jupyter-widgets/controls",
          "model_module_version": "1.5.0",
          "model_name": "DescriptionStyleModel",
          "state": {
            "_model_module": "@jupyter-widgets/controls",
            "_model_module_version": "1.5.0",
            "_model_name": "DescriptionStyleModel",
            "_view_count": null,
            "_view_module": "@jupyter-widgets/base",
            "_view_module_version": "1.2.0",
            "_view_name": "StyleView",
            "description_width": ""
          }
        },
        "ffdf9d3e52334bf1a5b01662d802358f": {
          "model_module": "@jupyter-widgets/controls",
          "model_module_version": "1.5.0",
          "model_name": "DescriptionStyleModel",
          "state": {
            "_model_module": "@jupyter-widgets/controls",
            "_model_module_version": "1.5.0",
            "_model_name": "DescriptionStyleModel",
            "_view_count": null,
            "_view_module": "@jupyter-widgets/base",
            "_view_module_version": "1.2.0",
            "_view_name": "StyleView",
            "description_width": ""
          }
        }
      }
    }
  },
  "nbformat": 4,
  "nbformat_minor": 5
}
