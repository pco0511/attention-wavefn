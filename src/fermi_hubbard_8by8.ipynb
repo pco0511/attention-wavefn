{
  "cells": [
    {
      "cell_type": "code",
      "execution_count": null,
      "id": "SKKbQS1Cu2Uq",
      "metadata": {
        "colab": {
          "base_uri": "https://localhost:8080/"
        },
        "id": "SKKbQS1Cu2Uq",
        "outputId": "6965462c-0cd8-4617-e402-2baa2acb5ccc"
      },
      "outputs": [
        {
          "output_type": "stream",
          "name": "stdout",
          "text": [
            "Requirement already satisfied: netket in /usr/local/lib/python3.11/dist-packages (3.17.1)\n",
            "Requirement already satisfied: equinox>=0.11.3 in /usr/local/lib/python3.11/dist-packages (from netket) (0.12.2)\n",
            "Requirement already satisfied: flax>=0.10.2 in /usr/local/lib/python3.11/dist-packages (from netket) (0.10.6)\n",
            "Requirement already satisfied: igraph>=0.10.0 in /usr/local/lib/python3.11/dist-packages (from netket) (0.11.8)\n",
            "Requirement already satisfied: jax<0.6,>=0.3.37 in /usr/local/lib/python3.11/dist-packages (from netket) (0.5.2)\n",
            "Requirement already satisfied: numba>=0.59 in /usr/local/lib/python3.11/dist-packages (from netket) (0.60.0)\n",
            "Requirement already satisfied: numpy<3.0,>=1.20 in /usr/local/lib/python3.11/dist-packages (from netket) (2.0.2)\n",
            "Requirement already satisfied: optax<0.3,>=0.2.2 in /usr/local/lib/python3.11/dist-packages (from netket) (0.2.4)\n",
            "Requirement already satisfied: orjson<4,>=3.4 in /usr/local/lib/python3.11/dist-packages (from netket) (3.10.18)\n",
            "Requirement already satisfied: plum-dispatch>=2.4 in /usr/local/lib/python3.11/dist-packages (from netket) (2.5.7)\n",
            "Requirement already satisfied: rich>=12.0 in /usr/local/lib/python3.11/dist-packages (from netket) (13.9.4)\n",
            "Requirement already satisfied: scipy<2,>=1.5.3 in /usr/local/lib/python3.11/dist-packages (from netket) (1.15.3)\n",
            "Requirement already satisfied: tqdm<5,>=4.60 in /usr/local/lib/python3.11/dist-packages (from netket) (4.67.1)\n",
            "Requirement already satisfied: jaxtyping>=0.2.20 in /usr/local/lib/python3.11/dist-packages (from equinox>=0.11.3->netket) (0.3.2)\n",
            "Requirement already satisfied: typing-extensions>=4.5.0 in /usr/local/lib/python3.11/dist-packages (from equinox>=0.11.3->netket) (4.13.2)\n",
            "Requirement already satisfied: wadler-lindig>=0.1.0 in /usr/local/lib/python3.11/dist-packages (from equinox>=0.11.3->netket) (0.1.6)\n",
            "Requirement already satisfied: msgpack in /usr/local/lib/python3.11/dist-packages (from flax>=0.10.2->netket) (1.1.0)\n",
            "Requirement already satisfied: orbax-checkpoint in /usr/local/lib/python3.11/dist-packages (from flax>=0.10.2->netket) (0.11.13)\n",
            "Requirement already satisfied: tensorstore in /usr/local/lib/python3.11/dist-packages (from flax>=0.10.2->netket) (0.1.74)\n",
            "Requirement already satisfied: PyYAML>=5.4.1 in /usr/local/lib/python3.11/dist-packages (from flax>=0.10.2->netket) (6.0.2)\n",
            "Requirement already satisfied: treescope>=0.1.7 in /usr/local/lib/python3.11/dist-packages (from flax>=0.10.2->netket) (0.1.9)\n",
            "Requirement already satisfied: texttable>=1.6.2 in /usr/local/lib/python3.11/dist-packages (from igraph>=0.10.0->netket) (1.7.0)\n",
            "Requirement already satisfied: jaxlib<=0.5.2,>=0.5.1 in /usr/local/lib/python3.11/dist-packages (from jax<0.6,>=0.3.37->netket) (0.5.1)\n",
            "Requirement already satisfied: ml_dtypes>=0.4.0 in /usr/local/lib/python3.11/dist-packages (from jax<0.6,>=0.3.37->netket) (0.4.1)\n",
            "Requirement already satisfied: opt_einsum in /usr/local/lib/python3.11/dist-packages (from jax<0.6,>=0.3.37->netket) (3.4.0)\n",
            "Requirement already satisfied: llvmlite<0.44,>=0.43.0dev0 in /usr/local/lib/python3.11/dist-packages (from numba>=0.59->netket) (0.43.0)\n",
            "Requirement already satisfied: absl-py>=0.7.1 in /usr/local/lib/python3.11/dist-packages (from optax<0.3,>=0.2.2->netket) (1.4.0)\n",
            "Requirement already satisfied: chex>=0.1.87 in /usr/local/lib/python3.11/dist-packages (from optax<0.3,>=0.2.2->netket) (0.1.89)\n",
            "Requirement already satisfied: etils[epy] in /usr/local/lib/python3.11/dist-packages (from optax<0.3,>=0.2.2->netket) (1.12.2)\n",
            "Requirement already satisfied: beartype>=0.16.2 in /usr/local/lib/python3.11/dist-packages (from plum-dispatch>=2.4->netket) (0.21.0)\n",
            "Requirement already satisfied: markdown-it-py>=2.2.0 in /usr/local/lib/python3.11/dist-packages (from rich>=12.0->netket) (3.0.0)\n",
            "Requirement already satisfied: pygments<3.0.0,>=2.13.0 in /usr/local/lib/python3.11/dist-packages (from rich>=12.0->netket) (2.19.1)\n",
            "Requirement already satisfied: toolz>=0.9.0 in /usr/local/lib/python3.11/dist-packages (from chex>=0.1.87->optax<0.3,>=0.2.2->netket) (0.12.1)\n",
            "Requirement already satisfied: mdurl~=0.1 in /usr/local/lib/python3.11/dist-packages (from markdown-it-py>=2.2.0->rich>=12.0->netket) (0.1.2)\n",
            "Requirement already satisfied: nest_asyncio in /usr/local/lib/python3.11/dist-packages (from orbax-checkpoint->flax>=0.10.2->netket) (1.6.0)\n",
            "Requirement already satisfied: protobuf in /usr/local/lib/python3.11/dist-packages (from orbax-checkpoint->flax>=0.10.2->netket) (5.29.4)\n",
            "Requirement already satisfied: humanize in /usr/local/lib/python3.11/dist-packages (from orbax-checkpoint->flax>=0.10.2->netket) (4.12.3)\n",
            "Requirement already satisfied: simplejson>=3.16.0 in /usr/local/lib/python3.11/dist-packages (from orbax-checkpoint->flax>=0.10.2->netket) (3.20.1)\n",
            "Requirement already satisfied: fsspec in /usr/local/lib/python3.11/dist-packages (from etils[epy]->optax<0.3,>=0.2.2->netket) (2025.3.2)\n",
            "Requirement already satisfied: importlib_resources in /usr/local/lib/python3.11/dist-packages (from etils[epy]->optax<0.3,>=0.2.2->netket) (6.5.2)\n",
            "Requirement already satisfied: zipp in /usr/local/lib/python3.11/dist-packages (from etils[epy]->optax<0.3,>=0.2.2->netket) (3.21.0)\n"
          ]
        }
      ],
      "source": [
        "!pip install netket"
      ]
    },
    {
      "cell_type": "code",
      "execution_count": null,
      "id": "c23ac303",
      "metadata": {
        "id": "c23ac303"
      },
      "outputs": [],
      "source": [
        "import os\n",
        "\n",
        "# os.environ[\"XLA_PYTHON_CLIENT_PREALLOCATE\"] = \"true\"\n",
        "os.environ[\"XLA_PYTHON_CLIENT_MEM_FRACTION\"] = \"0.90\"\n",
        "# os.environ[\"XLA_PYTHON_CLIENT_ALLOCATOR\"] = \"platform\"\n",
        "\n",
        "import jax\n",
        "jax.config.update(\"jax_enable_x64\", False)\n",
        "# jax.config.update(\"jax_platform_name\", \"gpu\")\n",
        "\n",
        "import functools\n",
        "from typing import Callable\n",
        "\n",
        "import tqdm\n",
        "import equinox as eqx\n",
        "\n",
        "import jax.numpy as jnp\n",
        "import numpy as np\n",
        "import optax\n",
        "from jaxtyping import Array, PyTree, Int, Float, Complex, PRNGKeyArray\n",
        "\n",
        "import netket as nk\n",
        "from netket.operator import FermionOperator2ndJax\n",
        "from netket.operator.fermion import destroy as c\n",
        "from netket.operator.fermion import create as cdag\n",
        "from netket.operator.fermion import number as nc\n",
        "\n",
        "from netket.experimental.driver import VMC_SRt\n",
        "from netket.jax import logdet_cmplx\n",
        "jax.config.update(\"jax_enable_x64\", False)\n",
        "\n",
        "import matplotlib.pyplot as plt\n",
        "\n",
        "key = jax.random.key(42)"
      ]
    },
    {
      "cell_type": "markdown",
      "id": "eec4be51",
      "metadata": {
        "id": "eec4be51"
      },
      "source": [
        "## Construct Hilbert spaces and Hamiltonian operator\n",
        "- Hilbertspace\n",
        "\\begin{equation}\n",
        "    \\mathcal H = \\operatorname{span}\\{\\ket{n}:n \\in \\mathcal L(L_x, L_y, ...)\\},\\quad F_{-} (\\mathcal H) = \\bigoplus_{n=0}^\\infty S_{-}\\mathcal H^{\\otimes n}\n",
        "\\end{equation}\n",
        "Where $\\mathcal L(L_x, L_y, ...)$ is square lattice with lengths $L_x, L_y, ...$.\n",
        "\n",
        "\n",
        "- Hamiltonian operator\n",
        "\\begin{equation}\n",
        "    H=-t\\sum_{\\braket{\\mathbf r, \\mathbf r'}, \\sigma} [c_{\\sigma}^\\dagger(\\mathbf r')c_{\\sigma}(\\mathbf r) + c_{\\sigma}^\\dagger(\\mathbf r)c_{\\sigma}(\\mathbf r')] + U\\sum_{\\mathbf r} n_\\uparrow (\\mathbf r) n_\\downarrow (\\mathbf r)\n",
        "\\end{equation}\n"
      ]
    },
    {
      "cell_type": "code",
      "execution_count": null,
      "id": "c0fb28ec",
      "metadata": {
        "colab": {
          "base_uri": "https://localhost:8080/",
          "height": 491
        },
        "id": "c0fb28ec",
        "outputId": "cc7fd15b-9674-469b-97a3-4408210c5033"
      },
      "outputs": [
        {
          "output_type": "display_data",
          "data": {
            "text/plain": [
              "<Figure size 640x480 with 1 Axes>"
            ],
            "image/png": "[encoded data removed]"
          },
          "metadata": {}
        },
        {
          "output_type": "execute_result",
          "data": {
            "text/plain": [
              "<Axes: title={'center': '2D Lattice (Distance Order: 1)'}, xlabel='X', ylabel='Y'>"
            ]
          },
          "metadata": {},
          "execution_count": 4
        }
      ],
      "source": [
        "def construct_system(t: float, U: float, N: int, L: list[int], pbc=True) -> tuple[nk.hilbert.SpinOrbitalFermions, FermionOperator2ndJax]:\n",
        "    hi = nk.hilbert.SpinOrbitalFermions(N, s=1/2, n_fermions=N)\n",
        "    H = FermionOperator2ndJax(hi)\n",
        "\n",
        "    graph = nk.graph.Grid(L, pbc=pbc)\n",
        "    for (r1, r2) in graph.edges():\n",
        "        for s in [-1, 1]:\n",
        "            H += -t * (cdag(hi, r1, s) * c(hi, r2, s) + cdag(hi, r2, s) * c(hi, r1, s))\n",
        "\n",
        "    for r in graph.nodes():\n",
        "        H += U * nc(hi, r, -1) * nc(hi, r, 1)\n",
        "\n",
        "    return hi, H\n",
        "\n",
        "t = 1.0\n",
        "U = 8.0\n",
        "N = 52\n",
        "L = [8, 8]\n",
        "PBC = True\n",
        "\n",
        "graph = nk.graph.Grid(L, pbc=PBC)\n",
        "graph_extended = nk.graph.disjoint_union(graph, graph)\n",
        "\n",
        "graph.draw()"
      ]
    },
    {
      "cell_type": "code",
      "execution_count": null,
      "id": "bb5f038f",
      "metadata": {
        "id": "bb5f038f"
      },
      "outputs": [],
      "source": [
        "hi = nk.hilbert.SpinOrbitalFermions(graph.n_nodes, s=1/2, n_fermions=N)\n",
        "\n",
        "H = FermionOperator2ndJax(hi)\n",
        "for (r1, r2) in graph.edges():\n",
        "    for s in [-1, 1]:\n",
        "        H += -t * (cdag(hi, r1, s) * c(hi, r2, s) + cdag(hi, r2, s) * c(hi, r1, s))\n",
        "\n",
        "for r in graph.nodes():\n",
        "    H += U * nc(hi, r, -1) * nc(hi, r, 1)"
      ]
    },
    {
      "cell_type": "markdown",
      "id": "c1098c44",
      "metadata": {
        "id": "c1098c44"
      },
      "source": [
        "## Exact Diagonalization\n",
        "\n",
        "As a reference"
      ]
    },
    {
      "cell_type": "code",
      "execution_count": null,
      "id": "d359ba94",
      "metadata": {
        "id": "d359ba94"
      },
      "outputs": [],
      "source": [
        "# sp_h = H.to_numba_operator().to_sparse()"
      ]
    },
    {
      "cell_type": "code",
      "execution_count": null,
      "id": "25437948",
      "metadata": {
        "id": "25437948"
      },
      "outputs": [],
      "source": [
        "# from scipy.sparse.linalg import eigsh\n",
        "\n",
        "# eig_vals, eig_vecs = eigsh(sp_h, k=2, which=\"SA\")\n",
        "\n",
        "# E_gs = eig_vals[0]\n",
        "\n",
        "# print(\"Exact ground state energy:\", E_gs)\n",
        "E_gs = -0.75 * 64"
      ]
    },
    {
      "cell_type": "markdown",
      "id": "07c9edaa",
      "metadata": {
        "id": "07c9edaa"
      },
      "source": [
        "## Mean-Field Slater Determinant\n",
        "\n",
        "\\begin{equation}\n",
        "    \\ket{\\Phi_s}=\\prod_{\\alpha=1}^{N_{\\mathrm f}}\\phi_\\alpha^\\dagger\\ket{0}\n",
        "\\end{equation}\n",
        "\n",
        "Where $\\ket{0}$ is the vacuum state and the single-particle orbitals are created by the operators $\\phi_\\alpha^\\dagger$. In turn, these creation operators are, in general, a linear combination of the original creation operators:\n",
        "\\begin{equation}\n",
        "    \\phi_\\alpha^\\dagger =\\sum_{i} M_{\\alpha, i}c_i^\\dagger\n",
        "\\end{equation}\n",
        "The rectangular $(N\\times N_{\\mathrm f})$ matrix $M$ constitutes a set of free variational parameters (Where $N$ is the number of orbitals and $N_{\\mathrm f}$ the number of fermions).\n",
        "\n",
        "It can be shown that the amplitudes of the wave function in the computational basis $\\ket{n_1, ..., n_N}$ are determinants:\n",
        "\\begin{equation}\n",
        "    \\braket{n_1, ..., n_N|\\Phi_{s}} = \\det\\{A(n)\\}\n",
        "\\end{equation}\n",
        "where the $N_{\\mathrm f}\\times N_{\\mathrm f}$ matrix is\n",
        "\\begin{equation}\n",
        "    A(n)_{\\alpha,\\beta} = M_{R_\\alpha(\\mathbf n), \\beta},\n",
        "\\end{equation}\n",
        "where $R_\\alpha(\\mathbf n)$ denotes the index of the $\\alpha$-th occupied site (non-zero $n_i$) in $\\mathbf n=(n_1, ..., n_N)$. This can also be interepted as selecting $N_{\\mathrm f}$ rows of the matrix $M$ in corresponding to the $N_{\\mathrm f}$ occupied orbitals. For more details see Chapter 5 of Reference [1].\n",
        "\n",
        "To write down this variational amplitudes, we start by defining a convenience function to compute the logarithm of the determinant of a matrix, in the complex domain, and using jax:"
      ]
    },
    {
      "cell_type": "code",
      "execution_count": null,
      "id": "fe84cd78",
      "metadata": {
        "id": "fe84cd78"
      },
      "outputs": [],
      "source": [
        "@jax.jit\n",
        "def nkstate_to_indexseq(\n",
        "    state,\n",
        ") -> jnp.ndarray:\n",
        "    return jnp.nonzero(state, size=hi.n_fermions)\n",
        "\n",
        "def count_parameters(model):\n",
        "    leaves = jax.tree.leaves(model)\n",
        "    return sum(x.size for x in leaves if isinstance(x, jnp.ndarray))\n",
        "\n",
        "class BatchWrapper(eqx.Module):\n",
        "    submodule: eqx.Module\n",
        "\n",
        "    def __init__(self, submodule):\n",
        "        self.submodule = submodule\n",
        "\n",
        "    def __call__(self, batch, **kwargs):\n",
        "        outputs = jax.vmap(self.submodule)(batch)\n",
        "        return outputs"
      ]
    },
    {
      "cell_type": "markdown",
      "id": "c4519e89",
      "metadata": {
        "id": "c4519e89"
      },
      "source": [
        "### Simplest Slater Determinant"
      ]
    },
    {
      "cell_type": "code",
      "execution_count": null,
      "id": "ee1e57de",
      "metadata": {
        "id": "ee1e57de"
      },
      "outputs": [],
      "source": [
        "class LogSlaterDeterminant(eqx.Module):\n",
        "    embedding: eqx.nn.Embedding\n",
        "\n",
        "    def __init__(\n",
        "        self,\n",
        "        hilbert: nk.hilbert.SpinOrbitalFermions,\n",
        "        *,\n",
        "        key: PRNGKeyArray\n",
        "    ):\n",
        "        self.embedding = eqx.nn.Embedding(hilbert.size, hilbert.n_fermions, key=key)\n",
        "\n",
        "    def __call__(\n",
        "        self,\n",
        "        state: Int[Array, \"hilb_size\"]\n",
        "    ) -> Complex[Array, \"\"]:\n",
        "        indices = nkstate_to_indexseq(state)[0]\n",
        "        A = jax.vmap(self.embedding)(indices)\n",
        "        return logdet_cmplx(A)"
      ]
    },
    {
      "cell_type": "code",
      "execution_count": null,
      "id": "105cc55e",
      "metadata": {
        "colab": {
          "base_uri": "https://localhost:8080/"
        },
        "id": "105cc55e",
        "outputId": "722853f7-7e2d-49c9-baf0-1cb847b9a03e"
      },
      "outputs": [
        {
          "output_type": "execute_result",
          "data": {
            "text/plain": [
              "6656"
            ]
          },
          "metadata": {},
          "execution_count": 9
        }
      ],
      "source": [
        "key, subkey = jax.random.split(key)\n",
        "model = LogSlaterDeterminant(hi, key=subkey)\n",
        "ma = BatchWrapper(\n",
        "    model\n",
        ")\n",
        "sa = nk.sampler.MetropolisFermionHop(hi, graph=graph_extended)\n",
        "count_parameters(model)"
      ]
    },
    {
      "cell_type": "code",
      "execution_count": null,
      "id": "510b6219",
      "metadata": {
        "id": "510b6219"
      },
      "outputs": [],
      "source": [
        "vstate = nk.vqs.MCState(sa, ma, n_samples=2**12, n_discard_per_chain=16, chunk_size=2**11)"
      ]
    },
    {
      "cell_type": "code",
      "execution_count": null,
      "id": "c7d01488",
      "metadata": {
        "colab": {
          "base_uri": "https://localhost:8080/"
        },
        "id": "c7d01488",
        "outputId": "028ddf12-1d8c-4972-f9d7-96abdec98870"
      },
      "outputs": [
        {
          "output_type": "execute_result",
          "data": {
            "text/plain": [
              "(16, 256, 128)"
            ]
          },
          "metadata": {},
          "execution_count": 16
        }
      ],
      "source": [
        "vstate.samples.shape"
      ]
    },
    {
      "cell_type": "code",
      "execution_count": null,
      "id": "e89bdbe9",
      "metadata": {
        "colab": {
          "base_uri": "https://localhost:8080/"
        },
        "id": "e89bdbe9",
        "outputId": "991c1a19-fd45-4dbc-8259-ded80b35eb31"
      },
      "outputs": [
        {
          "output_type": "execute_result",
          "data": {
            "text/plain": [
              "Array([1, 1, 1, 1, 1, 0, 0, 0, 0, 1, 1, 0, 0, 0, 0, 0, 1, 1, 1, 1, 0, 0,\n",
              "       0, 0, 1, 0, 1, 0, 0, 1, 1, 0, 0, 1, 1, 0, 0, 0, 0, 1, 1, 0, 1, 1,\n",
              "       0, 1, 0, 0, 1, 1, 0, 0, 0, 0, 0, 0, 0, 0, 1, 1, 1, 0, 0, 0, 0, 1,\n",
              "       0, 0, 1, 0, 0, 1, 1, 0, 1, 1, 0, 1, 1, 0, 1, 0, 0, 0, 1, 0, 0, 1,\n",
              "       0, 0, 0, 1, 1, 1, 1, 1, 0, 1, 0, 0, 1, 0, 0, 0, 0, 1, 0, 1, 0, 0,\n",
              "       0, 0, 0, 0, 1, 0, 0, 0, 0, 0, 0, 1, 1, 1, 1, 0, 0, 0], dtype=int8)"
            ]
          },
          "metadata": {},
          "execution_count": 17
        }
      ],
      "source": [
        "vstate.samples[0,0]"
      ]
    },
    {
      "cell_type": "code",
      "execution_count": null,
      "id": "e8d2e9db",
      "metadata": {
        "id": "e8d2e9db"
      },
      "outputs": [],
      "source": [
        "# Define the optimizer\n",
        "op = nk.optimizer.Sgd(learning_rate=0.01)\n",
        "\n",
        "# Define a preconditioner\n",
        "preconditioner = nk.optimizer.SR(diag_shift=0.01)\n",
        "\n",
        "# Create the VMC (Variational Monte Carlo) driver\n",
        "# gs = nk.VMC(H, op, variational_state=vstate, preconditioner=preconditioner)\n",
        "gs = VMC_SRt(H, op, variational_state=vstate, diag_shift=0.01)"
      ]
    },
    {
      "cell_type": "code",
      "execution_count": null,
      "id": "ce032159",
      "metadata": {
        "colab": {
          "base_uri": "https://localhost:8080/",
          "height": 49,
          "referenced_widgets": [
            "a828cdeaa86246838e3c9c1afaa82919",
            "d354deb3971d4c94bb98a75dc5333ebd",
            "9286635bb55445998bc6afa080e5970e",
            "6431260835374c5b81210e60c3ec3112",
            "c1a46cddd56244da9baa7c65987ee2f4",
            "12b7f08001a648698cf5acba2771039b",
            "ae4f18196e364a8e9f28cbb7d4630828",
            "74a2476c37cc4255ba010d4187ea8cdd",
            "7ec1bf9c4efc4d38a9d535bf290f1646",
            "5204457bc83f4565a50717cfe71abc7f",
            "fbe577950fde4913b42eb6bbe38c6e8b"
          ]
        },
        "id": "ce032159",
        "outputId": "ddcf991f-1899-4ffd-c6b8-5df7add07619"
      },
      "outputs": [
        {
          "output_type": "display_data",
          "data": {
            "text/plain": [
              "  0%|          | 0/300 [00:00<?, ?it/s]"
            ],
            "application/vnd.jupyter.widget-view+json": {
              "version_major": 2,
              "version_minor": 0,
              "model_id": "a828cdeaa86246838e3c9c1afaa82919"
            }
          },
          "metadata": {}
        }
      ],
      "source": [
        "# Construct the logger to visualize the data later on\n",
        "slater_log=nk.logging.RuntimeLog()\n",
        "\n",
        "# Run the optimization for 300 iterations\n",
        "gs.run(n_iter=300, out=slater_log)"
      ]
    },
    {
      "cell_type": "code",
      "execution_count": null,
      "id": "f2c0a9f2",
      "metadata": {
        "id": "f2c0a9f2"
      },
      "outputs": [],
      "source": [
        "sd_energy = vstate.expect(H)\n",
        "error = abs((sd_energy.mean - E_gs) / E_gs)\n",
        "\n",
        "print(f\"Optimized energy : {sd_energy}\")\n",
        "print(f\"Relative error   : {error}\")"
      ]
    },
    {
      "cell_type": "code",
      "source": [
        "data = slater_log.data\n",
        "plt.errorbar(data[\"Energy\"].iters, data[\"Energy\"].Mean.real, yerr=data[\"Energy\"].Sigma)\n",
        "\n",
        "plt.hlines([E_gs], xmin=0, xmax=300, color='black', label=\"Exact\")\n",
        "\n",
        "plt.xlabel('Iterations')\n",
        "plt.ylabel('Energy')\n",
        "plt.show()"
      ],
      "metadata": {
        "id": "55Fh5g596uqd"
      },
      "id": "55Fh5g596uqd",
      "execution_count": null,
      "outputs": []
    },
    {
      "cell_type": "markdown",
      "id": "cc8d74c9",
      "metadata": {
        "id": "cc8d74c9"
      },
      "source": [
        "### Neural Jastrow"
      ]
    },
    {
      "cell_type": "code",
      "execution_count": null,
      "id": "1d4fe03b",
      "metadata": {
        "id": "1d4fe03b"
      },
      "outputs": [],
      "source": [
        "class LogNeuralJastrowSlater(eqx.Module):\n",
        "    embedding: eqx.nn.Embedding\n",
        "    jastrow_linear: eqx.nn.Linear\n",
        "\n",
        "    def __init__(\n",
        "        self,\n",
        "        hilbert: nk.hilbert.SpinOrbitalFermions,\n",
        "        hidden_size: int,\n",
        "        *,\n",
        "        key: PRNGKeyArray\n",
        "    ):\n",
        "        embedding_key, jastrow_key = jax.random.split(key, 2)\n",
        "        self.embedding = eqx.nn.Embedding(hilbert.size, hilbert.n_fermions, key=embedding_key)\n",
        "        self.jastrow_linear = eqx.nn.Linear(\n",
        "            hilbert.size,\n",
        "            hidden_size,\n",
        "            key=jastrow_key\n",
        "        )\n",
        "\n",
        "    def __call__(\n",
        "        self,\n",
        "        state: Int[Array, \"hilb_size\"]\n",
        "    ) -> Complex[Array, \"\"]:\n",
        "        indices = nkstate_to_indexseq(state)[0]\n",
        "        A = jax.vmap(self.embedding)(indices)\n",
        "        J = self.jastrow_linear(state)\n",
        "        J = jax.nn.tanh(J)\n",
        "        J = jnp.sum(J)\n",
        "\n",
        "        return logdet_cmplx(A) + J"
      ]
    },
    {
      "cell_type": "code",
      "execution_count": null,
      "id": "a1cedc1b",
      "metadata": {
        "id": "a1cedc1b"
      },
      "outputs": [],
      "source": [
        "key, subkey = jax.random.split(key)\n",
        "model = LogNeuralJastrowSlater(\n",
        "    hilbert=hi,\n",
        "    hidden_size=hi.size,\n",
        "    key=subkey\n",
        ")\n",
        "ma = BatchWrapper(\n",
        "    model\n",
        ")\n",
        "sa = nk.sampler.MetropolisFermionHop(hi, graph=graph_extended)\n",
        "vstate = nk.vqs.MCState(sa, ma, n_samples=2**12, n_discard_per_chain=16, chunk_size=2**11)\n",
        "count_parameters(model)"
      ]
    },
    {
      "cell_type": "code",
      "execution_count": null,
      "id": "17bbc711",
      "metadata": {
        "id": "17bbc711"
      },
      "outputs": [],
      "source": [
        "# Define the optimizer\n",
        "op = nk.optimizer.Sgd(learning_rate=0.01)\n",
        "\n",
        "# Define a preconditioner\n",
        "preconditioner = nk.optimizer.SR(diag_shift=0.01)\n",
        "\n",
        "# Create the VMC (Variational Monte Carlo) driver\n",
        "gs = nk.VMC(H, op, variational_state=vstate, preconditioner=preconditioner)\n",
        "gs = VMC_SRt(H, op, variational_state=vstate, diag_shift=0.01)"
      ]
    },
    {
      "cell_type": "code",
      "execution_count": null,
      "id": "cf6db0f1",
      "metadata": {
        "id": "cf6db0f1"
      },
      "outputs": [],
      "source": [
        " # Construct the logger to visualize the data later on\n",
        "nj_log=nk.logging.RuntimeLog()\n",
        "\n",
        "# Run the optimization for 300 iterations\n",
        "gs.run(n_iter=300, out=nj_log)"
      ]
    },
    {
      "cell_type": "code",
      "execution_count": null,
      "id": "3d1c3681",
      "metadata": {
        "id": "3d1c3681"
      },
      "outputs": [],
      "source": [
        "sd_energy = vstate.expect(H)\n",
        "error = abs((sd_energy.mean - E_gs) / E_gs)\n",
        "\n",
        "print(f\"Optimized energy : {sd_energy}\")\n",
        "print(f\"Relative error   : {error}\")"
      ]
    },
    {
      "cell_type": "code",
      "source": [
        "data = nj_log.data\n",
        "plt.errorbar(data[\"Energy\"].iters, data[\"Energy\"].Mean.real, yerr=data[\"Energy\"].Sigma)\n",
        "\n",
        "plt.hlines([E_gs], xmin=0, xmax=300, color='black', label=\"Exact\")\n",
        "\n",
        "plt.xlabel('Iterations')\n",
        "plt.ylabel('Energy')\n",
        "plt.show()"
      ],
      "metadata": {
        "id": "6FUOqIj77gNs"
      },
      "id": "6FUOqIj77gNs",
      "execution_count": null,
      "outputs": []
    },
    {
      "cell_type": "markdown",
      "id": "ce972aae",
      "metadata": {
        "id": "ce972aae"
      },
      "source": [
        "### Self-Attention Ansatz"
      ]
    },
    {
      "cell_type": "code",
      "execution_count": null,
      "id": "c57b3742",
      "metadata": {
        "id": "c57b3742"
      },
      "outputs": [],
      "source": [
        "class TransformerLayer(eqx.Module):\n",
        "    attention: eqx.nn.MultiheadAttention\n",
        "    up_proj: eqx.nn.Linear\n",
        "    down_proj: eqx.nn.Linear\n",
        "    ln1: eqx.nn.LayerNorm\n",
        "    ln2: eqx.nn.LayerNorm\n",
        "    activation: Callable\n",
        "\n",
        "    def __init__(\n",
        "        self,\n",
        "        hidden_size: int,\n",
        "        attention_size: int,\n",
        "        num_head: int,\n",
        "        intermediate_size: int,\n",
        "        activation: Callable,\n",
        "        *,\n",
        "        key\n",
        "    ):\n",
        "        attention_key, up_proj_key, down_proj_key = jax.random.split(key, 3)\n",
        "        self.attention = eqx.nn.MultiheadAttention(\n",
        "            num_head,\n",
        "            hidden_size,\n",
        "            hidden_size,\n",
        "            hidden_size,\n",
        "            hidden_size,\n",
        "            attention_size,\n",
        "            attention_size,\n",
        "            key=attention_key\n",
        "        )\n",
        "        self.up_proj = eqx.nn.Linear(\n",
        "            hidden_size,\n",
        "            intermediate_size,\n",
        "            key=up_proj_key\n",
        "        )\n",
        "        self.down_proj = eqx.nn.Linear(\n",
        "            intermediate_size,\n",
        "            hidden_size,\n",
        "            key=down_proj_key\n",
        "        )\n",
        "        self.ln1 = eqx.nn.LayerNorm(hidden_size)\n",
        "        self.ln2 = eqx.nn.LayerNorm(hidden_size)\n",
        "        self.activation = activation\n",
        "\n",
        "    def __call__(\n",
        "        self,\n",
        "        x: Float[Array, \"n h\"]\n",
        "    ):\n",
        "        atten_out = self.attention(x, x, x)\n",
        "        ff_in = jax.vmap(self.ln1)(atten_out + x)\n",
        "        up_projected = jax.vmap(self.up_proj)(ff_in)\n",
        "        up_projected = self.activation(up_projected)\n",
        "        down_projected = jax.vmap(self.down_proj)(up_projected)\n",
        "        return jax.vmap(self.ln2)(ff_in + down_projected)\n",
        "\n",
        "class AttentionWFN(eqx.Module):\n",
        "    embedding: eqx.nn.Embedding\n",
        "    ln: eqx.nn.LayerNorm\n",
        "    layers: tuple[TransformerLayer]\n",
        "    projector: eqx.nn.Linear\n",
        "    use_complex: bool=eqx.field(static=True)\n",
        "\n",
        "    def __init__(\n",
        "        self,\n",
        "        hilbert: nk.hilbert.SpinOrbitalFermions,\n",
        "        num_layers: int,\n",
        "        hidden_size: int,\n",
        "        attention_size: int,\n",
        "        num_head: int,\n",
        "        intermediate_size: int,\n",
        "        activation: jax.nn.gelu,\n",
        "        *,\n",
        "        use_complex: bool=False,\n",
        "        key: PRNGKeyArray\n",
        "    ):\n",
        "        embedding_key, attention_key, proj_key = jax.random.split(key, 3)\n",
        "        self.embedding = eqx.nn.Embedding(hilbert.size, hidden_size, key=embedding_key)\n",
        "        self.ln = eqx.nn.LayerNorm(hidden_size)\n",
        "        attention_keys = jax.random.split(attention_key, num_layers)\n",
        "        self.layers = tuple(\n",
        "            TransformerLayer(\n",
        "                hidden_size,\n",
        "                attention_size,\n",
        "                num_head,\n",
        "                intermediate_size,\n",
        "                activation,\n",
        "                key=subkey\n",
        "            )\n",
        "            for subkey in attention_keys\n",
        "        )\n",
        "        out_size = 2 * hilbert.n_fermions if use_complex else hilbert.n_fermions\n",
        "        self.projector = eqx.nn.Linear(hidden_size, out_size, key=proj_key)\n",
        "        self.use_complex = use_complex\n",
        "\n",
        "\n",
        "    def __call__(\n",
        "        self,\n",
        "        state: Int[Array, \"hilb_size\"]\n",
        "    ) -> Complex[Array, \"\"]:\n",
        "        indices = nkstate_to_indexseq(state)[0]\n",
        "        embedded = jax.vmap(self.embedding)(indices) # (n_fermions, hidden_size)\n",
        "        embedded = jax.vmap(self.ln)(embedded)\n",
        "        for layer in self.layers:\n",
        "            embedded = layer(embedded)\n",
        "        projected = jax.vmap(self.projector)(embedded)\n",
        "        if self.use_complex:\n",
        "            real, imag = jnp.split(projected, 2, axis=1)\n",
        "            projected = jax.lax.complex(real, imag)\n",
        "        return logdet_cmplx(projected)"
      ]
    },
    {
      "cell_type": "code",
      "execution_count": null,
      "id": "1c3dc885",
      "metadata": {
        "colab": {
          "base_uri": "https://localhost:8080/"
        },
        "id": "1c3dc885",
        "outputId": "0d1c04ae-513c-46e2-ea0d-7022edad57bd"
      },
      "outputs": [
        {
          "output_type": "execute_result",
          "data": {
            "text/plain": [
              "36660"
            ]
          },
          "metadata": {},
          "execution_count": 10
        }
      ],
      "source": [
        "key, subkey = jax.random.split(key)\n",
        "model = AttentionWFN(\n",
        "    hilbert=hi,\n",
        "    num_layers=1,\n",
        "    hidden_size=64,\n",
        "    attention_size=64,\n",
        "    num_head=1,\n",
        "    intermediate_size=64,\n",
        "    activation=jax.nn.mish,\n",
        "    use_complex=False,\n",
        "    key=subkey\n",
        ")\n",
        "ma = BatchWrapper(\n",
        "    model\n",
        ")\n",
        "sa = nk.sampler.MetropolisFermionHop(hi, graph=graph_extended)\n",
        "vstate = nk.vqs.MCState(sa, ma, n_samples=2**12, n_discard_per_chain=16, chunk_size=2**11)\n",
        "count_parameters(model)"
      ]
    },
    {
      "cell_type": "code",
      "execution_count": null,
      "id": "723004c6",
      "metadata": {
        "id": "723004c6"
      },
      "outputs": [],
      "source": [
        "# op = nk.optimizer.Adam(learning_rate=0.001)\n",
        "# gs = nk.VMC(H, op, variational_state=vstate)\n",
        "\n",
        "# Define the optimizer\n",
        "op = nk.optimizer.Sgd(learning_rate=0.01)\n",
        "\n",
        "# Define a preconditioner\n",
        "preconditioner = nk.optimizer.SR(diag_shift=0.01)\n",
        "\n",
        "# Create the VMC (Variational Monte Carlo) driver\n",
        "# gs = nk.VMC(H, op, variational_state=vstate, preconditioner=preconditioner)\n",
        "gs = VMC_SRt(H, op, variational_state=vstate, diag_shift=0.01)"
      ]
    },
    {
      "cell_type": "code",
      "execution_count": null,
      "id": "c6fd87d9",
      "metadata": {
        "colab": {
          "base_uri": "https://localhost:8080/",
          "height": 86,
          "referenced_widgets": [
            "5105b912f3f740cba4dee96594b9f637",
            "bf7e498aa4b34599a6b3eccbc8098794",
            "2d1fc1cdd1e44294a9f90675bb813616",
            "aea8c2e106394d54b652e08b53764e2f",
            "f6220d08545742f1a34801b134d1c3af",
            "23cd2cd601ba42c1821daaa43c62e0a5",
            "9ca3ca9223544d7795ce93cd9ff3547c",
            "04a1c670aa484a2e81f36a4e473aa632",
            "166cce8761f9462c90830f72a195c673",
            "9ca1bbeb104646cb8f99a8f8c015f147",
            "4c5a4bf20a6d47c1b1bde40ddd203642"
          ]
        },
        "id": "c6fd87d9",
        "outputId": "5cce849d-1f24-4a64-eae4-512dfc159f17"
      },
      "outputs": [
        {
          "data": {
            "application/vnd.jupyter.widget-view+json": {
              "model_id": "5105b912f3f740cba4dee96594b9f637",
              "version_major": 2,
              "version_minor": 0
            },
            "text/plain": [
              "  0%|          | 0/300 [00:00<?, ?it/s]"
            ]
          },
          "metadata": {},
          "output_type": "display_data"
        },
        {
          "output_type": "execute_result",
          "data": {
            "text/plain": [
              "(RuntimeLog():\n",
              "  keys = ['acceptance', 'Energy'],)"
            ]
          },
          "metadata": {},
          "execution_count": 12
        }
      ],
      "source": [
        "# Construct the logger to visualize the data later on\n",
        "atten_log=nk.logging.RuntimeLog()\n",
        "\n",
        "# Run the optimization for 300 iterations\n",
        "gs.run(n_iter=300, out=atten_log)"
      ]
    },
    {
      "cell_type": "code",
      "execution_count": null,
      "id": "b391643d",
      "metadata": {
        "colab": {
          "base_uri": "https://localhost:8080/"
        },
        "id": "b391643d",
        "outputId": "c19716e0-6e28-43e9-c632-9f6f3f72fb9f"
      },
      "outputs": [
        {
          "output_type": "stream",
          "name": "stdout",
          "text": [
            "Optimized energy : -46.839+0.000j ± 0.091 [σ²=26.878, R̂=1.0046]\n",
            "Relative error   : 0.024179380387067795\n"
          ]
        }
      ],
      "source": [
        "sd_energy = vstate.expect(H)\n",
        "error = abs((sd_energy.mean - E_gs) / E_gs)\n",
        "\n",
        "print(f\"Optimized energy : {sd_energy}\")\n",
        "print(f\"Relative error   : {error}\")"
      ]
    },
    {
      "cell_type": "code",
      "source": [
        "data = atten_log.data\n",
        "plt.errorbar(data[\"Energy\"].iters, data[\"Energy\"].Mean.real, yerr=data[\"Energy\"].Sigma)\n",
        "\n",
        "plt.hlines([E_gs], xmin=0, xmax=300, color='black', label=\"Exact\")\n",
        "\n",
        "plt.xlabel('Iterations')\n",
        "plt.ylabel('Energy')\n",
        "plt.show()"
      ],
      "metadata": {
        "id": "4JlwR8Hk7rhR"
      },
      "id": "4JlwR8Hk7rhR",
      "execution_count": null,
      "outputs": []
    },
    {
      "cell_type": "code",
      "execution_count": null,
      "id": "ec3fef3e",
      "metadata": {
        "colab": {
          "base_uri": "https://localhost:8080/",
          "height": 224
        },
        "id": "ec3fef3e",
        "outputId": "9a98fe86-9096-4b07-9c35-d56b8b92b1c2"
      },
      "outputs": [
        {
          "ename": "NameError",
          "evalue": "name 'slater_log' is not defined",
          "output_type": "error",
          "traceback": [
            "\u001b[0;31m---------------------------------------------------------------------------\u001b[0m",
            "\u001b[0;31mNameError\u001b[0m                                 Traceback (most recent call last)",
            "\u001b[0;32m<ipython-input-15-91cf21b3adea>\u001b[0m in \u001b[0;36m<cell line: 0>\u001b[0;34m()\u001b[0m\n\u001b[0;32m----> 1\u001b[0;31m \u001b[0mlogged_data\u001b[0m \u001b[0;34m=\u001b[0m \u001b[0;34m(\u001b[0m\u001b[0mslater_log\u001b[0m\u001b[0;34m.\u001b[0m\u001b[0mdata\u001b[0m\u001b[0;34m,\u001b[0m \u001b[0mnj_log\u001b[0m\u001b[0;34m.\u001b[0m\u001b[0mdata\u001b[0m\u001b[0;34m,\u001b[0m \u001b[0matten_log\u001b[0m\u001b[0;34m.\u001b[0m\u001b[0mdata\u001b[0m\u001b[0;34m)\u001b[0m\u001b[0;34m\u001b[0m\u001b[0;34m\u001b[0m\u001b[0m\n\u001b[0m\u001b[1;32m      2\u001b[0m \u001b[0mlabels\u001b[0m \u001b[0;34m=\u001b[0m \u001b[0;34m(\u001b[0m\u001b[0;34m\"Slater\"\u001b[0m\u001b[0;34m,\u001b[0m\u001b[0;34m\"Neural Jastrow\"\u001b[0m\u001b[0;34m,\u001b[0m\u001b[0;34m\"Attention\"\u001b[0m\u001b[0;34m)\u001b[0m\u001b[0;34m\u001b[0m\u001b[0;34m\u001b[0m\u001b[0m\n\u001b[1;32m      3\u001b[0m \u001b[0;34m\u001b[0m\u001b[0m\n\u001b[1;32m      4\u001b[0m \u001b[0;32mfor\u001b[0m \u001b[0mdata\u001b[0m\u001b[0;34m,\u001b[0m \u001b[0mlabel\u001b[0m \u001b[0;32min\u001b[0m \u001b[0mzip\u001b[0m\u001b[0;34m(\u001b[0m\u001b[0mlogged_data\u001b[0m\u001b[0;34m,\u001b[0m\u001b[0mlabels\u001b[0m\u001b[0;34m)\u001b[0m\u001b[0;34m:\u001b[0m\u001b[0;34m\u001b[0m\u001b[0;34m\u001b[0m\u001b[0m\n\u001b[1;32m      5\u001b[0m     \u001b[0mplt\u001b[0m\u001b[0;34m.\u001b[0m\u001b[0merrorbar\u001b[0m\u001b[0;34m(\u001b[0m\u001b[0mdata\u001b[0m\u001b[0;34m[\u001b[0m\u001b[0;34m\"Energy\"\u001b[0m\u001b[0;34m]\u001b[0m\u001b[0;34m.\u001b[0m\u001b[0miters\u001b[0m\u001b[0;34m,\u001b[0m \u001b[0mdata\u001b[0m\u001b[0;34m[\u001b[0m\u001b[0;34m\"Energy\"\u001b[0m\u001b[0;34m]\u001b[0m\u001b[0;34m.\u001b[0m\u001b[0mMean\u001b[0m\u001b[0;34m.\u001b[0m\u001b[0mreal\u001b[0m\u001b[0;34m,\u001b[0m \u001b[0myerr\u001b[0m\u001b[0;34m=\u001b[0m\u001b[0mdata\u001b[0m\u001b[0;34m[\u001b[0m\u001b[0;34m\"Energy\"\u001b[0m\u001b[0;34m]\u001b[0m\u001b[0;34m.\u001b[0m\u001b[0mSigma\u001b[0m\u001b[0;34m,\u001b[0m\u001b[0mlabel\u001b[0m\u001b[0;34m=\u001b[0m\u001b[0mlabel\u001b[0m\u001b[0;34m)\u001b[0m\u001b[0;34m\u001b[0m\u001b[0;34m\u001b[0m\u001b[0m\n",
            "\u001b[0;31mNameError\u001b[0m: name 'slater_log' is not defined"
          ]
        }
      ],
      "source": [
        "logged_data = (slater_log.data, nj_log.data, atten_log.data)\n",
        "labels = (\"Slater\",\"Neural Jastrow\",\"Attention\")\n",
        "\n",
        "for data, label in zip(logged_data,labels):\n",
        "    plt.errorbar(data[\"Energy\"].iters, data[\"Energy\"].Mean.real, yerr=data[\"Energy\"].Sigma,label=label)\n",
        "\n",
        "plt.hlines([E_gs], xmin=0, xmax=300, color='black', label=\"Exact\")\n",
        "\n",
        "plt.xlabel('Iterations')\n",
        "plt.ylabel('Energy')\n",
        "plt.legend()"
      ]
    }
  ],
  "metadata": {
    "accelerator": "GPU",
    "colab": {
      "gpuType": "A100",
      "machine_shape": "hm",
      "provenance": []
    },
    "kernelspec": {
      "display_name": "Python 3",
      "name": "python3"
    },
    "language_info": {
      "codemirror_mode": {
        "name": "ipython",
        "version": 3
      },
      "file_extension": ".py",
      "mimetype": "text/x-python",
      "name": "python",
      "nbconvert_exporter": "python",
      "pygments_lexer": "ipython3",
      "version": "3.12.8"
    },
    "widgets": {
      "application/vnd.jupyter.widget-state+json": {
        "a828cdeaa86246838e3c9c1afaa82919": {
          "model_module": "@jupyter-widgets/controls",
          "model_name": "HBoxModel",
          "model_module_version": "1.5.0",
          "state": {
            "_dom_classes": [],
            "_model_module": "@jupyter-widgets/controls",
            "_model_module_version": "1.5.0",
            "_model_name": "HBoxModel",
            "_view_count": null,
            "_view_module": "@jupyter-widgets/controls",
            "_view_module_version": "1.5.0",
            "_view_name": "HBoxView",
            "box_style": "",
            "children": [
              "IPY_MODEL_d354deb3971d4c94bb98a75dc5333ebd",
              "IPY_MODEL_9286635bb55445998bc6afa080e5970e",
              "IPY_MODEL_6431260835374c5b81210e60c3ec3112"
            ],
            "layout": "IPY_MODEL_c1a46cddd56244da9baa7c65987ee2f4"
          }
        },
        "d354deb3971d4c94bb98a75dc5333ebd": {
          "model_module": "@jupyter-widgets/controls",
          "model_name": "HTMLModel",
          "model_module_version": "1.5.0",
          "state": {
            "_dom_classes": [],
            "_model_module": "@jupyter-widgets/controls",
            "_model_module_version": "1.5.0",
            "_model_name": "HTMLModel",
            "_view_count": null,
            "_view_module": "@jupyter-widgets/controls",
            "_view_module_version": "1.5.0",
            "_view_name": "HTMLView",
            "description": "",
            "description_tooltip": null,
            "layout": "IPY_MODEL_12b7f08001a648698cf5acba2771039b",
            "placeholder": "​",
            "style": "IPY_MODEL_ae4f18196e364a8e9f28cbb7d4630828",
            "value": "  2%"
          }
        },
        "9286635bb55445998bc6afa080e5970e": {
          "model_module": "@jupyter-widgets/controls",
          "model_name": "FloatProgressModel",
          "model_module_version": "1.5.0",
          "state": {
            "_dom_classes": [],
            "_model_module": "@jupyter-widgets/controls",
            "_model_module_version": "1.5.0",
            "_model_name": "FloatProgressModel",
            "_view_count": null,
            "_view_module": "@jupyter-widgets/controls",
            "_view_module_version": "1.5.0",
            "_view_name": "ProgressView",
            "bar_style": "",
            "description": "",
            "description_tooltip": null,
            "layout": "IPY_MODEL_74a2476c37cc4255ba010d4187ea8cdd",
            "max": 300,
            "min": 0,
            "orientation": "horizontal",
            "style": "IPY_MODEL_7ec1bf9c4efc4d38a9d535bf290f1646",
            "value": 5
          }
        },
        "6431260835374c5b81210e60c3ec3112": {
          "model_module": "@jupyter-widgets/controls",
          "model_name": "HTMLModel",
          "model_module_version": "1.5.0",
          "state": {
            "_dom_classes": [],
            "_model_module": "@jupyter-widgets/controls",
            "_model_module_version": "1.5.0",
            "_model_name": "HTMLModel",
            "_view_count": null,
            "_view_module": "@jupyter-widgets/controls",
            "_view_module_version": "1.5.0",
            "_view_name": "HTMLView",
            "description": "",
            "description_tooltip": null,
            "layout": "IPY_MODEL_5204457bc83f4565a50717cfe71abc7f",
            "placeholder": "​",
            "style": "IPY_MODEL_fbe577950fde4913b42eb6bbe38c6e8b",
            "value": " 5/300 [05:00&lt;4:55:37, 60.13s/it, Energy=76.80+0.00j ± 0.32 [σ²=356.56, R̂=1.0041]]"
          }
        },
        "c1a46cddd56244da9baa7c65987ee2f4": {
          "model_module": "@jupyter-widgets/base",
          "model_name": "LayoutModel",
          "model_module_version": "1.2.0",
          "state": {
            "_model_module": "@jupyter-widgets/base",
            "_model_module_version": "1.2.0",
            "_model_name": "LayoutModel",
            "_view_count": null,
            "_view_module": "@jupyter-widgets/base",
            "_view_module_version": "1.2.0",
            "_view_name": "LayoutView",
            "align_content": null,
            "align_items": null,
            "align_self": null,
            "border": null,
            "bottom": null,
            "display": "inline-flex",
            "flex": null,
            "flex_flow": "row wrap",
            "grid_area": null,
            "grid_auto_columns": null,
            "grid_auto_flow": null,
            "grid_auto_rows": null,
            "grid_column": null,
            "grid_gap": null,
            "grid_row": null,
            "grid_template_areas": null,
            "grid_template_columns": null,
            "grid_template_rows": null,
            "height": null,
            "justify_content": null,
            "justify_items": null,
            "left": null,
            "margin": null,
            "max_height": null,
            "max_width": null,
            "min_height": null,
            "min_width": null,
            "object_fit": null,
            "object_position": null,
            "order": null,
            "overflow": null,
            "overflow_x": null,
            "overflow_y": null,
            "padding": null,
            "right": null,
            "top": null,
            "visibility": null,
            "width": "100%"
          }
        },
        "12b7f08001a648698cf5acba2771039b": {
          "model_module": "@jupyter-widgets/base",
          "model_name": "LayoutModel",
          "model_module_version": "1.2.0",
          "state": {
            "_model_module": "@jupyter-widgets/base",
            "_model_module_version": "1.2.0",
            "_model_name": "LayoutModel",
            "_view_count": null,
            "_view_module": "@jupyter-widgets/base",
            "_view_module_version": "1.2.0",
            "_view_name": "LayoutView",
            "align_content": null,
            "align_items": null,
            "align_self": null,
            "border": null,
            "bottom": null,
            "display": null,
            "flex": null,
            "flex_flow": null,
            "grid_area": null,
            "grid_auto_columns": null,
            "grid_auto_flow": null,
            "grid_auto_rows": null,
            "grid_column": null,
            "grid_gap": null,
            "grid_row": null,
            "grid_template_areas": null,
            "grid_template_columns": null,
            "grid_template_rows": null,
            "height": null,
            "justify_content": null,
            "justify_items": null,
            "left": null,
            "margin": null,
            "max_height": null,
            "max_width": null,
            "min_height": null,
            "min_width": null,
            "object_fit": null,
            "object_position": null,
            "order": null,
            "overflow": null,
            "overflow_x": null,
            "overflow_y": null,
            "padding": null,
            "right": null,
            "top": null,
            "visibility": null,
            "width": null
          }
        },
        "ae4f18196e364a8e9f28cbb7d4630828": {
          "model_module": "@jupyter-widgets/controls",
          "model_name": "DescriptionStyleModel",
          "model_module_version": "1.5.0",
          "state": {
            "_model_module": "@jupyter-widgets/controls",
            "_model_module_version": "1.5.0",
            "_model_name": "DescriptionStyleModel",
            "_view_count": null,
            "_view_module": "@jupyter-widgets/base",
            "_view_module_version": "1.2.0",
            "_view_name": "StyleView",
            "description_width": ""
          }
        },
        "74a2476c37cc4255ba010d4187ea8cdd": {
          "model_module": "@jupyter-widgets/base",
          "model_name": "LayoutModel",
          "model_module_version": "1.2.0",
          "state": {
            "_model_module": "@jupyter-widgets/base",
            "_model_module_version": "1.2.0",
            "_model_name": "LayoutModel",
            "_view_count": null,
            "_view_module": "@jupyter-widgets/base",
            "_view_module_version": "1.2.0",
            "_view_name": "LayoutView",
            "align_content": null,
            "align_items": null,
            "align_self": null,
            "border": null,
            "bottom": null,
            "display": null,
            "flex": "2",
            "flex_flow": null,
            "grid_area": null,
            "grid_auto_columns": null,
            "grid_auto_flow": null,
            "grid_auto_rows": null,
            "grid_column": null,
            "grid_gap": null,
            "grid_row": null,
            "grid_template_areas": null,
            "grid_template_columns": null,
            "grid_template_rows": null,
            "height": null,
            "justify_content": null,
            "justify_items": null,
            "left": null,
            "margin": null,
            "max_height": null,
            "max_width": null,
            "min_height": null,
            "min_width": null,
            "object_fit": null,
            "object_position": null,
            "order": null,
            "overflow": null,
            "overflow_x": null,
            "overflow_y": null,
            "padding": null,
            "right": null,
            "top": null,
            "visibility": null,
            "width": null
          }
        },
        "7ec1bf9c4efc4d38a9d535bf290f1646": {
          "model_module": "@jupyter-widgets/controls",
          "model_name": "ProgressStyleModel",
          "model_module_version": "1.5.0",
          "state": {
            "_model_module": "@jupyter-widgets/controls",
            "_model_module_version": "1.5.0",
            "_model_name": "ProgressStyleModel",
            "_view_count": null,
            "_view_module": "@jupyter-widgets/base",
            "_view_module_version": "1.2.0",
            "_view_name": "StyleView",
            "bar_color": null,
            "description_width": ""
          }
        },
        "5204457bc83f4565a50717cfe71abc7f": {
          "model_module": "@jupyter-widgets/base",
          "model_name": "LayoutModel",
          "model_module_version": "1.2.0",
          "state": {
            "_model_module": "@jupyter-widgets/base",
            "_model_module_version": "1.2.0",
            "_model_name": "LayoutModel",
            "_view_count": null,
            "_view_module": "@jupyter-widgets/base",
            "_view_module_version": "1.2.0",
            "_view_name": "LayoutView",
            "align_content": null,
            "align_items": null,
            "align_self": null,
            "border": null,
            "bottom": null,
            "display": null,
            "flex": null,
            "flex_flow": null,
            "grid_area": null,
            "grid_auto_columns": null,
            "grid_auto_flow": null,
            "grid_auto_rows": null,
            "grid_column": null,
            "grid_gap": null,
            "grid_row": null,
            "grid_template_areas": null,
            "grid_template_columns": null,
            "grid_template_rows": null,
            "height": null,
            "justify_content": null,
            "justify_items": null,
            "left": null,
            "margin": null,
            "max_height": null,
            "max_width": null,
            "min_height": null,
            "min_width": null,
            "object_fit": null,
            "object_position": null,
            "order": null,
            "overflow": null,
            "overflow_x": null,
            "overflow_y": null,
            "padding": null,
            "right": null,
            "top": null,
            "visibility": null,
            "width": null
          }
        },
        "fbe577950fde4913b42eb6bbe38c6e8b": {
          "model_module": "@jupyter-widgets/controls",
          "model_name": "DescriptionStyleModel",
          "model_module_version": "1.5.0",
          "state": {
            "_model_module": "@jupyter-widgets/controls",
            "_model_module_version": "1.5.0",
            "_model_name": "DescriptionStyleModel",
            "_view_count": null,
            "_view_module": "@jupyter-widgets/base",
            "_view_module_version": "1.2.0",
            "_view_name": "StyleView",
            "description_width": ""
          }
        },
        "5105b912f3f740cba4dee96594b9f637": {
          "model_module": "@jupyter-widgets/controls",
          "model_name": "HBoxModel",
          "model_module_version": "1.5.0",
          "state": {
            "_dom_classes": [],
            "_model_module": "@jupyter-widgets/controls",
            "_model_module_version": "1.5.0",
            "_model_name": "HBoxModel",
            "_view_count": null,
            "_view_module": "@jupyter-widgets/controls",
            "_view_module_version": "1.5.0",
            "_view_name": "HBoxView",
            "box_style": "",
            "children": [
              "IPY_MODEL_bf7e498aa4b34599a6b3eccbc8098794",
              "IPY_MODEL_2d1fc1cdd1e44294a9f90675bb813616",
              "IPY_MODEL_aea8c2e106394d54b652e08b53764e2f"
            ],
            "layout": "IPY_MODEL_f6220d08545742f1a34801b134d1c3af"
          }
        },
        "bf7e498aa4b34599a6b3eccbc8098794": {
          "model_module": "@jupyter-widgets/controls",
          "model_name": "HTMLModel",
          "model_module_version": "1.5.0",
          "state": {
            "_dom_classes": [],
            "_model_module": "@jupyter-widgets/controls",
            "_model_module_version": "1.5.0",
            "_model_name": "HTMLModel",
            "_view_count": null,
            "_view_module": "@jupyter-widgets/controls",
            "_view_module_version": "1.5.0",
            "_view_name": "HTMLView",
            "description": "",
            "description_tooltip": null,
            "layout": "IPY_MODEL_23cd2cd601ba42c1821daaa43c62e0a5",
            "placeholder": "​",
            "style": "IPY_MODEL_9ca3ca9223544d7795ce93cd9ff3547c",
            "value": "100%"
          }
        },
        "2d1fc1cdd1e44294a9f90675bb813616": {
          "model_module": "@jupyter-widgets/controls",
          "model_name": "FloatProgressModel",
          "model_module_version": "1.5.0",
          "state": {
            "_dom_classes": [],
            "_model_module": "@jupyter-widgets/controls",
            "_model_module_version": "1.5.0",
            "_model_name": "FloatProgressModel",
            "_view_count": null,
            "_view_module": "@jupyter-widgets/controls",
            "_view_module_version": "1.5.0",
            "_view_name": "ProgressView",
            "bar_style": "success",
            "description": "",
            "description_tooltip": null,
            "layout": "IPY_MODEL_04a1c670aa484a2e81f36a4e473aa632",
            "max": 300,
            "min": 0,
            "orientation": "horizontal",
            "style": "IPY_MODEL_166cce8761f9462c90830f72a195c673",
            "value": 300
          }
        },
        "aea8c2e106394d54b652e08b53764e2f": {
          "model_module": "@jupyter-widgets/controls",
          "model_name": "HTMLModel",
          "model_module_version": "1.5.0",
          "state": {
            "_dom_classes": [],
            "_model_module": "@jupyter-widgets/controls",
            "_model_module_version": "1.5.0",
            "_model_name": "HTMLModel",
            "_view_count": null,
            "_view_module": "@jupyter-widgets/controls",
            "_view_module_version": "1.5.0",
            "_view_name": "HTMLView",
            "description": "",
            "description_tooltip": null,
            "layout": "IPY_MODEL_9ca1bbeb104646cb8f99a8f8c015f147",
            "placeholder": "​",
            "style": "IPY_MODEL_4c5a4bf20a6d47c1b1bde40ddd203642",
            "value": " 300/300 [1:03:46&lt;00:00, 12.84s/it, Energy=-46.883-0.000j ± 0.092 [σ²=29.204, R̂=1.0029]]"
          }
        },
        "f6220d08545742f1a34801b134d1c3af": {
          "model_module": "@jupyter-widgets/base",
          "model_name": "LayoutModel",
          "model_module_version": "1.2.0",
          "state": {
            "_model_module": "@jupyter-widgets/base",
            "_model_module_version": "1.2.0",
            "_model_name": "LayoutModel",
            "_view_count": null,
            "_view_module": "@jupyter-widgets/base",
            "_view_module_version": "1.2.0",
            "_view_name": "LayoutView",
            "align_content": null,
            "align_items": null,
            "align_self": null,
            "border": null,
            "bottom": null,
            "display": "inline-flex",
            "flex": null,
            "flex_flow": "row wrap",
            "grid_area": null,
            "grid_auto_columns": null,
            "grid_auto_flow": null,
            "grid_auto_rows": null,
            "grid_column": null,
            "grid_gap": null,
            "grid_row": null,
            "grid_template_areas": null,
            "grid_template_columns": null,
            "grid_template_rows": null,
            "height": null,
            "justify_content": null,
            "justify_items": null,
            "left": null,
            "margin": null,
            "max_height": null,
            "max_width": null,
            "min_height": null,
            "min_width": null,
            "object_fit": null,
            "object_position": null,
            "order": null,
            "overflow": null,
            "overflow_x": null,
            "overflow_y": null,
            "padding": null,
            "right": null,
            "top": null,
            "visibility": null,
            "width": "100%"
          }
        },
        "23cd2cd601ba42c1821daaa43c62e0a5": {
          "model_module": "@jupyter-widgets/base",
          "model_name": "LayoutModel",
          "model_module_version": "1.2.0",
          "state": {
            "_model_module": "@jupyter-widgets/base",
            "_model_module_version": "1.2.0",
            "_model_name": "LayoutModel",
            "_view_count": null,
            "_view_module": "@jupyter-widgets/base",
            "_view_module_version": "1.2.0",
            "_view_name": "LayoutView",
            "align_content": null,
            "align_items": null,
            "align_self": null,
            "border": null,
            "bottom": null,
            "display": null,
            "flex": null,
            "flex_flow": null,
            "grid_area": null,
            "grid_auto_columns": null,
            "grid_auto_flow": null,
            "grid_auto_rows": null,
            "grid_column": null,
            "grid_gap": null,
            "grid_row": null,
            "grid_template_areas": null,
            "grid_template_columns": null,
            "grid_template_rows": null,
            "height": null,
            "justify_content": null,
            "justify_items": null,
            "left": null,
            "margin": null,
            "max_height": null,
            "max_width": null,
            "min_height": null,
            "min_width": null,
            "object_fit": null,
            "object_position": null,
            "order": null,
            "overflow": null,
            "overflow_x": null,
            "overflow_y": null,
            "padding": null,
            "right": null,
            "top": null,
            "visibility": null,
            "width": null
          }
        },
        "9ca3ca9223544d7795ce93cd9ff3547c": {
          "model_module": "@jupyter-widgets/controls",
          "model_name": "DescriptionStyleModel",
          "model_module_version": "1.5.0",
          "state": {
            "_model_module": "@jupyter-widgets/controls",
            "_model_module_version": "1.5.0",
            "_model_name": "DescriptionStyleModel",
            "_view_count": null,
            "_view_module": "@jupyter-widgets/base",
            "_view_module_version": "1.2.0",
            "_view_name": "StyleView",
            "description_width": ""
          }
        },
        "04a1c670aa484a2e81f36a4e473aa632": {
          "model_module": "@jupyter-widgets/base",
          "model_name": "LayoutModel",
          "model_module_version": "1.2.0",
          "state": {
            "_model_module": "@jupyter-widgets/base",
            "_model_module_version": "1.2.0",
            "_model_name": "LayoutModel",
            "_view_count": null,
            "_view_module": "@jupyter-widgets/base",
            "_view_module_version": "1.2.0",
            "_view_name": "LayoutView",
            "align_content": null,
            "align_items": null,
            "align_self": null,
            "border": null,
            "bottom": null,
            "display": null,
            "flex": "2",
            "flex_flow": null,
            "grid_area": null,
            "grid_auto_columns": null,
            "grid_auto_flow": null,
            "grid_auto_rows": null,
            "grid_column": null,
            "grid_gap": null,
            "grid_row": null,
            "grid_template_areas": null,
            "grid_template_columns": null,
            "grid_template_rows": null,
            "height": null,
            "justify_content": null,
            "justify_items": null,
            "left": null,
            "margin": null,
            "max_height": null,
            "max_width": null,
            "min_height": null,
            "min_width": null,
            "object_fit": null,
            "object_position": null,
            "order": null,
            "overflow": null,
            "overflow_x": null,
            "overflow_y": null,
            "padding": null,
            "right": null,
            "top": null,
            "visibility": null,
            "width": null
          }
        },
        "166cce8761f9462c90830f72a195c673": {
          "model_module": "@jupyter-widgets/controls",
          "model_name": "ProgressStyleModel",
          "model_module_version": "1.5.0",
          "state": {
            "_model_module": "@jupyter-widgets/controls",
            "_model_module_version": "1.5.0",
            "_model_name": "ProgressStyleModel",
            "_view_count": null,
            "_view_module": "@jupyter-widgets/base",
            "_view_module_version": "1.2.0",
            "_view_name": "StyleView",
            "bar_color": null,
            "description_width": ""
          }
        },
        "9ca1bbeb104646cb8f99a8f8c015f147": {
          "model_module": "@jupyter-widgets/base",
          "model_name": "LayoutModel",
          "model_module_version": "1.2.0",
          "state": {
            "_model_module": "@jupyter-widgets/base",
            "_model_module_version": "1.2.0",
            "_model_name": "LayoutModel",
            "_view_count": null,
            "_view_module": "@jupyter-widgets/base",
            "_view_module_version": "1.2.0",
            "_view_name": "LayoutView",
            "align_content": null,
            "align_items": null,
            "align_self": null,
            "border": null,
            "bottom": null,
            "display": null,
            "flex": null,
            "flex_flow": null,
            "grid_area": null,
            "grid_auto_columns": null,
            "grid_auto_flow": null,
            "grid_auto_rows": null,
            "grid_column": null,
            "grid_gap": null,
            "grid_row": null,
            "grid_template_areas": null,
            "grid_template_columns": null,
            "grid_template_rows": null,
            "height": null,
            "justify_content": null,
            "justify_items": null,
            "left": null,
            "margin": null,
            "max_height": null,
            "max_width": null,
            "min_height": null,
            "min_width": null,
            "object_fit": null,
            "object_position": null,
            "order": null,
            "overflow": null,
            "overflow_x": null,
            "overflow_y": null,
            "padding": null,
            "right": null,
            "top": null,
            "visibility": null,
            "width": null
          }
        },
        "4c5a4bf20a6d47c1b1bde40ddd203642": {
          "model_module": "@jupyter-widgets/controls",
          "model_name": "DescriptionStyleModel",
          "model_module_version": "1.5.0",
          "state": {
            "_model_module": "@jupyter-widgets/controls",
            "_model_module_version": "1.5.0",
            "_model_name": "DescriptionStyleModel",
            "_view_count": null,
            "_view_module": "@jupyter-widgets/base",
            "_view_module_version": "1.2.0",
            "_view_name": "StyleView",
            "description_width": ""
          }
        }
      }
    }
  },
  "nbformat": 4,
  "nbformat_minor": 5
}