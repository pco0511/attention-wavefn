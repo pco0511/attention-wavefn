{
 "cells": [
  {
   "cell_type": "markdown",
   "id": "c474f192",
   "metadata": {},
   "source": [
    "# NN-VMC with self-attention wave function ansatz"
   ]
  },
  {
   "cell_type": "code",
   "execution_count": 1,
   "id": "553e3905",
   "metadata": {},
   "outputs": [],
   "source": [
    "import time\n",
    "\n",
    "import tqdm\n",
    "import equinox as eqx\n",
    "import jax\n",
    "\n",
    "# jax.config.update(\"jax_enable_x64\", True)\n",
    "import os\n",
    "os.environ[\"JAX_LOG_COMPILES\"] = \"1\"\n",
    "\n",
    "import jax.numpy as jnp\n",
    "import numpy as np\n",
    "import optax\n",
    "import netket as nk\n",
    "from jaxtyping import Array, PyTree, Float, Complex, PRNGKeyArray\n",
    "\n",
    "import matplotlib.pyplot as plt\n",
    "\n",
    "from models.slaternet import SlaterNet\n",
    "from models.psi_solid import PsiSolid\n",
    "\n",
    "from systems.continuous import moire\n",
    "from utils.samplers.mcmc import metropolis_hastings_sampler\n",
    "\n",
    "\n",
    "key = jax.random.key(42)"
   ]
  },
  {
   "cell_type": "markdown",
   "id": "f4ede37f",
   "metadata": {},
   "source": [
    "\\begin{equation}\n",
    "    H=\\sum_i\\left(-\\frac{1}{2}\\nabla_i^2 + V(\\mathbf r_i)\\right) + \\sum_{i < j}\\frac{1}{|\\mathbf r_i-\\mathbf r_j|}\n",
    "\\end{equation}\n",
    "- Moire potential:\n",
    "\\begin{equation}\n",
    "    V(\\mathbf r) = -2V_0\\sum_{j=0}^2 \\cos(\\mathbf g_j\\cdot\\mathbf r + \\varphi)\n",
    "\\end{equation}\n",
    "Where $\\mathbf g_j=\\frac{4\\pi}{\\sqrt{3}a_M}\\left(\\cos\\frac{2\\pi j}{3},\\sin\\frac{2\\pi j}{3}\\right)$.\n",
    "\n",
    "- Units\n",
    "  - mass: Electron mass, $m_e$\n",
    "  - Length: Effective Bohr radius, $a_0^* = \\epsilon\\dfrac{m_e}{m^*} a_0$\n",
    "  - Energy: Effective Hartree, $\\mathrm{Ha}^* = \\dfrac{1}{\\epsilon^2}\\dfrac{m^*}{m_e}\\mathrm{Ha}$"
   ]
  },
  {
   "cell_type": "markdown",
   "id": "7e28a052",
   "metadata": {},
   "source": [
    "## System paramerters"
   ]
  },
  {
   "cell_type": "code",
   "execution_count": 2,
   "id": "ae253826",
   "metadata": {},
   "outputs": [
    {
     "data": {
      "text/plain": [
       "(0.0393743564807352, 10.623473362015782, 0.7853981633974483)"
      ]
     },
     "execution_count": 2,
     "metadata": {},
     "output_type": "execute_result"
    }
   ],
   "source": [
    "# system parameters\n",
    "a_0 = 5.291_772_105_44e-11 # m\n",
    "m_e = 9.109_383_7139e-31 # kg\n",
    "Ha = 4.359_744_722_2060e-18 # J = kg m^2/s^2\n",
    "meV = 1.60218e-22 # J = kg m^2/s^2\n",
    "nm = 1e-9 # m\n",
    "\n",
    "\n",
    "epsilon = 5\n",
    "# epsilon = 10\n",
    "m_eff = 0.35 * m_e\n",
    "a_B_eff = epsilon * (m_e / m_eff) * a_0\n",
    "Ha_eff = (1 / (epsilon ** 2)) * (m_eff / m_e) * Ha\n",
    "\n",
    "\n",
    "V0 = 15 * meV / Ha_eff\n",
    "a_M = 8.031 * nm / a_B_eff\n",
    "varphi = jnp.pi / 4\n",
    "(V0, a_M, varphi)"
   ]
  },
  {
   "cell_type": "code",
   "execution_count": 3,
   "id": "99438258",
   "metadata": {},
   "outputs": [],
   "source": [
    "primitive_latt_vects = a_M * jnp.array([\n",
    "    [jnp.cos(-jnp.pi / 2), jnp.sin(-jnp.pi / 2)],\n",
    "    [jnp.cos(jnp.pi / 6), jnp.sin(jnp.pi / 6)]\n",
    "]) # [a_0, a_1]\n",
    "\n",
    "primitive_recip_latt_vects = ((4 * jnp.pi) / (jnp.sqrt(3) * a_M)) * jnp.array([\n",
    "    [jnp.cos(-jnp.pi / 3), jnp.sin(-jnp.pi / 3)],\n",
    "    [jnp.cos(0), jnp.sin(0)]\n",
    "]) # [b_0, b_1]\n",
    "# a_i \\cdot b_j = 2 \\pi \\delta_{ij}\n",
    "\n",
    "(min1, max1) = (-2, 2)\n",
    "(min2, max2) = (-2, 2)\n",
    "\n",
    "(minu, maxu) = (min1 + 1/2, max1 + 1/2)\n",
    "(minv, maxv) = (min2 + 1/2, max2 + 1/2)\n",
    "\n",
    "N_elec = 16\n",
    "\n",
    "# parametrization:\n",
    "u, v = 0.1234, 1.1245\n",
    "R = u * primitive_latt_vects[0] + v * primitive_latt_vects[1]\n",
    "def indicator(x):\n",
    "    u = jnp.dot(primitive_recip_latt_vects[0], x) / (2 * jnp.pi)\n",
    "    v = jnp.dot(primitive_recip_latt_vects[1], x) / (2 * jnp.pi)\n",
    "    return (minu <= u) & (u <= maxu) & (minv <= v) & (v <= maxv)\n",
    "\n",
    "@jax.jit\n",
    "def N_dim_indicator(R):\n",
    "    projs = R @ primitive_recip_latt_vects.T        # (N, 2)\n",
    "    uv    = projs / (2 * jnp.pi)                    # (N, 2)\n",
    "\n",
    "    mask = (\n",
    "        (minu <= uv[:, 0]) & (uv[:, 0] <= maxu) &\n",
    "        (minv <= uv[:, 1]) & (uv[:, 1] <= maxv)\n",
    "    )\n",
    "    return jnp.all(mask)\n",
    "\n",
    "# super cell: L_x := (max1 - min1) by L_y := (max2 - min2) cell, L_x L_y atoms)\n",
    "from math import ceil\n",
    "Nx = ceil(max1 - min1)\n",
    "Ny = ceil(max2 - min2)\n",
    "G = jnp.stack([\n",
    "    primitive_recip_latt_vects[0] / Nx,\n",
    "    primitive_recip_latt_vects[1] / Ny,\n",
    "])"
   ]
  },
  {
   "cell_type": "markdown",
   "id": "8a62dcdf",
   "metadata": {},
   "source": [
    "## Initializing Models"
   ]
  },
  {
   "cell_type": "code",
   "execution_count": 4,
   "id": "66759e73",
   "metadata": {},
   "outputs": [],
   "source": [
    "subkey, key = jax.random.split(key)\n",
    "\n",
    "slater_log_psi = SlaterNet(\n",
    "    num_particle=N_elec, \n",
    "    recip_latt_vecs=G, \n",
    "    hidden_dim=64,\n",
    "    mlp_depth=8,\n",
    "    key=subkey,\n",
    ")"
   ]
  },
  {
   "cell_type": "code",
   "execution_count": 5,
   "id": "349d0948",
   "metadata": {},
   "outputs": [],
   "source": [
    "subkey, key = jax.random.split(key)\n",
    "\n",
    "psi_solid_log_psi = PsiSolid(\n",
    "    num_particle=N_elec, \n",
    "    recip_latt_vecs=G, \n",
    "    hidden_dim=64,\n",
    "    intermediate_dim=64,\n",
    "    attention_dim=16,\n",
    "    num_heads=6,\n",
    "    num_blocks=3, \n",
    "    num_mlp_layers=2,\n",
    "    num_det=4,\n",
    "    key=subkey,\n",
    ")"
   ]
  },
  {
   "cell_type": "markdown",
   "id": "c272332f",
   "metadata": {},
   "source": [
    "## Samplers"
   ]
  },
  {
   "cell_type": "code",
   "execution_count": 6,
   "id": "8886f8b1",
   "metadata": {},
   "outputs": [],
   "source": [
    "n_chains = 512\n",
    "n_batchs = 4069\n",
    "# n_batchs = 16384\n",
    "# n_batchs = 65536"
   ]
  },
  {
   "cell_type": "code",
   "execution_count": 7,
   "id": "fc4c5d19",
   "metadata": {},
   "outputs": [
    {
     "data": {
      "text/plain": [
       "(Array(-91.0450159+0.6905001j, dtype=complex128),\n",
       " Array(-85.93395108+0.64159083j, dtype=complex128))"
      ]
     },
     "execution_count": 7,
     "metadata": {},
     "output_type": "execute_result"
    }
   ],
   "source": [
    "subkey, key = jax.random.split(key)\n",
    "R0 = jax.random.normal(subkey, (N_elec, 2))\n",
    "slater_log_psi(R0), psi_solid_log_psi(R0)"
   ]
  },
  {
   "cell_type": "code",
   "execution_count": 8,
   "id": "c51f28e5",
   "metadata": {},
   "outputs": [
    {
     "name": "stdout",
     "output_type": "stream",
     "text": [
      "elapsed time: 64.86 s\n",
      "acceptance rate = 44.24 %\n",
      "(16384, 16, 2)\n"
     ]
    },
    {
     "data": {
      "image/png": "[encoded data removed]",
      "text/plain": [
       "<Figure size 600x500 with 2 Axes>"
      ]
     },
     "metadata": {},
     "output_type": "display_data"
    }
   ],
   "source": [
    "u_key, v_key, key = jax.random.split(key, 3)\n",
    "\n",
    "u = jax.random.uniform(u_key, (n_chains, N_elec,), minval=minu, maxval=maxu)\n",
    "v = jax.random.uniform(v_key, (n_chains, N_elec,), minval=minv, maxval=maxv)\n",
    "uv = jnp.stack([u, v], axis=-1)\n",
    "\n",
    "X0 = jnp.einsum(\"cni,id->cnd\", uv, primitive_latt_vects)\n",
    "\n",
    "subkey, key = jax.random.split(key)\n",
    "\n",
    "start = time.time()\n",
    "samples, acc_rate, mcmc_state = metropolis_hastings_sampler(\n",
    "    key=subkey,\n",
    "    initial_points=X0,\n",
    "    log_psi_module=psi_solid_log_psi,\n",
    "    indicator_fn=N_dim_indicator,\n",
    "    n_target_samples=16384,\n",
    "    n_chains=n_chains,\n",
    "    n_burn_in_per_chain=512,\n",
    "    thinning=4,\n",
    "    sigma=0.5\n",
    ")\n",
    "samples.block_until_ready()\n",
    "elapsed = time.time() - start\n",
    "print(f\"elapsed time: {elapsed:.2f} s\")\n",
    "\n",
    "X0 = mcmc_state.points\n",
    "print(f\"acceptance rate = {acc_rate.item() * 100:.2f} %\")\n",
    "print(f\"{samples.shape}\")\n",
    "\n",
    "points = samples.reshape(-1, 2)\n",
    "\n",
    "plt.figure(figsize=(6, 5))\n",
    "plt.hist2d(\n",
    "    points[:, 0],   # x 축\n",
    "    points[:, 1],   # y 축\n",
    "    bins=200,             # 격자 수(원하는 해상도로 조정)\n",
    "    density=False         # 빈도수 그대로 볼 때 False, 확률밀도로 보려면 True\n",
    ")\n",
    "plt.colorbar(label='count')  # 각 칸의 샘플 개수 표시\n",
    "plt.xlabel('x')\n",
    "plt.ylabel('y')\n",
    "plt.title('2-D Histogram of Samples')\n",
    "plt.tight_layout()\n",
    "plt.axis('equal')\n",
    "plt.show()"
   ]
  },
  {
   "cell_type": "markdown",
   "id": "102f1602",
   "metadata": {},
   "source": [
    "## Train loop"
   ]
  },
  {
   "cell_type": "code",
   "execution_count": 9,
   "id": "71b9f2c2",
   "metadata": {},
   "outputs": [],
   "source": [
    "from jax.profiler import TraceAnnotation\n",
    "\n",
    "def train(\n",
    "    log_psi_fn: eqx.Module,\n",
    "    optim: optax.GradientTransformation,\n",
    "    X0: Float[Array, \"n_chn n_par spc_dim\"],\n",
    "    steps: int,\n",
    "    batch_size: int,\n",
    "    n_chains: int,\n",
    "    thinning: int,\n",
    "    in_step_burnin: int,\n",
    "    prop_sigma: float,\n",
    "    key: PRNGKeyArray\n",
    "):\n",
    "    opt_state = optim.init(eqx.filter(log_psi_fn, eqx.is_array))\n",
    "\n",
    "    energies = np.zeros(steps)\n",
    "    gradnorms = np.zeros(steps)\n",
    "    acceptance_rates = np.zeros(steps)\n",
    "    \n",
    "    @eqx.filter_jit\n",
    "    def make_step(\n",
    "        log_psi_fn: eqx.Module,\n",
    "        opt_state: PyTree,\n",
    "        samples: Float[Array, \"b n_par spc_dim\"],\n",
    "    ):\n",
    "        # local energy\n",
    "        E_locs = jax.vmap(moire.local_energy,\n",
    "                          in_axes=(None, 0, None, None, None))(\n",
    "            log_psi_fn, samples, V0, a_M, varphi\n",
    "        ) # (batch,)\n",
    "        \n",
    "        # grad_log_psi_square\n",
    "        def grad_log_psi_conj(log_psi_fn, x):\n",
    "            trainables, statics = eqx.partition(log_psi_fn, eqx.is_inexact_array)\n",
    "            def f(trainables, x):\n",
    "                _log_psi_fn = eqx.combine(trainables, statics)\n",
    "                return _log_psi_fn(x).conj()\n",
    "            return nk.jax.grad(f)(trainables, x)\n",
    "        \n",
    "        grad_log_psi_conjs = jax.vmap(grad_log_psi_conj, in_axes=(None, 0))(log_psi_fn, samples)\n",
    "        \n",
    "        # batch mean\n",
    "        E_mean = jnp.mean(E_locs)\n",
    "        grad_log_psi_conjs_mean = jax.tree_util.tree_map(lambda g: jnp.mean(g, axis=0), grad_log_psi_conjs)\n",
    "        \n",
    "        # covariance\n",
    "        def vmc_cov(g, g_mean):\n",
    "            centered_g = g - g_mean\n",
    "            return 2 * jnp.real(jnp.einsum('b,b...->...', centered_E, centered_g) / batch_size)\n",
    "        \n",
    "        centered_E = E_locs - E_mean\n",
    "        grads = jax.tree_util.tree_map(vmc_cov, grad_log_psi_conjs, grad_log_psi_conjs_mean)\n",
    "        \n",
    "        updates, opt_state = optim.update(\n",
    "            eqx.filter(grads, eqx.is_array), opt_state, eqx.filter(log_psi_fn, eqx.is_array)\n",
    "        )\n",
    "        log_psi_fn = eqx.apply_updates(log_psi_fn, updates)\n",
    "        \n",
    "        grad_norm = jnp.sqrt(sum(jnp.sum(jnp.square(g)) for g in jax.tree_util.tree_leaves(grads)))\n",
    "        return log_psi_fn, opt_state, jnp.real(E_mean), grad_norm\n",
    "    \n",
    "    pbar = tqdm.trange(steps, desc=\"training\", unit=\"step\")\n",
    "    for step in pbar:\n",
    "        key, subkey = jax.random.split(key)\n",
    "        \n",
    "        # MCMC sampling\n",
    "        start = time.time()\n",
    "        samples, acc_rate, state = metropolis_hastings_sampler(\n",
    "            key=subkey,\n",
    "            initial_points=X0,\n",
    "            log_psi_module=psi_solid_log_psi,\n",
    "            indicator_fn=N_dim_indicator,\n",
    "            n_target_samples=batch_size,\n",
    "            n_chains=n_chains,\n",
    "            n_burn_in_per_chain=in_step_burnin,\n",
    "            thinning=thinning,\n",
    "            sigma=prop_sigma\n",
    "        )\n",
    "        X0 = state.points\n",
    "        elapsed = time.time() - start\n",
    "        print(f\"MCMC: {elapsed:.4f} sec, acceptance rate: {acc_rate.item() * 100:.2f} %\")\n",
    "        \n",
    "        start = time.time()\n",
    "        log_psi_fn, opt_state, energy, grad_norm = make_step(log_psi_fn, opt_state, samples)\n",
    "        elapsed = time.time() - start\n",
    "        print(f\"grad eval & update: {elapsed:.4f} sec\")\n",
    "        \n",
    "        energies[step] = float(energy)\n",
    "        gradnorms[step] = float(grad_norm)\n",
    "        acceptance_rates[step] = float(acc_rate)\n",
    "        \n",
    "        pbar.set_postfix(energy=float(energy), gradnorm=float(grad_norm), mh_acc=float(acc_rate))\n",
    "    \n",
    "    return log_psi_fn, energies, gradnorms, acceptance_rates"
   ]
  },
  {
   "cell_type": "code",
   "execution_count": 10,
   "id": "b56981cb",
   "metadata": {},
   "outputs": [
    {
     "data": {
      "text/plain": [
       "(106744, 35588)"
      ]
     },
     "execution_count": 10,
     "metadata": {},
     "output_type": "execute_result"
    }
   ],
   "source": [
    "def count_parameters(model):\n",
    "    leaves = jax.tree.leaves(model)\n",
    "    return sum(x.size for x in leaves if isinstance(x, jnp.ndarray))\n",
    "\n",
    "count_parameters(psi_solid_log_psi), count_parameters(slater_log_psi)"
   ]
  },
  {
   "cell_type": "code",
   "execution_count": null,
   "id": "45faa699",
   "metadata": {},
   "outputs": [
    {
     "name": "stdout",
     "output_type": "stream",
     "text": [
      "burnin_compete: 5.95 s\n"
     ]
    },
    {
     "name": "stderr",
     "output_type": "stream",
     "text": [
      "training:   0%|          | 0/20 [00:00<?, ?step/s]"
     ]
    },
    {
     "name": "stdout",
     "output_type": "stream",
     "text": [
      "MCMC: 2.3809 sec, acceptance rate: 45.31 %\n"
     ]
    },
    {
     "name": "stderr",
     "output_type": "stream",
     "text": [
      "training:   5%|▌         | 1/20 [00:19<06:11, 19.56s/step, energy=4.87, gradnorm=5.47e+3, mh_acc=0.453]"
     ]
    },
    {
     "name": "stdout",
     "output_type": "stream",
     "text": [
      "grad eval & update: 17.1764 sec\n",
      "MCMC: 0.7007 sec, acceptance rate: 42.68 %\n"
     ]
    },
    {
     "name": "stderr",
     "output_type": "stream",
     "text": [
      "training:  10%|█         | 2/20 [00:32<04:36, 15.38s/step, energy=5.28, gradnorm=3.25e+3, mh_acc=0.427]"
     ]
    },
    {
     "name": "stdout",
     "output_type": "stream",
     "text": [
      "grad eval & update: 11.7545 sec\n",
      "MCMC: 0.6972 sec, acceptance rate: 45.90 %\n"
     ]
    },
    {
     "name": "stderr",
     "output_type": "stream",
     "text": [
      "training:  15%|█▌        | 3/20 [00:48<04:30, 15.92s/step, energy=1.55, gradnorm=3.93e+4, mh_acc=0.459]"
     ]
    },
    {
     "name": "stdout",
     "output_type": "stream",
     "text": [
      "grad eval & update: 15.8513 sec\n",
      "MCMC: 0.7210 sec, acceptance rate: 46.88 %\n"
     ]
    }
   ],
   "source": [
    "n_batches = 1024\n",
    "n_chains = 64\n",
    "n_steps = 20 # 1536\n",
    "start_learning_rate = 1e-4\n",
    "optim = optax.adam(start_learning_rate)\n",
    "log_psi_module = slater_log_psi\n",
    "\n",
    "\n",
    "# params for mcmc\n",
    "thinning = 3\n",
    "in_step_burnin = 4\n",
    "prop_sigma = 0.5\n",
    "\n",
    "# burnin\n",
    "u_key, v_key, key = jax.random.split(key, 3)\n",
    "\n",
    "u = jax.random.uniform(u_key, (n_chains, N_elec,), minval=minu, maxval=maxu)\n",
    "v = jax.random.uniform(v_key, (n_chains, N_elec,), minval=minv, maxval=maxv)\n",
    "uv = jnp.stack([u, v], axis=-1)\n",
    "\n",
    "X0 = jnp.einsum(\"cni,id->cnd\", uv, primitive_latt_vects)\n",
    "\n",
    "subkey, key = jax.random.split(key)\n",
    "\n",
    "start = time.time()\n",
    "samples, acc_rate, mcmc_state = metropolis_hastings_sampler(\n",
    "    key=subkey,\n",
    "    initial_points=X0,\n",
    "    log_psi_module=log_psi_module,\n",
    "    indicator_fn=N_dim_indicator,\n",
    "    n_target_samples=n_chains,\n",
    "    n_chains=n_chains,\n",
    "    n_burn_in_per_chain=1024,\n",
    "    thinning=0,\n",
    "    sigma=0.5\n",
    ")\n",
    "X0 = mcmc_state.points\n",
    "X0.block_until_ready()\n",
    "elapsed = time.time() - start\n",
    "print(f\"burnin_compete: {elapsed:.2f} s\")\n",
    "\n",
    "\n",
    "\n",
    "key, subkey = jax.random.split(key, 2)\n",
    "\n",
    "wave_fn, energies, gradnorms, acceptance_rates = train(\n",
    "    log_psi_module, optim, X0, n_steps, n_batches, \n",
    "    n_chains, thinning, in_step_burnin, prop_sigma,\n",
    "    subkey\n",
    ")"
   ]
  },
  {
   "cell_type": "code",
   "execution_count": null,
   "id": "0b02f7c7",
   "metadata": {},
   "outputs": [],
   "source": [
    "plt.plot(energies)\n",
    "plt.show()"
   ]
  },
  {
   "cell_type": "code",
   "execution_count": null,
   "id": "e435b4e5",
   "metadata": {},
   "outputs": [],
   "source": [
    "print(*energies)"
   ]
  }
 ],
 "metadata": {
  "kernelspec": {
   "display_name": "atten-wfn",
   "language": "python",
   "name": "python3"
  },
  "language_info": {
   "codemirror_mode": {
    "name": "ipython",
    "version": 3
   },
   "file_extension": ".py",
   "mimetype": "text/x-python",
   "name": "python",
   "nbconvert_exporter": "python",
   "pygments_lexer": "ipython3",
   "version": "3.12.9"
  }
 },
 "nbformat": 4,
 "nbformat_minor": 5
}
