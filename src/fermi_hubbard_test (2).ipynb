{
  "cells": [
    {
      "cell_type": "code",
      "execution_count": 1,
      "id": "13eoUOpvEOKH",
      "metadata": {
        "colab": {
          "base_uri": "https://localhost:8080/"
        },
        "id": "13eoUOpvEOKH",
        "outputId": "a461f38e-7ac2-4a55-b5b9-9ca79cd895f3"
      },
      "outputs": [
        {
          "name": "stdout",
          "output_type": "stream",
          "text": [
            "Requirement already satisfied: netket in /usr/local/lib/python3.11/dist-packages (3.17.1)\n",
            "Requirement already satisfied: equinox>=0.11.3 in /usr/local/lib/python3.11/dist-packages (from netket) (0.12.2)\n",
            "Requirement already satisfied: flax>=0.10.2 in /usr/local/lib/python3.11/dist-packages (from netket) (0.10.6)\n",
            "Requirement already satisfied: igraph>=0.10.0 in /usr/local/lib/python3.11/dist-packages (from netket) (0.11.8)\n",
            "Requirement already satisfied: jax<0.6,>=0.3.37 in /usr/local/lib/python3.11/dist-packages (from netket) (0.5.2)\n",
            "Requirement already satisfied: numba>=0.59 in /usr/local/lib/python3.11/dist-packages (from netket) (0.60.0)\n",
            "Requirement already satisfied: numpy<3.0,>=1.20 in /usr/local/lib/python3.11/dist-packages (from netket) (2.0.2)\n",
            "Requirement already satisfied: optax<0.3,>=0.2.2 in /usr/local/lib/python3.11/dist-packages (from netket) (0.2.4)\n",
            "Requirement already satisfied: orjson<4,>=3.4 in /usr/local/lib/python3.11/dist-packages (from netket) (3.10.18)\n",
            "Requirement already satisfied: plum-dispatch>=2.4 in /usr/local/lib/python3.11/dist-packages (from netket) (2.5.7)\n",
            "Requirement already satisfied: rich>=12.0 in /usr/local/lib/python3.11/dist-packages (from netket) (13.9.4)\n",
            "Requirement already satisfied: scipy<2,>=1.5.3 in /usr/local/lib/python3.11/dist-packages (from netket) (1.15.3)\n",
            "Requirement already satisfied: tqdm<5,>=4.60 in /usr/local/lib/python3.11/dist-packages (from netket) (4.67.1)\n",
            "Requirement already satisfied: jaxtyping>=0.2.20 in /usr/local/lib/python3.11/dist-packages (from equinox>=0.11.3->netket) (0.3.2)\n",
            "Requirement already satisfied: typing-extensions>=4.5.0 in /usr/local/lib/python3.11/dist-packages (from equinox>=0.11.3->netket) (4.13.2)\n",
            "Requirement already satisfied: wadler-lindig>=0.1.0 in /usr/local/lib/python3.11/dist-packages (from equinox>=0.11.3->netket) (0.1.6)\n",
            "Requirement already satisfied: msgpack in /usr/local/lib/python3.11/dist-packages (from flax>=0.10.2->netket) (1.1.0)\n",
            "Requirement already satisfied: orbax-checkpoint in /usr/local/lib/python3.11/dist-packages (from flax>=0.10.2->netket) (0.11.13)\n",
            "Requirement already satisfied: tensorstore in /usr/local/lib/python3.11/dist-packages (from flax>=0.10.2->netket) (0.1.74)\n",
            "Requirement already satisfied: PyYAML>=5.4.1 in /usr/local/lib/python3.11/dist-packages (from flax>=0.10.2->netket) (6.0.2)\n",
            "Requirement already satisfied: treescope>=0.1.7 in /usr/local/lib/python3.11/dist-packages (from flax>=0.10.2->netket) (0.1.9)\n",
            "Requirement already satisfied: texttable>=1.6.2 in /usr/local/lib/python3.11/dist-packages (from igraph>=0.10.0->netket) (1.7.0)\n",
            "Requirement already satisfied: jaxlib<=0.5.2,>=0.5.1 in /usr/local/lib/python3.11/dist-packages (from jax<0.6,>=0.3.37->netket) (0.5.1)\n",
            "Requirement already satisfied: ml_dtypes>=0.4.0 in /usr/local/lib/python3.11/dist-packages (from jax<0.6,>=0.3.37->netket) (0.4.1)\n",
            "Requirement already satisfied: opt_einsum in /usr/local/lib/python3.11/dist-packages (from jax<0.6,>=0.3.37->netket) (3.4.0)\n",
            "Requirement already satisfied: llvmlite<0.44,>=0.43.0dev0 in /usr/local/lib/python3.11/dist-packages (from numba>=0.59->netket) (0.43.0)\n",
            "Requirement already satisfied: absl-py>=0.7.1 in /usr/local/lib/python3.11/dist-packages (from optax<0.3,>=0.2.2->netket) (1.4.0)\n",
            "Requirement already satisfied: chex>=0.1.87 in /usr/local/lib/python3.11/dist-packages (from optax<0.3,>=0.2.2->netket) (0.1.89)\n",
            "Requirement already satisfied: etils[epy] in /usr/local/lib/python3.11/dist-packages (from optax<0.3,>=0.2.2->netket) (1.12.2)\n",
            "Requirement already satisfied: beartype>=0.16.2 in /usr/local/lib/python3.11/dist-packages (from plum-dispatch>=2.4->netket) (0.21.0)\n",
            "Requirement already satisfied: markdown-it-py>=2.2.0 in /usr/local/lib/python3.11/dist-packages (from rich>=12.0->netket) (3.0.0)\n",
            "Requirement already satisfied: pygments<3.0.0,>=2.13.0 in /usr/local/lib/python3.11/dist-packages (from rich>=12.0->netket) (2.19.1)\n",
            "Requirement already satisfied: toolz>=0.9.0 in /usr/local/lib/python3.11/dist-packages (from chex>=0.1.87->optax<0.3,>=0.2.2->netket) (0.12.1)\n",
            "Requirement already satisfied: mdurl~=0.1 in /usr/local/lib/python3.11/dist-packages (from markdown-it-py>=2.2.0->rich>=12.0->netket) (0.1.2)\n",
            "Requirement already satisfied: nest_asyncio in /usr/local/lib/python3.11/dist-packages (from orbax-checkpoint->flax>=0.10.2->netket) (1.6.0)\n",
            "Requirement already satisfied: protobuf in /usr/local/lib/python3.11/dist-packages (from orbax-checkpoint->flax>=0.10.2->netket) (5.29.4)\n",
            "Requirement already satisfied: humanize in /usr/local/lib/python3.11/dist-packages (from orbax-checkpoint->flax>=0.10.2->netket) (4.12.3)\n",
            "Requirement already satisfied: simplejson>=3.16.0 in /usr/local/lib/python3.11/dist-packages (from orbax-checkpoint->flax>=0.10.2->netket) (3.20.1)\n",
            "Requirement already satisfied: fsspec in /usr/local/lib/python3.11/dist-packages (from etils[epy]->optax<0.3,>=0.2.2->netket) (2025.3.2)\n",
            "Requirement already satisfied: importlib_resources in /usr/local/lib/python3.11/dist-packages (from etils[epy]->optax<0.3,>=0.2.2->netket) (6.5.2)\n",
            "Requirement already satisfied: zipp in /usr/local/lib/python3.11/dist-packages (from etils[epy]->optax<0.3,>=0.2.2->netket) (3.21.0)\n"
          ]
        }
      ],
      "source": [
        "!pip install netket"
      ]
    },
    {
      "cell_type": "code",
      "execution_count": 2,
      "id": "c23ac303",
      "metadata": {
        "id": "c23ac303"
      },
      "outputs": [],
      "source": [
        "import functools\n",
        "from typing import Callable\n",
        "\n",
        "import tqdm\n",
        "import equinox as eqx\n",
        "import jax\n",
        "\n",
        "jax.config.update(\"jax_enable_x64\", True)\n",
        "\n",
        "import jax.numpy as jnp\n",
        "import numpy as np\n",
        "import optax\n",
        "from jaxtyping import Array, PyTree, Int, Float, Complex, PRNGKeyArray\n",
        "\n",
        "import netket as nk\n",
        "from netket.operator import FermionOperator2ndJax\n",
        "from netket.operator.fermion import destroy as c\n",
        "from netket.operator.fermion import create as cdag\n",
        "from netket.operator.fermion import number as nc\n",
        "\n",
        "from netket.experimental.driver import VMC_SRt\n",
        "from netket.jax import logdet_cmplx\n",
        "\n",
        "import matplotlib.pyplot as plt\n",
        "\n",
        "key = jax.random.key(42)"
      ]
    },
    {
      "cell_type": "markdown",
      "id": "eec4be51",
      "metadata": {
        "id": "eec4be51"
      },
      "source": [
        "## Construct Hilbert spaces and Hamiltonian operator\n",
        "- Hilbertspace\n",
        "\\begin{equation}\n",
        "    \\mathcal H = \\operatorname{span}\\{\\ket{n}:n \\in \\mathcal L(L_x, L_y, ...)\\},\\quad F_{-} (\\mathcal H) = \\bigoplus_{n=0}^\\infty S_{-}\\mathcal H^{\\otimes n}\n",
        "\\end{equation}\n",
        "Where $\\mathcal L(L_x, L_y, ...)$ is square lattice with lengths $L_x, L_y, ...$.\n",
        "\n",
        "\n",
        "- Hamiltonian operator\n",
        "\\begin{equation}\n",
        "    H=-t\\sum_{\\braket{\\mathbf r, \\mathbf r'}, \\sigma} [c_{\\sigma}^\\dagger(\\mathbf r')c_{\\sigma}(\\mathbf r) + c_{\\sigma}^\\dagger(\\mathbf r)c_{\\sigma}(\\mathbf r')] + U\\sum_{\\mathbf r} n_\\uparrow (\\mathbf r) n_\\downarrow (\\mathbf r)\n",
        "\\end{equation}\n"
      ]
    },
    {
      "cell_type": "code",
      "execution_count": 3,
      "id": "c0fb28ec",
      "metadata": {
        "colab": {
          "base_uri": "https://localhost:8080/",
          "height": 491
        },
        "id": "c0fb28ec",
        "outputId": "96219ccf-e708-45f2-a9bc-b84b6c105a27"
      },
      "outputs": [
        {
          "data": {
            "image/png": "[encoded data removed]",
            "text/plain": [
              "<Figure size 640x480 with 1 Axes>"
            ]
          },
          "metadata": {},
          "output_type": "display_data"
        },
        {
          "data": {
            "text/plain": [
              "<Axes: title={'center': '1D Lattice (Distance Order: 1)'}, xlabel='X'>"
            ]
          },
          "execution_count": 3,
          "metadata": {},
          "output_type": "execute_result"
        }
      ],
      "source": [
        "def construct_system(t: float, U: float, N: int, L: list[int], pbc=True) -> tuple[nk.hilbert.SpinOrbitalFermions, FermionOperator2ndJax]:\n",
        "    hi = nk.hilbert.SpinOrbitalFermions(N, s=1/2, n_fermions=N)\n",
        "    H = FermionOperator2ndJax(hi)\n",
        "\n",
        "    graph = nk.graph.Grid(L, pbc=pbc)\n",
        "    for (r1, r2) in graph.edges():\n",
        "        for s in [-1, 1]:\n",
        "            H += -t * (cdag(hi, r1, s) * c(hi, r2, s) + cdag(hi, r2, s) * c(hi, r1, s))\n",
        "\n",
        "    for r in graph.nodes():\n",
        "        H += U * nc(hi, r, -1) * nc(hi, r, 1)\n",
        "\n",
        "    return hi, H\n",
        "\n",
        "t = 1.0\n",
        "U = 4.0\n",
        "N = 6\n",
        "L = [12,]\n",
        "PBC = True\n",
        "\n",
        "graph = nk.graph.Grid(L, pbc=PBC)\n",
        "graph_extended = nk.graph.disjoint_union(graph, graph)\n",
        "\n",
        "graph.draw()"
      ]
    },
    {
      "cell_type": "code",
      "execution_count": 4,
      "id": "bb5f038f",
      "metadata": {
        "id": "bb5f038f"
      },
      "outputs": [],
      "source": [
        "hi = nk.hilbert.SpinOrbitalFermions(graph.n_nodes, s=1/2, n_fermions=N)\n",
        "\n",
        "H = FermionOperator2ndJax(hi)\n",
        "for (r1, r2) in graph.edges():\n",
        "    for s in [-1, 1]:\n",
        "        H += -t * (cdag(hi, r1, s) * c(hi, r2, s) + cdag(hi, r2, s) * c(hi, r1, s))\n",
        "\n",
        "for r in graph.nodes():\n",
        "    H += U * nc(hi, r, -1) * nc(hi, r, 1)"
      ]
    },
    {
      "cell_type": "markdown",
      "id": "c1098c44",
      "metadata": {
        "id": "c1098c44"
      },
      "source": [
        "## Exact Diagonalization\n",
        "\n",
        "As a reference"
      ]
    },
    {
      "cell_type": "code",
      "execution_count": 5,
      "id": "d359ba94",
      "metadata": {
        "id": "d359ba94"
      },
      "outputs": [],
      "source": [
        "sp_h = H.to_numba_operator().to_sparse()"
      ]
    },
    {
      "cell_type": "code",
      "execution_count": 6,
      "id": "25437948",
      "metadata": {
        "colab": {
          "base_uri": "https://localhost:8080/"
        },
        "id": "25437948",
        "outputId": "330b27d6-953a-4ff4-999f-de6745744dee"
      },
      "outputs": [
        {
          "name": "stdout",
          "output_type": "stream",
          "text": [
            "Exact ground state energy: -9.215629746564835\n"
          ]
        }
      ],
      "source": [
        "from scipy.sparse.linalg import eigsh\n",
        "\n",
        "eig_vals, eig_vecs = eigsh(sp_h, k=2, which=\"SA\")\n",
        "\n",
        "E_gs = eig_vals[0]\n",
        "\n",
        "print(\"Exact ground state energy:\", E_gs)"
      ]
    },
    {
      "cell_type": "markdown",
      "id": "07c9edaa",
      "metadata": {
        "id": "07c9edaa"
      },
      "source": [
        "## Mean-Field Slater Determinant\n",
        "\n",
        "\\begin{equation}\n",
        "    \\ket{\\Phi_s}=\\prod_{\\alpha=1}^{N_{\\mathrm f}}\\phi_\\alpha^\\dagger\\ket{0}\n",
        "\\end{equation}\n",
        "\n",
        "Where $\\ket{0}$ is the vacuum state and the single-particle orbitals are created by the operators $\\phi_\\alpha^\\dagger$. In turn, these creation operators are, in general, a linear combination of the original creation operators:\n",
        "\\begin{equation}\n",
        "    \\phi_\\alpha^\\dagger =\\sum_{i} M_{\\alpha, i}c_i^\\dagger\n",
        "\\end{equation}\n",
        "The rectangular $(N\\times N_{\\mathrm f})$ matrix $M$ constitutes a set of free variational parameters (Where $N$ is the number of orbitals and $N_{\\mathrm f}$ the number of fermions).\n",
        "\n",
        "It can be shown that the amplitudes of the wave function in the computational basis $\\ket{n_1, ..., n_N}$ are determinants:\n",
        "\\begin{equation}\n",
        "    \\braket{n_1, ..., n_N|\\Phi_{s}} = \\det\\{A(n)\\}\n",
        "\\end{equation}\n",
        "where the $N_{\\mathrm f}\\times N_{\\mathrm f}$ matrix is\n",
        "\\begin{equation}\n",
        "    A(n)_{\\alpha,\\beta} = M_{R_\\alpha(\\mathbf n), \\beta},\n",
        "\\end{equation}\n",
        "where $R_\\alpha(\\mathbf n)$ denotes the index of the $\\alpha$-th occupied site (non-zero $n_i$) in $\\mathbf n=(n_1, ..., n_N)$. This can also be interepted as selecting $N_{\\mathrm f}$ rows of the matrix $M$ in corresponding to the $N_{\\mathrm f}$ occupied orbitals. For more details see Chapter 5 of Reference [1].\n",
        "\n",
        "To write down this variational amplitudes, we start by defining a convenience function to compute the logarithm of the determinant of a matrix, in the complex domain, and using jax:"
      ]
    },
    {
      "cell_type": "code",
      "execution_count": 71,
      "id": "fe84cd78",
      "metadata": {
        "id": "fe84cd78"
      },
      "outputs": [],
      "source": [
        "@jax.jit\n",
        "def nkstate_to_indexseq(\n",
        "    state,\n",
        ") -> jnp.ndarray:\n",
        "    return jnp.nonzero(state, size=hi.n_fermions)\n",
        "\n",
        "def count_parameters(model):\n",
        "    leaves = jax.tree.leaves(model)\n",
        "    return sum(x.size for x in leaves if isinstance(x, jnp.ndarray))\n",
        "\n",
        "class BatchWrapper(eqx.Module):\n",
        "    submodule: eqx.Module\n",
        "\n",
        "    def __init__(self, submodule):\n",
        "        self.submodule = submodule\n",
        "\n",
        "    def __call__(self, batch, **kwargs):\n",
        "        outputs = jax.vmap(self.submodule)(batch)\n",
        "        return outputs"
      ]
    },
    {
      "cell_type": "markdown",
      "id": "c4519e89",
      "metadata": {
        "id": "c4519e89"
      },
      "source": [
        "### Simplest Slater Determinant"
      ]
    },
    {
      "cell_type": "code",
      "execution_count": 8,
      "id": "ee1e57de",
      "metadata": {
        "id": "ee1e57de"
      },
      "outputs": [],
      "source": [
        "class LogSlaterDeterminant(eqx.Module):\n",
        "    embedding: eqx.nn.Embedding\n",
        "\n",
        "    def __init__(\n",
        "        self,\n",
        "        hilbert: nk.hilbert.SpinOrbitalFermions,\n",
        "        *,\n",
        "        key: PRNGKeyArray\n",
        "    ):\n",
        "        self.embedding = eqx.nn.Embedding(hilbert.size, hilbert.n_fermions, key=key)\n",
        "\n",
        "    def __call__(\n",
        "        self,\n",
        "        state: Int[Array, \"hilb_size\"]\n",
        "    ) -> Complex[Array, \"\"]:\n",
        "        indices = nkstate_to_indexseq(state)[0]\n",
        "        A = jax.vmap(self.embedding)(indices)\n",
        "        return logdet_cmplx(A)"
      ]
    },
    {
      "cell_type": "code",
      "execution_count": 72,
      "id": "105cc55e",
      "metadata": {
        "colab": {
          "base_uri": "https://localhost:8080/"
        },
        "id": "105cc55e",
        "outputId": "bb0400dc-0529-4ef7-e290-7967d74b1582"
      },
      "outputs": [
        {
          "data": {
            "text/plain": [
              "144"
            ]
          },
          "execution_count": 72,
          "metadata": {},
          "output_type": "execute_result"
        }
      ],
      "source": [
        "key, subkey = jax.random.split(key)\n",
        "model = LogSlaterDeterminant(hi, key=subkey)\n",
        "ma = BatchWrapper(\n",
        "    model\n",
        ")\n",
        "sa = nk.sampler.MetropolisFermionHop(hi, graph=graph_extended)\n",
        "count_parameters(model)"
      ]
    },
    {
      "cell_type": "code",
      "execution_count": 10,
      "id": "510b6219",
      "metadata": {
        "id": "510b6219"
      },
      "outputs": [],
      "source": [
        "vstate = nk.vqs.MCState(sa, ma, n_samples=2**12, n_discard_per_chain=16)"
      ]
    },
    {
      "cell_type": "code",
      "execution_count": 11,
      "id": "c7d01488",
      "metadata": {
        "colab": {
          "base_uri": "https://localhost:8080/"
        },
        "id": "c7d01488",
        "outputId": "bae4f61a-80db-4c31-e302-7ea243bf38f2"
      },
      "outputs": [
        {
          "data": {
            "text/plain": [
              "(16, 256, 24)"
            ]
          },
          "execution_count": 11,
          "metadata": {},
          "output_type": "execute_result"
        }
      ],
      "source": [
        "vstate.samples.shape"
      ]
    },
    {
      "cell_type": "code",
      "execution_count": 12,
      "id": "e89bdbe9",
      "metadata": {
        "colab": {
          "base_uri": "https://localhost:8080/"
        },
        "id": "e89bdbe9",
        "outputId": "38231bdb-ff06-4d7b-c83f-c17e19d43067"
      },
      "outputs": [
        {
          "data": {
            "text/plain": [
              "Array([0, 1, 0, 0, 1, 0, 0, 1, 0, 0, 0, 0, 0, 0, 0, 1, 1, 0, 0, 0, 0, 1,\n",
              "       0, 0], dtype=int8)"
            ]
          },
          "execution_count": 12,
          "metadata": {},
          "output_type": "execute_result"
        }
      ],
      "source": [
        "vstate.samples[0,0]"
      ]
    },
    {
      "cell_type": "code",
      "execution_count": 16,
      "id": "e8d2e9db",
      "metadata": {
        "id": "e8d2e9db"
      },
      "outputs": [],
      "source": [
        "# Define the optimizer\n",
        "op = nk.optimizer.Sgd(learning_rate=0.05)\n",
        "\n",
        "# Define a preconditioner\n",
        "preconditioner = nk.optimizer.SR(diag_shift=0.05)\n",
        "\n",
        "# Create the VMC (Variational Monte Carlo) driver\n",
        "gs = nk.VMC(H, op, variational_state=vstate, preconditioner=preconditioner)"
      ]
    },
    {
      "cell_type": "code",
      "execution_count": 17,
      "id": "ce032159",
      "metadata": {
        "colab": {
          "base_uri": "https://localhost:8080/",
          "height": 87,
          "referenced_widgets": [
            "8338c848eeda4851b80dbe702fc91f0f",
            "68589b3b4e514060ad9a9ecf76584297",
            "5cb70cc2d31f4b68aa975ffaf8d3bfcf",
            "617a989aff3941d3b50b01ce29ed7007",
            "7b31891c2fa945019ae5643d5ba93e3d",
            "5fd89256e03d48ad91ef2cf63311f477",
            "0094d786670c4c469e41c75bde98dcfc",
            "ad91492da37e4e8796fcbe57d00a0e68",
            "38890a02abe341cc9ceb2567bcd86f7e",
            "973eb231176347528422451c93122bb5",
            "082bd71561bd4db6aadef5db96cee935"
          ]
        },
        "id": "ce032159",
        "outputId": "176763f3-8a66-4aef-b7a8-bd091a90051a"
      },
      "outputs": [
        {
          "data": {
            "application/vnd.jupyter.widget-view+json": {
              "model_id": "8338c848eeda4851b80dbe702fc91f0f",
              "version_major": 2,
              "version_minor": 0
            },
            "text/plain": [
              "  0%|          | 0/100 [00:00<?, ?it/s]"
            ]
          },
          "metadata": {},
          "output_type": "display_data"
        },
        {
          "data": {
            "text/plain": [
              "(RuntimeLog():\n",
              "  keys = ['acceptance', 'Energy'],)"
            ]
          },
          "execution_count": 17,
          "metadata": {},
          "output_type": "execute_result"
        }
      ],
      "source": [
        "# Construct the logger to visualize the data later on\n",
        "slater_log=nk.logging.RuntimeLog()\n",
        "\n",
        "# Run the optimization for 300 iterations\n",
        "gs.run(n_iter=100, out=slater_log)"
      ]
    },
    {
      "cell_type": "code",
      "execution_count": 18,
      "id": "f2c0a9f2",
      "metadata": {
        "colab": {
          "base_uri": "https://localhost:8080/"
        },
        "id": "f2c0a9f2",
        "outputId": "87e87cdf-decd-4d68-c1c6-d78089fcb3bc"
      },
      "outputs": [
        {
          "name": "stdout",
          "output_type": "stream",
          "text": [
            "Optimized energy : -8.172-0.000j ± 0.031 [σ²=3.331, R̂=1.0079]\n",
            "Relative error   : 0.11326750524424162\n"
          ]
        }
      ],
      "source": [
        "sd_energy = vstate.expect(H)\n",
        "error = abs((sd_energy.mean - E_gs) / E_gs)\n",
        "\n",
        "print(f\"Optimized energy : {sd_energy}\")\n",
        "print(f\"Relative error   : {error}\")"
      ]
    },
    {
      "cell_type": "markdown",
      "id": "cc8d74c9",
      "metadata": {
        "id": "cc8d74c9"
      },
      "source": [
        "### Neural Jastrow"
      ]
    },
    {
      "cell_type": "code",
      "execution_count": 19,
      "id": "1d4fe03b",
      "metadata": {
        "id": "1d4fe03b"
      },
      "outputs": [],
      "source": [
        "class LogNeuralJastrowSlater(eqx.Module):\n",
        "    embedding: eqx.nn.Embedding\n",
        "    jastrow_linear: eqx.nn.Linear\n",
        "\n",
        "    def __init__(\n",
        "        self,\n",
        "        hilbert: nk.hilbert.SpinOrbitalFermions,\n",
        "        hidden_size: int,\n",
        "        *,\n",
        "        key: PRNGKeyArray\n",
        "    ):\n",
        "        embedding_key, jastrow_key = jax.random.split(key, 2)\n",
        "        self.embedding = eqx.nn.Embedding(hilbert.size, hilbert.n_fermions, key=embedding_key)\n",
        "        self.jastrow_linear = eqx.nn.Linear(\n",
        "            hilbert.size,\n",
        "            hidden_size,\n",
        "            key=jastrow_key\n",
        "        )\n",
        "\n",
        "    def __call__(\n",
        "        self,\n",
        "        state: Int[Array, \"hilb_size\"]\n",
        "    ) -> Complex[Array, \"\"]:\n",
        "        indices = nkstate_to_indexseq(state)[0]\n",
        "        A = jax.vmap(self.embedding)(indices)\n",
        "        J = self.jastrow_linear(state)\n",
        "        J = jax.nn.tanh(J)\n",
        "        J = jnp.sum(J)\n",
        "\n",
        "        return logdet_cmplx(A) + J"
      ]
    },
    {
      "cell_type": "code",
      "execution_count": 75,
      "id": "a1cedc1b",
      "metadata": {
        "colab": {
          "base_uri": "https://localhost:8080/"
        },
        "id": "a1cedc1b",
        "outputId": "8ce5b201-3ea8-486d-ef98-a1f5a08f0093"
      },
      "outputs": [
        {
          "data": {
            "text/plain": [
              "744"
            ]
          },
          "execution_count": 75,
          "metadata": {},
          "output_type": "execute_result"
        }
      ],
      "source": [
        "key, subkey = jax.random.split(key)\n",
        "model = LogNeuralJastrowSlater(\n",
        "    hilbert=hi,\n",
        "    hidden_size=hi.size,\n",
        "    key=subkey\n",
        ")\n",
        "ma = BatchWrapper(\n",
        "    model\n",
        ")\n",
        "sa = nk.sampler.MetropolisFermionHop(hi, graph=graph_extended)\n",
        "vstate = nk.vqs.MCState(sa, ma, n_samples=2**12, n_discard_per_chain=16)\n",
        "count_parameters(model)"
      ]
    },
    {
      "cell_type": "code",
      "execution_count": 22,
      "id": "17bbc711",
      "metadata": {
        "id": "17bbc711"
      },
      "outputs": [],
      "source": [
        "# Define the optimizer\n",
        "op = nk.optimizer.Sgd(learning_rate=0.05)\n",
        "\n",
        "# Define a preconditioner\n",
        "preconditioner = nk.optimizer.SR(diag_shift=0.05)\n",
        "\n",
        "# Create the VMC (Variational Monte Carlo) driver\n",
        "gs = nk.VMC(H, op, variational_state=vstate, preconditioner=preconditioner)"
      ]
    },
    {
      "cell_type": "code",
      "execution_count": 23,
      "id": "cf6db0f1",
      "metadata": {
        "colab": {
          "base_uri": "https://localhost:8080/",
          "height": 87,
          "referenced_widgets": [
            "2676ebc5c4384c898f63d143384ef048",
            "71545fde3de8417e82e6adbe8bafa4d7",
            "dfa10032d6b2425191429ffcec015702",
            "b9ff5c9bbd164f9293ea38892cb12c20",
            "21ac19f5d44041d986b0fc30eaca572b",
            "dd1530fe7fd541d4a0fc44e06174d841",
            "a3b53c274ddd40a6b131dffda717de66",
            "9d682de7be7649829c6e4a41ea0e6faa",
            "42c4a4c206d14097ae9bb43b7ad1a633",
            "70f72b26bf5f4d9eb03591b6a8cf82de",
            "20905c7583fa4b33baa4f354359e67e0"
          ]
        },
        "id": "cf6db0f1",
        "outputId": "d7cd71e5-5e09-4743-8f01-fac126408ca4"
      },
      "outputs": [
        {
          "data": {
            "application/vnd.jupyter.widget-view+json": {
              "model_id": "2676ebc5c4384c898f63d143384ef048",
              "version_major": 2,
              "version_minor": 0
            },
            "text/plain": [
              "  0%|          | 0/100 [00:00<?, ?it/s]"
            ]
          },
          "metadata": {},
          "output_type": "display_data"
        },
        {
          "data": {
            "text/plain": [
              "(RuntimeLog():\n",
              "  keys = ['acceptance', 'Energy'],)"
            ]
          },
          "execution_count": 23,
          "metadata": {},
          "output_type": "execute_result"
        }
      ],
      "source": [
        "# Construct the logger to visualize the data later on\n",
        "nj_log=nk.logging.RuntimeLog()\n",
        "\n",
        "# Run the optimization for 300 iterations\n",
        "gs.run(n_iter=100, out=nj_log)"
      ]
    },
    {
      "cell_type": "code",
      "execution_count": 24,
      "id": "3d1c3681",
      "metadata": {
        "colab": {
          "base_uri": "https://localhost:8080/"
        },
        "id": "3d1c3681",
        "outputId": "cd8f4fad-b960-44fc-93b6-4828bd7fd7e8"
      },
      "outputs": [
        {
          "name": "stdout",
          "output_type": "stream",
          "text": [
            "Optimized energy : -8.297+0.000j ± 0.016 [σ²=0.546, R̂=1.0570]\n",
            "Relative error   : 0.09965594932902887\n"
          ]
        }
      ],
      "source": [
        "sd_energy = vstate.expect(H)\n",
        "error = abs((sd_energy.mean - E_gs) / E_gs)\n",
        "\n",
        "print(f\"Optimized energy : {sd_energy}\")\n",
        "print(f\"Relative error   : {error}\")"
      ]
    },
    {
      "cell_type": "markdown",
      "id": "ce972aae",
      "metadata": {
        "id": "ce972aae"
      },
      "source": [
        "### Self-Attention Ansatz"
      ]
    },
    {
      "cell_type": "code",
      "execution_count": 33,
      "id": "c57b3742",
      "metadata": {
        "id": "c57b3742"
      },
      "outputs": [],
      "source": [
        "class AttentionWFN(eqx.Module):\n",
        "    embedding: eqx.nn.Embedding\n",
        "    attention: eqx.nn.MultiheadAttention\n",
        "    ff_layers: eqx.nn.MLP\n",
        "    use_complex: bool=eqx.field(static=True)\n",
        "\n",
        "    def __init__(\n",
        "        self,\n",
        "        hilbert: nk.hilbert.SpinOrbitalFermions,\n",
        "        hidden_size: int,\n",
        "        attention_size: int,\n",
        "        num_head: int,\n",
        "        ff_depth: int,\n",
        "        activation: jax.nn.gelu,\n",
        "        *,\n",
        "        use_complex: bool=False,\n",
        "        key: PRNGKeyArray\n",
        "    ):\n",
        "        embedding_key, attention_key, ff_key = jax.random.split(key, 3)\n",
        "        self.embedding = eqx.nn.Embedding(hilbert.size, hidden_size, key=embedding_key)\n",
        "        self.attention = eqx.nn.MultiheadAttention(\n",
        "            num_head,\n",
        "            hidden_size,\n",
        "            hidden_size,\n",
        "            hidden_size,\n",
        "            hidden_size,\n",
        "            attention_size,\n",
        "            attention_size,\n",
        "            key=attention_key\n",
        "        )\n",
        "        ff_out_size = 2 * hi.n_fermions if use_complex else hi.n_fermions\n",
        "        self.ff_layers = eqx.nn.MLP(\n",
        "            hidden_size, ff_out_size, hidden_size, ff_depth, activation, key=ff_key\n",
        "        )\n",
        "        self.use_complex = use_complex\n",
        "\n",
        "\n",
        "    def __call__(\n",
        "        self,\n",
        "        state: Int[Array, \"hilb_size\"]\n",
        "    ) -> Complex[Array, \"\"]:\n",
        "        indices = nkstate_to_indexseq(state)[0]\n",
        "        embedded = jax.vmap(self.embedding)(indices) # (n_fermions, hidden_size)\n",
        "        atten_out = self.attention(embedded, embedded, embedded) # (n_fermions, hidden_size)\n",
        "        ff_in = atten_out + embedded\n",
        "        ff_out = jax.vmap(self.ff_layers)(ff_in)\n",
        "        if self.use_complex:\n",
        "            real, imag = jnp.split(ff_out, 2, axis=1)\n",
        "            ff_out = jax.lax.complex(real, imag)\n",
        "        return logdet_cmplx(ff_out)"
      ]
    },
    {
      "cell_type": "code",
      "execution_count": 86,
      "id": "1c3dc885",
      "metadata": {
        "colab": {
          "base_uri": "https://localhost:8080/"
        },
        "id": "1c3dc885",
        "outputId": "31fec057-f2f3-46c7-a16f-73dd7e0f460e"
      },
      "outputs": [
        {
          "data": {
            "text/plain": [
              "4380"
            ]
          },
          "execution_count": 86,
          "metadata": {},
          "output_type": "execute_result"
        }
      ],
      "source": [
        "key, subkey = jax.random.split(key)\n",
        "model = AttentionWFN(\n",
        "    hilbert=hi,\n",
        "    hidden_size=24,\n",
        "    attention_size=24,\n",
        "    num_head=1,\n",
        "    ff_depth=2,\n",
        "    activation=jax.nn.gelu,\n",
        "    use_complex=True,\n",
        "    key=subkey\n",
        ")\n",
        "ma = BatchWrapper(\n",
        "    model\n",
        ")\n",
        "sa = nk.sampler.MetropolisFermionHop(hi, graph=graph_extended)\n",
        "vstate = nk.vqs.MCState(sa, ma, n_samples=2**12, n_discard_per_chain=16)\n",
        "count_parameters(model)"
      ]
    },
    {
      "cell_type": "code",
      "execution_count": 87,
      "id": "723004c6",
      "metadata": {
        "id": "723004c6"
      },
      "outputs": [],
      "source": [
        "# op = nk.optimizer.Adam(learning_rate=0.001)\n",
        "# gs = nk.VMC(H, op, variational_state=vstate)\n",
        "\n",
        "# Define the optimizer\n",
        "op = nk.optimizer.Sgd(learning_rate=0.05)\n",
        "\n",
        "# Define a preconditioner\n",
        "preconditioner = nk.optimizer.SR(diag_shift=0.05)\n",
        "\n",
        "# Create the VMC (Variational Monte Carlo) driver\n",
        "gs = nk.VMC(H, op, variational_state=vstate, preconditioner=preconditioner)\n",
        "# gs = VMC_SRt(H, op, variational_state=vstate, diag_shift=0.3)"
      ]
    },
    {
      "cell_type": "code",
      "execution_count": 88,
      "id": "c6fd87d9",
      "metadata": {
        "colab": {
          "base_uri": "https://localhost:8080/",
          "height": 87,
          "referenced_widgets": [
            "f2aa1bd6ee2a4775b60acb9456bd703a",
            "747739bf89be4196915537ef7e0d8bbf",
            "d4cd78c2e35b41e38f412a0bf60aa1f8",
            "eb50f82f51b14141bb2b01a5202c2aec",
            "67ada7e0be6c4e1db56d86b192e837e9",
            "610cf6569fde438c87221aabcbc287ad",
            "0feee986bc73435d9b244afa4a1e3177",
            "b8878788bb9b48e19fc210136c85579a",
            "69ba12318d9b4a8699d8a13e3c702b3d",
            "f53075184cdb4574baded143781d7617",
            "8f7bfca1dbe74ea38cbd3ac3526647e4"
          ]
        },
        "id": "c6fd87d9",
        "outputId": "0828790d-d788-4a84-81b0-73bef8a244f8"
      },
      "outputs": [
        {
          "data": {
            "application/vnd.jupyter.widget-view+json": {
              "model_id": "f2aa1bd6ee2a4775b60acb9456bd703a",
              "version_major": 2,
              "version_minor": 0
            },
            "text/plain": [
              "  0%|          | 0/100 [00:00<?, ?it/s]"
            ]
          },
          "metadata": {},
          "output_type": "display_data"
        },
        {
          "data": {
            "text/plain": [
              "(RuntimeLog():\n",
              "  keys = ['acceptance', 'Energy'],)"
            ]
          },
          "execution_count": 88,
          "metadata": {},
          "output_type": "execute_result"
        }
      ],
      "source": [
        "# Construct the logger to visualize the data later on\n",
        "atten_log=nk.logging.RuntimeLog()\n",
        "\n",
        "# Run the optimization for 300 iterations\n",
        "gs.run(n_iter=100, out=atten_log)"
      ]
    },
    {
      "cell_type": "code",
      "execution_count": 89,
      "id": "b391643d",
      "metadata": {
        "colab": {
          "base_uri": "https://localhost:8080/"
        },
        "id": "b391643d",
        "outputId": "4fe5033f-f768-4d21-d6b7-8478947cff81"
      },
      "outputs": [
        {
          "name": "stdout",
          "output_type": "stream",
          "text": [
            "Optimized energy : -8.703+0.003j ± 0.017 [σ²=0.580, R̂=1.0745]\n",
            "Relative error   : 0.055617413809611244\n"
          ]
        }
      ],
      "source": [
        "sd_energy = vstate.expect(H)\n",
        "error = abs((sd_energy.mean - E_gs) / E_gs)\n",
        "\n",
        "print(f\"Optimized energy : {sd_energy}\")\n",
        "print(f\"Relative error   : {error}\")"
      ]
    },
    {
      "cell_type": "code",
      "execution_count": 91,
      "id": "ec3fef3e",
      "metadata": {
        "colab": {
          "base_uri": "https://localhost:8080/",
          "height": 468
        },
        "id": "ec3fef3e",
        "outputId": "c5cd1f82-9163-40d0-a2ae-89457eca3fe8"
      },
      "outputs": [
        {
          "data": {
            "text/plain": [
              "<matplotlib.legend.Legend at 0x7c69c55f5290>"
            ]
          },
          "execution_count": 91,
          "metadata": {},
          "output_type": "execute_result"
        },
        {
          "data": {
            "image/png": "[encoded data removed]",
            "text/plain": [
              "<Figure size 640x480 with 1 Axes>"
            ]
          },
          "metadata": {},
          "output_type": "display_data"
        }
      ],
      "source": [
        "logged_data = (slater_log.data, nj_log.data, atten_log.data)\n",
        "labels = (\"Slater\",\"Neural Jastrow\",\"Attention\")\n",
        "\n",
        "for data,label in zip(logged_data,labels):\n",
        "    plt.errorbar(data[\"Energy\"].iters, data[\"Energy\"].Mean.real, yerr=data[\"Energy\"].Sigma,label=label)\n",
        "\n",
        "plt.hlines([E_gs], xmin=0, xmax=100, color='black', label=\"Exact\")\n",
        "\n",
        "plt.xlabel('Iterations')\n",
        "plt.ylabel('Energy')\n",
        "plt.legend()"
      ]
    }
  ],
  "metadata": {
    "accelerator": "GPU",
    "colab": {
      "gpuType": "A100",
      "machine_shape": "hm",
      "provenance": []
    },
    "kernelspec": {
      "display_name": "Python 3",
      "name": "python3"
    },
    "language_info": {
      "codemirror_mode": {
        "name": "ipython",
        "version": 3
      },
      "file_extension": ".py",
      "mimetype": "text/x-python",
      "name": "python",
      "nbconvert_exporter": "python",
      "pygments_lexer": "ipython3",
      "version": "3.12.9"
    },
    "widgets": {
      "application/vnd.jupyter.widget-state+json": {
        "0094d786670c4c469e41c75bde98dcfc": {
          "model_module": "@jupyter-widgets/controls",
          "model_module_version": "1.5.0",
          "model_name": "DescriptionStyleModel",
          "state": {
            "_model_module": "@jupyter-widgets/controls",
            "_model_module_version": "1.5.0",
            "_model_name": "DescriptionStyleModel",
            "_view_count": null,
            "_view_module": "@jupyter-widgets/base",
            "_view_module_version": "1.2.0",
            "_view_name": "StyleView",
            "description_width": ""
          }
        },
        "082bd71561bd4db6aadef5db96cee935": {
          "model_module": "@jupyter-widgets/controls",
          "model_module_version": "1.5.0",
          "model_name": "DescriptionStyleModel",
          "state": {
            "_model_module": "@jupyter-widgets/controls",
            "_model_module_version": "1.5.0",
            "_model_name": "DescriptionStyleModel",
            "_view_count": null,
            "_view_module": "@jupyter-widgets/base",
            "_view_module_version": "1.2.0",
            "_view_name": "StyleView",
            "description_width": ""
          }
        },
        "0feee986bc73435d9b244afa4a1e3177": {
          "model_module": "@jupyter-widgets/controls",
          "model_module_version": "1.5.0",
          "model_name": "DescriptionStyleModel",
          "state": {
            "_model_module": "@jupyter-widgets/controls",
            "_model_module_version": "1.5.0",
            "_model_name": "DescriptionStyleModel",
            "_view_count": null,
            "_view_module": "@jupyter-widgets/base",
            "_view_module_version": "1.2.0",
            "_view_name": "StyleView",
            "description_width": ""
          }
        },
        "20905c7583fa4b33baa4f354359e67e0": {
          "model_module": "@jupyter-widgets/controls",
          "model_module_version": "1.5.0",
          "model_name": "DescriptionStyleModel",
          "state": {
            "_model_module": "@jupyter-widgets/controls",
            "_model_module_version": "1.5.0",
            "_model_name": "DescriptionStyleModel",
            "_view_count": null,
            "_view_module": "@jupyter-widgets/base",
            "_view_module_version": "1.2.0",
            "_view_name": "StyleView",
            "description_width": ""
          }
        },
        "21ac19f5d44041d986b0fc30eaca572b": {
          "model_module": "@jupyter-widgets/base",
          "model_module_version": "1.2.0",
          "model_name": "LayoutModel",
          "state": {
            "_model_module": "@jupyter-widgets/base",
            "_model_module_version": "1.2.0",
            "_model_name": "LayoutModel",
            "_view_count": null,
            "_view_module": "@jupyter-widgets/base",
            "_view_module_version": "1.2.0",
            "_view_name": "LayoutView",
            "align_content": null,
            "align_items": null,
            "align_self": null,
            "border": null,
            "bottom": null,
            "display": "inline-flex",
            "flex": null,
            "flex_flow": "row wrap",
            "grid_area": null,
            "grid_auto_columns": null,
            "grid_auto_flow": null,
            "grid_auto_rows": null,
            "grid_column": null,
            "grid_gap": null,
            "grid_row": null,
            "grid_template_areas": null,
            "grid_template_columns": null,
            "grid_template_rows": null,
            "height": null,
            "justify_content": null,
            "justify_items": null,
            "left": null,
            "margin": null,
            "max_height": null,
            "max_width": null,
            "min_height": null,
            "min_width": null,
            "object_fit": null,
            "object_position": null,
            "order": null,
            "overflow": null,
            "overflow_x": null,
            "overflow_y": null,
            "padding": null,
            "right": null,
            "top": null,
            "visibility": null,
            "width": "100%"
          }
        },
        "2676ebc5c4384c898f63d143384ef048": {
          "model_module": "@jupyter-widgets/controls",
          "model_module_version": "1.5.0",
          "model_name": "HBoxModel",
          "state": {
            "_dom_classes": [],
            "_model_module": "@jupyter-widgets/controls",
            "_model_module_version": "1.5.0",
            "_model_name": "HBoxModel",
            "_view_count": null,
            "_view_module": "@jupyter-widgets/controls",
            "_view_module_version": "1.5.0",
            "_view_name": "HBoxView",
            "box_style": "",
            "children": [
              "IPY_MODEL_71545fde3de8417e82e6adbe8bafa4d7",
              "IPY_MODEL_dfa10032d6b2425191429ffcec015702",
              "IPY_MODEL_b9ff5c9bbd164f9293ea38892cb12c20"
            ],
            "layout": "IPY_MODEL_21ac19f5d44041d986b0fc30eaca572b"
          }
        },
        "38890a02abe341cc9ceb2567bcd86f7e": {
          "model_module": "@jupyter-widgets/controls",
          "model_module_version": "1.5.0",
          "model_name": "ProgressStyleModel",
          "state": {
            "_model_module": "@jupyter-widgets/controls",
            "_model_module_version": "1.5.0",
            "_model_name": "ProgressStyleModel",
            "_view_count": null,
            "_view_module": "@jupyter-widgets/base",
            "_view_module_version": "1.2.0",
            "_view_name": "StyleView",
            "bar_color": null,
            "description_width": ""
          }
        },
        "42c4a4c206d14097ae9bb43b7ad1a633": {
          "model_module": "@jupyter-widgets/controls",
          "model_module_version": "1.5.0",
          "model_name": "ProgressStyleModel",
          "state": {
            "_model_module": "@jupyter-widgets/controls",
            "_model_module_version": "1.5.0",
            "_model_name": "ProgressStyleModel",
            "_view_count": null,
            "_view_module": "@jupyter-widgets/base",
            "_view_module_version": "1.2.0",
            "_view_name": "StyleView",
            "bar_color": null,
            "description_width": ""
          }
        },
        "5cb70cc2d31f4b68aa975ffaf8d3bfcf": {
          "model_module": "@jupyter-widgets/controls",
          "model_module_version": "1.5.0",
          "model_name": "FloatProgressModel",
          "state": {
            "_dom_classes": [],
            "_model_module": "@jupyter-widgets/controls",
            "_model_module_version": "1.5.0",
            "_model_name": "FloatProgressModel",
            "_view_count": null,
            "_view_module": "@jupyter-widgets/controls",
            "_view_module_version": "1.5.0",
            "_view_name": "ProgressView",
            "bar_style": "success",
            "description": "",
            "description_tooltip": null,
            "layout": "IPY_MODEL_ad91492da37e4e8796fcbe57d00a0e68",
            "max": 100,
            "min": 0,
            "orientation": "horizontal",
            "style": "IPY_MODEL_38890a02abe341cc9ceb2567bcd86f7e",
            "value": 100
          }
        },
        "5fd89256e03d48ad91ef2cf63311f477": {
          "model_module": "@jupyter-widgets/base",
          "model_module_version": "1.2.0",
          "model_name": "LayoutModel",
          "state": {
            "_model_module": "@jupyter-widgets/base",
            "_model_module_version": "1.2.0",
            "_model_name": "LayoutModel",
            "_view_count": null,
            "_view_module": "@jupyter-widgets/base",
            "_view_module_version": "1.2.0",
            "_view_name": "LayoutView",
            "align_content": null,
            "align_items": null,
            "align_self": null,
            "border": null,
            "bottom": null,
            "display": null,
            "flex": null,
            "flex_flow": null,
            "grid_area": null,
            "grid_auto_columns": null,
            "grid_auto_flow": null,
            "grid_auto_rows": null,
            "grid_column": null,
            "grid_gap": null,
            "grid_row": null,
            "grid_template_areas": null,
            "grid_template_columns": null,
            "grid_template_rows": null,
            "height": null,
            "justify_content": null,
            "justify_items": null,
            "left": null,
            "margin": null,
            "max_height": null,
            "max_width": null,
            "min_height": null,
            "min_width": null,
            "object_fit": null,
            "object_position": null,
            "order": null,
            "overflow": null,
            "overflow_x": null,
            "overflow_y": null,
            "padding": null,
            "right": null,
            "top": null,
            "visibility": null,
            "width": null
          }
        },
        "610cf6569fde438c87221aabcbc287ad": {
          "model_module": "@jupyter-widgets/base",
          "model_module_version": "1.2.0",
          "model_name": "LayoutModel",
          "state": {
            "_model_module": "@jupyter-widgets/base",
            "_model_module_version": "1.2.0",
            "_model_name": "LayoutModel",
            "_view_count": null,
            "_view_module": "@jupyter-widgets/base",
            "_view_module_version": "1.2.0",
            "_view_name": "LayoutView",
            "align_content": null,
            "align_items": null,
            "align_self": null,
            "border": null,
            "bottom": null,
            "display": null,
            "flex": null,
            "flex_flow": null,
            "grid_area": null,
            "grid_auto_columns": null,
            "grid_auto_flow": null,
            "grid_auto_rows": null,
            "grid_column": null,
            "grid_gap": null,
            "grid_row": null,
            "grid_template_areas": null,
            "grid_template_columns": null,
            "grid_template_rows": null,
            "height": null,
            "justify_content": null,
            "justify_items": null,
            "left": null,
            "margin": null,
            "max_height": null,
            "max_width": null,
            "min_height": null,
            "min_width": null,
            "object_fit": null,
            "object_position": null,
            "order": null,
            "overflow": null,
            "overflow_x": null,
            "overflow_y": null,
            "padding": null,
            "right": null,
            "top": null,
            "visibility": null,
            "width": null
          }
        },
        "617a989aff3941d3b50b01ce29ed7007": {
          "model_module": "@jupyter-widgets/controls",
          "model_module_version": "1.5.0",
          "model_name": "HTMLModel",
          "state": {
            "_dom_classes": [],
            "_model_module": "@jupyter-widgets/controls",
            "_model_module_version": "1.5.0",
            "_model_name": "HTMLModel",
            "_view_count": null,
            "_view_module": "@jupyter-widgets/controls",
            "_view_module_version": "1.5.0",
            "_view_name": "HTMLView",
            "description": "",
            "description_tooltip": null,
            "layout": "IPY_MODEL_973eb231176347528422451c93122bb5",
            "placeholder": "​",
            "style": "IPY_MODEL_082bd71561bd4db6aadef5db96cee935",
            "value": " 100/100 [01:11&lt;00:00,  1.39it/s, Energy=-8.146-0.000j ± 0.030 [σ²=3.440, R̂=1.0052]]"
          }
        },
        "67ada7e0be6c4e1db56d86b192e837e9": {
          "model_module": "@jupyter-widgets/base",
          "model_module_version": "1.2.0",
          "model_name": "LayoutModel",
          "state": {
            "_model_module": "@jupyter-widgets/base",
            "_model_module_version": "1.2.0",
            "_model_name": "LayoutModel",
            "_view_count": null,
            "_view_module": "@jupyter-widgets/base",
            "_view_module_version": "1.2.0",
            "_view_name": "LayoutView",
            "align_content": null,
            "align_items": null,
            "align_self": null,
            "border": null,
            "bottom": null,
            "display": "inline-flex",
            "flex": null,
            "flex_flow": "row wrap",
            "grid_area": null,
            "grid_auto_columns": null,
            "grid_auto_flow": null,
            "grid_auto_rows": null,
            "grid_column": null,
            "grid_gap": null,
            "grid_row": null,
            "grid_template_areas": null,
            "grid_template_columns": null,
            "grid_template_rows": null,
            "height": null,
            "justify_content": null,
            "justify_items": null,
            "left": null,
            "margin": null,
            "max_height": null,
            "max_width": null,
            "min_height": null,
            "min_width": null,
            "object_fit": null,
            "object_position": null,
            "order": null,
            "overflow": null,
            "overflow_x": null,
            "overflow_y": null,
            "padding": null,
            "right": null,
            "top": null,
            "visibility": null,
            "width": "100%"
          }
        },
        "68589b3b4e514060ad9a9ecf76584297": {
          "model_module": "@jupyter-widgets/controls",
          "model_module_version": "1.5.0",
          "model_name": "HTMLModel",
          "state": {
            "_dom_classes": [],
            "_model_module": "@jupyter-widgets/controls",
            "_model_module_version": "1.5.0",
            "_model_name": "HTMLModel",
            "_view_count": null,
            "_view_module": "@jupyter-widgets/controls",
            "_view_module_version": "1.5.0",
            "_view_name": "HTMLView",
            "description": "",
            "description_tooltip": null,
            "layout": "IPY_MODEL_5fd89256e03d48ad91ef2cf63311f477",
            "placeholder": "​",
            "style": "IPY_MODEL_0094d786670c4c469e41c75bde98dcfc",
            "value": "100%"
          }
        },
        "69ba12318d9b4a8699d8a13e3c702b3d": {
          "model_module": "@jupyter-widgets/controls",
          "model_module_version": "1.5.0",
          "model_name": "ProgressStyleModel",
          "state": {
            "_model_module": "@jupyter-widgets/controls",
            "_model_module_version": "1.5.0",
            "_model_name": "ProgressStyleModel",
            "_view_count": null,
            "_view_module": "@jupyter-widgets/base",
            "_view_module_version": "1.2.0",
            "_view_name": "StyleView",
            "bar_color": null,
            "description_width": ""
          }
        },
        "70f72b26bf5f4d9eb03591b6a8cf82de": {
          "model_module": "@jupyter-widgets/base",
          "model_module_version": "1.2.0",
          "model_name": "LayoutModel",
          "state": {
            "_model_module": "@jupyter-widgets/base",
            "_model_module_version": "1.2.0",
            "_model_name": "LayoutModel",
            "_view_count": null,
            "_view_module": "@jupyter-widgets/base",
            "_view_module_version": "1.2.0",
            "_view_name": "LayoutView",
            "align_content": null,
            "align_items": null,
            "align_self": null,
            "border": null,
            "bottom": null,
            "display": null,
            "flex": null,
            "flex_flow": null,
            "grid_area": null,
            "grid_auto_columns": null,
            "grid_auto_flow": null,
            "grid_auto_rows": null,
            "grid_column": null,
            "grid_gap": null,
            "grid_row": null,
            "grid_template_areas": null,
            "grid_template_columns": null,
            "grid_template_rows": null,
            "height": null,
            "justify_content": null,
            "justify_items": null,
            "left": null,
            "margin": null,
            "max_height": null,
            "max_width": null,
            "min_height": null,
            "min_width": null,
            "object_fit": null,
            "object_position": null,
            "order": null,
            "overflow": null,
            "overflow_x": null,
            "overflow_y": null,
            "padding": null,
            "right": null,
            "top": null,
            "visibility": null,
            "width": null
          }
        },
        "71545fde3de8417e82e6adbe8bafa4d7": {
          "model_module": "@jupyter-widgets/controls",
          "model_module_version": "1.5.0",
          "model_name": "HTMLModel",
          "state": {
            "_dom_classes": [],
            "_model_module": "@jupyter-widgets/controls",
            "_model_module_version": "1.5.0",
            "_model_name": "HTMLModel",
            "_view_count": null,
            "_view_module": "@jupyter-widgets/controls",
            "_view_module_version": "1.5.0",
            "_view_name": "HTMLView",
            "description": "",
            "description_tooltip": null,
            "layout": "IPY_MODEL_dd1530fe7fd541d4a0fc44e06174d841",
            "placeholder": "​",
            "style": "IPY_MODEL_a3b53c274ddd40a6b131dffda717de66",
            "value": "100%"
          }
        },
        "747739bf89be4196915537ef7e0d8bbf": {
          "model_module": "@jupyter-widgets/controls",
          "model_module_version": "1.5.0",
          "model_name": "HTMLModel",
          "state": {
            "_dom_classes": [],
            "_model_module": "@jupyter-widgets/controls",
            "_model_module_version": "1.5.0",
            "_model_name": "HTMLModel",
            "_view_count": null,
            "_view_module": "@jupyter-widgets/controls",
            "_view_module_version": "1.5.0",
            "_view_name": "HTMLView",
            "description": "",
            "description_tooltip": null,
            "layout": "IPY_MODEL_610cf6569fde438c87221aabcbc287ad",
            "placeholder": "​",
            "style": "IPY_MODEL_0feee986bc73435d9b244afa4a1e3177",
            "value": "100%"
          }
        },
        "7b31891c2fa945019ae5643d5ba93e3d": {
          "model_module": "@jupyter-widgets/base",
          "model_module_version": "1.2.0",
          "model_name": "LayoutModel",
          "state": {
            "_model_module": "@jupyter-widgets/base",
            "_model_module_version": "1.2.0",
            "_model_name": "LayoutModel",
            "_view_count": null,
            "_view_module": "@jupyter-widgets/base",
            "_view_module_version": "1.2.0",
            "_view_name": "LayoutView",
            "align_content": null,
            "align_items": null,
            "align_self": null,
            "border": null,
            "bottom": null,
            "display": "inline-flex",
            "flex": null,
            "flex_flow": "row wrap",
            "grid_area": null,
            "grid_auto_columns": null,
            "grid_auto_flow": null,
            "grid_auto_rows": null,
            "grid_column": null,
            "grid_gap": null,
            "grid_row": null,
            "grid_template_areas": null,
            "grid_template_columns": null,
            "grid_template_rows": null,
            "height": null,
            "justify_content": null,
            "justify_items": null,
            "left": null,
            "margin": null,
            "max_height": null,
            "max_width": null,
            "min_height": null,
            "min_width": null,
            "object_fit": null,
            "object_position": null,
            "order": null,
            "overflow": null,
            "overflow_x": null,
            "overflow_y": null,
            "padding": null,
            "right": null,
            "top": null,
            "visibility": null,
            "width": "100%"
          }
        },
        "8338c848eeda4851b80dbe702fc91f0f": {
          "model_module": "@jupyter-widgets/controls",
          "model_module_version": "1.5.0",
          "model_name": "HBoxModel",
          "state": {
            "_dom_classes": [],
            "_model_module": "@jupyter-widgets/controls",
            "_model_module_version": "1.5.0",
            "_model_name": "HBoxModel",
            "_view_count": null,
            "_view_module": "@jupyter-widgets/controls",
            "_view_module_version": "1.5.0",
            "_view_name": "HBoxView",
            "box_style": "",
            "children": [
              "IPY_MODEL_68589b3b4e514060ad9a9ecf76584297",
              "IPY_MODEL_5cb70cc2d31f4b68aa975ffaf8d3bfcf",
              "IPY_MODEL_617a989aff3941d3b50b01ce29ed7007"
            ],
            "layout": "IPY_MODEL_7b31891c2fa945019ae5643d5ba93e3d"
          }
        },
        "8f7bfca1dbe74ea38cbd3ac3526647e4": {
          "model_module": "@jupyter-widgets/controls",
          "model_module_version": "1.5.0",
          "model_name": "DescriptionStyleModel",
          "state": {
            "_model_module": "@jupyter-widgets/controls",
            "_model_module_version": "1.5.0",
            "_model_name": "DescriptionStyleModel",
            "_view_count": null,
            "_view_module": "@jupyter-widgets/base",
            "_view_module_version": "1.2.0",
            "_view_name": "StyleView",
            "description_width": ""
          }
        },
        "973eb231176347528422451c93122bb5": {
          "model_module": "@jupyter-widgets/base",
          "model_module_version": "1.2.0",
          "model_name": "LayoutModel",
          "state": {
            "_model_module": "@jupyter-widgets/base",
            "_model_module_version": "1.2.0",
            "_model_name": "LayoutModel",
            "_view_count": null,
            "_view_module": "@jupyter-widgets/base",
            "_view_module_version": "1.2.0",
            "_view_name": "LayoutView",
            "align_content": null,
            "align_items": null,
            "align_self": null,
            "border": null,
            "bottom": null,
            "display": null,
            "flex": null,
            "flex_flow": null,
            "grid_area": null,
            "grid_auto_columns": null,
            "grid_auto_flow": null,
            "grid_auto_rows": null,
            "grid_column": null,
            "grid_gap": null,
            "grid_row": null,
            "grid_template_areas": null,
            "grid_template_columns": null,
            "grid_template_rows": null,
            "height": null,
            "justify_content": null,
            "justify_items": null,
            "left": null,
            "margin": null,
            "max_height": null,
            "max_width": null,
            "min_height": null,
            "min_width": null,
            "object_fit": null,
            "object_position": null,
            "order": null,
            "overflow": null,
            "overflow_x": null,
            "overflow_y": null,
            "padding": null,
            "right": null,
            "top": null,
            "visibility": null,
            "width": null
          }
        },
        "9d682de7be7649829c6e4a41ea0e6faa": {
          "model_module": "@jupyter-widgets/base",
          "model_module_version": "1.2.0",
          "model_name": "LayoutModel",
          "state": {
            "_model_module": "@jupyter-widgets/base",
            "_model_module_version": "1.2.0",
            "_model_name": "LayoutModel",
            "_view_count": null,
            "_view_module": "@jupyter-widgets/base",
            "_view_module_version": "1.2.0",
            "_view_name": "LayoutView",
            "align_content": null,
            "align_items": null,
            "align_self": null,
            "border": null,
            "bottom": null,
            "display": null,
            "flex": "2",
            "flex_flow": null,
            "grid_area": null,
            "grid_auto_columns": null,
            "grid_auto_flow": null,
            "grid_auto_rows": null,
            "grid_column": null,
            "grid_gap": null,
            "grid_row": null,
            "grid_template_areas": null,
            "grid_template_columns": null,
            "grid_template_rows": null,
            "height": null,
            "justify_content": null,
            "justify_items": null,
            "left": null,
            "margin": null,
            "max_height": null,
            "max_width": null,
            "min_height": null,
            "min_width": null,
            "object_fit": null,
            "object_position": null,
            "order": null,
            "overflow": null,
            "overflow_x": null,
            "overflow_y": null,
            "padding": null,
            "right": null,
            "top": null,
            "visibility": null,
            "width": null
          }
        },
        "a3b53c274ddd40a6b131dffda717de66": {
          "model_module": "@jupyter-widgets/controls",
          "model_module_version": "1.5.0",
          "model_name": "DescriptionStyleModel",
          "state": {
            "_model_module": "@jupyter-widgets/controls",
            "_model_module_version": "1.5.0",
            "_model_name": "DescriptionStyleModel",
            "_view_count": null,
            "_view_module": "@jupyter-widgets/base",
            "_view_module_version": "1.2.0",
            "_view_name": "StyleView",
            "description_width": ""
          }
        },
        "ad91492da37e4e8796fcbe57d00a0e68": {
          "model_module": "@jupyter-widgets/base",
          "model_module_version": "1.2.0",
          "model_name": "LayoutModel",
          "state": {
            "_model_module": "@jupyter-widgets/base",
            "_model_module_version": "1.2.0",
            "_model_name": "LayoutModel",
            "_view_count": null,
            "_view_module": "@jupyter-widgets/base",
            "_view_module_version": "1.2.0",
            "_view_name": "LayoutView",
            "align_content": null,
            "align_items": null,
            "align_self": null,
            "border": null,
            "bottom": null,
            "display": null,
            "flex": "2",
            "flex_flow": null,
            "grid_area": null,
            "grid_auto_columns": null,
            "grid_auto_flow": null,
            "grid_auto_rows": null,
            "grid_column": null,
            "grid_gap": null,
            "grid_row": null,
            "grid_template_areas": null,
            "grid_template_columns": null,
            "grid_template_rows": null,
            "height": null,
            "justify_content": null,
            "justify_items": null,
            "left": null,
            "margin": null,
            "max_height": null,
            "max_width": null,
            "min_height": null,
            "min_width": null,
            "object_fit": null,
            "object_position": null,
            "order": null,
            "overflow": null,
            "overflow_x": null,
            "overflow_y": null,
            "padding": null,
            "right": null,
            "top": null,
            "visibility": null,
            "width": null
          }
        },
        "b8878788bb9b48e19fc210136c85579a": {
          "model_module": "@jupyter-widgets/base",
          "model_module_version": "1.2.0",
          "model_name": "LayoutModel",
          "state": {
            "_model_module": "@jupyter-widgets/base",
            "_model_module_version": "1.2.0",
            "_model_name": "LayoutModel",
            "_view_count": null,
            "_view_module": "@jupyter-widgets/base",
            "_view_module_version": "1.2.0",
            "_view_name": "LayoutView",
            "align_content": null,
            "align_items": null,
            "align_self": null,
            "border": null,
            "bottom": null,
            "display": null,
            "flex": "2",
            "flex_flow": null,
            "grid_area": null,
            "grid_auto_columns": null,
            "grid_auto_flow": null,
            "grid_auto_rows": null,
            "grid_column": null,
            "grid_gap": null,
            "grid_row": null,
            "grid_template_areas": null,
            "grid_template_columns": null,
            "grid_template_rows": null,
            "height": null,
            "justify_content": null,
            "justify_items": null,
            "left": null,
            "margin": null,
            "max_height": null,
            "max_width": null,
            "min_height": null,
            "min_width": null,
            "object_fit": null,
            "object_position": null,
            "order": null,
            "overflow": null,
            "overflow_x": null,
            "overflow_y": null,
            "padding": null,
            "right": null,
            "top": null,
            "visibility": null,
            "width": null
          }
        },
        "b9ff5c9bbd164f9293ea38892cb12c20": {
          "model_module": "@jupyter-widgets/controls",
          "model_module_version": "1.5.0",
          "model_name": "HTMLModel",
          "state": {
            "_dom_classes": [],
            "_model_module": "@jupyter-widgets/controls",
            "_model_module_version": "1.5.0",
            "_model_name": "HTMLModel",
            "_view_count": null,
            "_view_module": "@jupyter-widgets/controls",
            "_view_module_version": "1.5.0",
            "_view_name": "HTMLView",
            "description": "",
            "description_tooltip": null,
            "layout": "IPY_MODEL_70f72b26bf5f4d9eb03591b6a8cf82de",
            "placeholder": "​",
            "style": "IPY_MODEL_20905c7583fa4b33baa4f354359e67e0",
            "value": " 100/100 [01:15&lt;00:00,  1.27it/s, Energy=-8.292-0.000j ± 0.018 [σ²=0.637, R̂=1.0633]]"
          }
        },
        "d4cd78c2e35b41e38f412a0bf60aa1f8": {
          "model_module": "@jupyter-widgets/controls",
          "model_module_version": "1.5.0",
          "model_name": "FloatProgressModel",
          "state": {
            "_dom_classes": [],
            "_model_module": "@jupyter-widgets/controls",
            "_model_module_version": "1.5.0",
            "_model_name": "FloatProgressModel",
            "_view_count": null,
            "_view_module": "@jupyter-widgets/controls",
            "_view_module_version": "1.5.0",
            "_view_name": "ProgressView",
            "bar_style": "success",
            "description": "",
            "description_tooltip": null,
            "layout": "IPY_MODEL_b8878788bb9b48e19fc210136c85579a",
            "max": 100,
            "min": 0,
            "orientation": "horizontal",
            "style": "IPY_MODEL_69ba12318d9b4a8699d8a13e3c702b3d",
            "value": 100
          }
        },
        "dd1530fe7fd541d4a0fc44e06174d841": {
          "model_module": "@jupyter-widgets/base",
          "model_module_version": "1.2.0",
          "model_name": "LayoutModel",
          "state": {
            "_model_module": "@jupyter-widgets/base",
            "_model_module_version": "1.2.0",
            "_model_name": "LayoutModel",
            "_view_count": null,
            "_view_module": "@jupyter-widgets/base",
            "_view_module_version": "1.2.0",
            "_view_name": "LayoutView",
            "align_content": null,
            "align_items": null,
            "align_self": null,
            "border": null,
            "bottom": null,
            "display": null,
            "flex": null,
            "flex_flow": null,
            "grid_area": null,
            "grid_auto_columns": null,
            "grid_auto_flow": null,
            "grid_auto_rows": null,
            "grid_column": null,
            "grid_gap": null,
            "grid_row": null,
            "grid_template_areas": null,
            "grid_template_columns": null,
            "grid_template_rows": null,
            "height": null,
            "justify_content": null,
            "justify_items": null,
            "left": null,
            "margin": null,
            "max_height": null,
            "max_width": null,
            "min_height": null,
            "min_width": null,
            "object_fit": null,
            "object_position": null,
            "order": null,
            "overflow": null,
            "overflow_x": null,
            "overflow_y": null,
            "padding": null,
            "right": null,
            "top": null,
            "visibility": null,
            "width": null
          }
        },
        "dfa10032d6b2425191429ffcec015702": {
          "model_module": "@jupyter-widgets/controls",
          "model_module_version": "1.5.0",
          "model_name": "FloatProgressModel",
          "state": {
            "_dom_classes": [],
            "_model_module": "@jupyter-widgets/controls",
            "_model_module_version": "1.5.0",
            "_model_name": "FloatProgressModel",
            "_view_count": null,
            "_view_module": "@jupyter-widgets/controls",
            "_view_module_version": "1.5.0",
            "_view_name": "ProgressView",
            "bar_style": "success",
            "description": "",
            "description_tooltip": null,
            "layout": "IPY_MODEL_9d682de7be7649829c6e4a41ea0e6faa",
            "max": 100,
            "min": 0,
            "orientation": "horizontal",
            "style": "IPY_MODEL_42c4a4c206d14097ae9bb43b7ad1a633",
            "value": 100
          }
        },
        "eb50f82f51b14141bb2b01a5202c2aec": {
          "model_module": "@jupyter-widgets/controls",
          "model_module_version": "1.5.0",
          "model_name": "HTMLModel",
          "state": {
            "_dom_classes": [],
            "_model_module": "@jupyter-widgets/controls",
            "_model_module_version": "1.5.0",
            "_model_name": "HTMLModel",
            "_view_count": null,
            "_view_module": "@jupyter-widgets/controls",
            "_view_module_version": "1.5.0",
            "_view_name": "HTMLView",
            "description": "",
            "description_tooltip": null,
            "layout": "IPY_MODEL_f53075184cdb4574baded143781d7617",
            "placeholder": "​",
            "style": "IPY_MODEL_8f7bfca1dbe74ea38cbd3ac3526647e4",
            "value": " 100/100 [02:03&lt;00:00,  1.53s/it, Energy=-8.716+0.003j ± 0.017 [σ²=0.523, R̂=1.0778]]"
          }
        },
        "f2aa1bd6ee2a4775b60acb9456bd703a": {
          "model_module": "@jupyter-widgets/controls",
          "model_module_version": "1.5.0",
          "model_name": "HBoxModel",
          "state": {
            "_dom_classes": [],
            "_model_module": "@jupyter-widgets/controls",
            "_model_module_version": "1.5.0",
            "_model_name": "HBoxModel",
            "_view_count": null,
            "_view_module": "@jupyter-widgets/controls",
            "_view_module_version": "1.5.0",
            "_view_name": "HBoxView",
            "box_style": "",
            "children": [
              "IPY_MODEL_747739bf89be4196915537ef7e0d8bbf",
              "IPY_MODEL_d4cd78c2e35b41e38f412a0bf60aa1f8",
              "IPY_MODEL_eb50f82f51b14141bb2b01a5202c2aec"
            ],
            "layout": "IPY_MODEL_67ada7e0be6c4e1db56d86b192e837e9"
          }
        },
        "f53075184cdb4574baded143781d7617": {
          "model_module": "@jupyter-widgets/base",
          "model_module_version": "1.2.0",
          "model_name": "LayoutModel",
          "state": {
            "_model_module": "@jupyter-widgets/base",
            "_model_module_version": "1.2.0",
            "_model_name": "LayoutModel",
            "_view_count": null,
            "_view_module": "@jupyter-widgets/base",
            "_view_module_version": "1.2.0",
            "_view_name": "LayoutView",
            "align_content": null,
            "align_items": null,
            "align_self": null,
            "border": null,
            "bottom": null,
            "display": null,
            "flex": null,
            "flex_flow": null,
            "grid_area": null,
            "grid_auto_columns": null,
            "grid_auto_flow": null,
            "grid_auto_rows": null,
            "grid_column": null,
            "grid_gap": null,
            "grid_row": null,
            "grid_template_areas": null,
            "grid_template_columns": null,
            "grid_template_rows": null,
            "height": null,
            "justify_content": null,
            "justify_items": null,
            "left": null,
            "margin": null,
            "max_height": null,
            "max_width": null,
            "min_height": null,
            "min_width": null,
            "object_fit": null,
            "object_position": null,
            "order": null,
            "overflow": null,
            "overflow_x": null,
            "overflow_y": null,
            "padding": null,
            "right": null,
            "top": null,
            "visibility": null,
            "width": null
          }
        }
      }
    }
  },
  "nbformat": 4,
  "nbformat_minor": 5
}
